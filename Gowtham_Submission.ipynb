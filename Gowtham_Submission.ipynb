{
 "cells": [
  {
   "cell_type": "code",
   "execution_count": 1,
   "metadata": {},
   "outputs": [],
   "source": [
    "import numpy as np\n",
    "import pandas as pd\n",
    "import matplotlib.pyplot as plt\n",
    "import seaborn as sns\n",
    "%matplotlib inline"
   ]
  },
  {
   "cell_type": "code",
   "execution_count": 2,
   "metadata": {},
   "outputs": [],
   "source": [
    "tr_df = pd.read_csv('train.csv')"
   ]
  },
  {
   "cell_type": "code",
   "execution_count": 6,
   "metadata": {},
   "outputs": [
    {
     "data": {
      "text/html": [
       "<div>\n",
       "<style scoped>\n",
       "    .dataframe tbody tr th:only-of-type {\n",
       "        vertical-align: middle;\n",
       "    }\n",
       "\n",
       "    .dataframe tbody tr th {\n",
       "        vertical-align: top;\n",
       "    }\n",
       "\n",
       "    .dataframe thead th {\n",
       "        text-align: right;\n",
       "    }\n",
       "</style>\n",
       "<table border=\"1\" class=\"dataframe\">\n",
       "  <thead>\n",
       "    <tr style=\"text-align: right;\">\n",
       "      <th></th>\n",
       "      <th>User_ID</th>\n",
       "      <th>Product_ID</th>\n",
       "      <th>Gender</th>\n",
       "      <th>Age</th>\n",
       "      <th>Occupation</th>\n",
       "      <th>City_Category</th>\n",
       "      <th>Stay_In_Current_City_Years</th>\n",
       "      <th>Marital_Status</th>\n",
       "      <th>Product_Category_1</th>\n",
       "      <th>Product_Category_2</th>\n",
       "      <th>Product_Category_3</th>\n",
       "      <th>Purchase</th>\n",
       "    </tr>\n",
       "  </thead>\n",
       "  <tbody>\n",
       "    <tr>\n",
       "      <th>0</th>\n",
       "      <td>1000001</td>\n",
       "      <td>P00069042</td>\n",
       "      <td>F</td>\n",
       "      <td>0-17</td>\n",
       "      <td>10</td>\n",
       "      <td>A</td>\n",
       "      <td>2</td>\n",
       "      <td>0</td>\n",
       "      <td>3</td>\n",
       "      <td>NaN</td>\n",
       "      <td>NaN</td>\n",
       "      <td>8370</td>\n",
       "    </tr>\n",
       "    <tr>\n",
       "      <th>1</th>\n",
       "      <td>1000001</td>\n",
       "      <td>P00248942</td>\n",
       "      <td>F</td>\n",
       "      <td>0-17</td>\n",
       "      <td>10</td>\n",
       "      <td>A</td>\n",
       "      <td>2</td>\n",
       "      <td>0</td>\n",
       "      <td>1</td>\n",
       "      <td>6.0</td>\n",
       "      <td>14.0</td>\n",
       "      <td>15200</td>\n",
       "    </tr>\n",
       "    <tr>\n",
       "      <th>2</th>\n",
       "      <td>1000001</td>\n",
       "      <td>P00087842</td>\n",
       "      <td>F</td>\n",
       "      <td>0-17</td>\n",
       "      <td>10</td>\n",
       "      <td>A</td>\n",
       "      <td>2</td>\n",
       "      <td>0</td>\n",
       "      <td>12</td>\n",
       "      <td>NaN</td>\n",
       "      <td>NaN</td>\n",
       "      <td>1422</td>\n",
       "    </tr>\n",
       "    <tr>\n",
       "      <th>3</th>\n",
       "      <td>1000001</td>\n",
       "      <td>P00085442</td>\n",
       "      <td>F</td>\n",
       "      <td>0-17</td>\n",
       "      <td>10</td>\n",
       "      <td>A</td>\n",
       "      <td>2</td>\n",
       "      <td>0</td>\n",
       "      <td>12</td>\n",
       "      <td>14.0</td>\n",
       "      <td>NaN</td>\n",
       "      <td>1057</td>\n",
       "    </tr>\n",
       "    <tr>\n",
       "      <th>4</th>\n",
       "      <td>1000002</td>\n",
       "      <td>P00285442</td>\n",
       "      <td>M</td>\n",
       "      <td>55+</td>\n",
       "      <td>16</td>\n",
       "      <td>C</td>\n",
       "      <td>4+</td>\n",
       "      <td>0</td>\n",
       "      <td>8</td>\n",
       "      <td>NaN</td>\n",
       "      <td>NaN</td>\n",
       "      <td>7969</td>\n",
       "    </tr>\n",
       "  </tbody>\n",
       "</table>\n",
       "</div>"
      ],
      "text/plain": [
       "   User_ID Product_ID Gender   Age  Occupation City_Category  \\\n",
       "0  1000001  P00069042      F  0-17          10             A   \n",
       "1  1000001  P00248942      F  0-17          10             A   \n",
       "2  1000001  P00087842      F  0-17          10             A   \n",
       "3  1000001  P00085442      F  0-17          10             A   \n",
       "4  1000002  P00285442      M   55+          16             C   \n",
       "\n",
       "  Stay_In_Current_City_Years  Marital_Status  Product_Category_1  \\\n",
       "0                          2               0                   3   \n",
       "1                          2               0                   1   \n",
       "2                          2               0                  12   \n",
       "3                          2               0                  12   \n",
       "4                         4+               0                   8   \n",
       "\n",
       "   Product_Category_2  Product_Category_3  Purchase  \n",
       "0                 NaN                 NaN      8370  \n",
       "1                 6.0                14.0     15200  \n",
       "2                 NaN                 NaN      1422  \n",
       "3                14.0                 NaN      1057  \n",
       "4                 NaN                 NaN      7969  "
      ]
     },
     "execution_count": 6,
     "metadata": {},
     "output_type": "execute_result"
    }
   ],
   "source": [
    "tr_df.head()"
   ]
  },
  {
   "cell_type": "code",
   "execution_count": null,
   "metadata": {},
   "outputs": [],
   "source": []
  },
  {
   "cell_type": "code",
   "execution_count": 4,
   "metadata": {},
   "outputs": [
    {
     "name": "stdout",
     "output_type": "stream",
     "text": [
      "<class 'pandas.core.frame.DataFrame'>\n",
      "RangeIndex: 550068 entries, 0 to 550067\n",
      "Data columns (total 12 columns):\n",
      " #   Column                      Non-Null Count   Dtype  \n",
      "---  ------                      --------------   -----  \n",
      " 0   User_ID                     550068 non-null  int64  \n",
      " 1   Product_ID                  550068 non-null  object \n",
      " 2   Gender                      550068 non-null  object \n",
      " 3   Age                         550068 non-null  object \n",
      " 4   Occupation                  550068 non-null  int64  \n",
      " 5   City_Category               550068 non-null  object \n",
      " 6   Stay_In_Current_City_Years  550068 non-null  object \n",
      " 7   Marital_Status              550068 non-null  int64  \n",
      " 8   Product_Category_1          550068 non-null  int64  \n",
      " 9   Product_Category_2          376430 non-null  float64\n",
      " 10  Product_Category_3          166821 non-null  float64\n",
      " 11  Purchase                    550068 non-null  int64  \n",
      "dtypes: float64(2), int64(5), object(5)\n",
      "memory usage: 50.4+ MB\n"
     ]
    }
   ],
   "source": [
    "tr_df.info()"
   ]
  },
  {
   "cell_type": "code",
   "execution_count": 5,
   "metadata": {},
   "outputs": [],
   "source": [
    "#There are few missing values in Product_category_2 and roduct_Category_3 \n",
    "#5 object categories whcih will not help us showing the statistical features"
   ]
  },
  {
   "cell_type": "code",
   "execution_count": 7,
   "metadata": {},
   "outputs": [
    {
     "data": {
      "text/plain": [
       "5891"
      ]
     },
     "execution_count": 7,
     "metadata": {},
     "output_type": "execute_result"
    }
   ],
   "source": [
    "tr_df.User_ID.nunique()"
   ]
  },
  {
   "cell_type": "code",
   "execution_count": 7,
   "metadata": {},
   "outputs": [
    {
     "data": {
      "text/plain": [
       "1001680    1026\n",
       "1004277     979\n",
       "1001941     898\n",
       "1001181     862\n",
       "1000889     823\n",
       "           ... \n",
       "1000094       7\n",
       "1002111       7\n",
       "1004991       7\n",
       "1005608       7\n",
       "1000708       6\n",
       "Name: User_ID, Length: 5891, dtype: int64"
      ]
     },
     "execution_count": 7,
     "metadata": {},
     "output_type": "execute_result"
    }
   ],
   "source": [
    "tr_df['User_ID'].value_counts()"
   ]
  },
  {
   "cell_type": "code",
   "execution_count": 8,
   "metadata": {},
   "outputs": [],
   "source": [
    "#User_ID is not completely unique so we can cosider this during model."
   ]
  },
  {
   "cell_type": "code",
   "execution_count": 9,
   "metadata": {},
   "outputs": [
    {
     "data": {
      "text/plain": [
       "3631"
      ]
     },
     "execution_count": 9,
     "metadata": {},
     "output_type": "execute_result"
    }
   ],
   "source": [
    "tr_df['Product_ID'].nunique()"
   ]
  },
  {
   "cell_type": "code",
   "execution_count": 10,
   "metadata": {},
   "outputs": [
    {
     "data": {
      "text/plain": [
       "P00265242    1880\n",
       "P00025442    1615\n",
       "P00110742    1612\n",
       "P00112142    1562\n",
       "P00057642    1470\n",
       "             ... \n",
       "P00348142       1\n",
       "P00185942       1\n",
       "P00065942       1\n",
       "P00169842       1\n",
       "P00077542       1\n",
       "Name: Product_ID, Length: 3631, dtype: int64"
      ]
     },
     "execution_count": 10,
     "metadata": {},
     "output_type": "execute_result"
    }
   ],
   "source": [
    "tr_df['Product_ID'].value_counts()"
   ]
  },
  {
   "cell_type": "code",
   "execution_count": 11,
   "metadata": {},
   "outputs": [],
   "source": [
    "#Product_ID is also not completely unique so we can cosider this during model.\n",
    "#Further the dtype is object which has to be converted using encoder for utilizing during model training"
   ]
  },
  {
   "cell_type": "code",
   "execution_count": 12,
   "metadata": {},
   "outputs": [
    {
     "data": {
      "text/plain": [
       "7"
      ]
     },
     "execution_count": 12,
     "metadata": {},
     "output_type": "execute_result"
    }
   ],
   "source": [
    "tr_df['Age'].nunique()"
   ]
  },
  {
   "cell_type": "code",
   "execution_count": 13,
   "metadata": {},
   "outputs": [
    {
     "data": {
      "text/plain": [
       "26-35    219587\n",
       "36-45    110013\n",
       "18-25     99660\n",
       "46-50     45701\n",
       "51-55     38501\n",
       "55+       21504\n",
       "0-17      15102\n",
       "Name: Age, dtype: int64"
      ]
     },
     "execution_count": 13,
     "metadata": {},
     "output_type": "execute_result"
    }
   ],
   "source": [
    "tr_df['Age'].value_counts()"
   ]
  },
  {
   "cell_type": "code",
   "execution_count": 14,
   "metadata": {},
   "outputs": [],
   "source": [
    "#The Age feature has values in the form of range which has to be changed.\n",
    "#Either we can have the average of the age or we can also consider the initital or the final values of each categories"
   ]
  },
  {
   "cell_type": "code",
   "execution_count": 15,
   "metadata": {},
   "outputs": [
    {
     "data": {
      "text/plain": [
       "21"
      ]
     },
     "execution_count": 15,
     "metadata": {},
     "output_type": "execute_result"
    }
   ],
   "source": [
    "tr_df['Occupation'].nunique()"
   ]
  },
  {
   "cell_type": "code",
   "execution_count": 16,
   "metadata": {},
   "outputs": [
    {
     "data": {
      "text/plain": [
       "4     72308\n",
       "0     69638\n",
       "7     59133\n",
       "1     47426\n",
       "17    40043\n",
       "20    33562\n",
       "12    31179\n",
       "14    27309\n",
       "2     26588\n",
       "16    25371\n",
       "6     20355\n",
       "3     17650\n",
       "10    12930\n",
       "5     12177\n",
       "15    12165\n",
       "11    11586\n",
       "19     8461\n",
       "13     7728\n",
       "18     6622\n",
       "9      6291\n",
       "8      1546\n",
       "Name: Occupation, dtype: int64"
      ]
     },
     "execution_count": 16,
     "metadata": {},
     "output_type": "execute_result"
    }
   ],
   "source": [
    "tr_df['Occupation'].value_counts()"
   ]
  },
  {
   "cell_type": "code",
   "execution_count": 17,
   "metadata": {},
   "outputs": [],
   "source": [
    "#Occupation feature is categorical"
   ]
  },
  {
   "cell_type": "code",
   "execution_count": 18,
   "metadata": {},
   "outputs": [
    {
     "data": {
      "text/plain": [
       "3"
      ]
     },
     "execution_count": 18,
     "metadata": {},
     "output_type": "execute_result"
    }
   ],
   "source": [
    "tr_df['City_Category'].nunique()"
   ]
  },
  {
   "cell_type": "code",
   "execution_count": 19,
   "metadata": {},
   "outputs": [
    {
     "data": {
      "text/plain": [
       "B    231173\n",
       "C    171175\n",
       "A    147720\n",
       "Name: City_Category, dtype: int64"
      ]
     },
     "execution_count": 19,
     "metadata": {},
     "output_type": "execute_result"
    }
   ],
   "source": [
    "tr_df['City_Category'].value_counts()"
   ]
  },
  {
   "cell_type": "code",
   "execution_count": 20,
   "metadata": {},
   "outputs": [],
   "source": [
    "#More people belongs to city-B. But all the citites have almost equal strength."
   ]
  },
  {
   "cell_type": "code",
   "execution_count": 8,
   "metadata": {},
   "outputs": [
    {
     "name": "stdout",
     "output_type": "stream",
     "text": [
      "Enter the name of the feature: Age\n",
      "Unique values: 7\n"
     ]
    }
   ],
   "source": [
    "#Feature Automation\n",
    "x = input('Enter the name of the feature: ')\n",
    "#print(x)\n",
    "y = tr_df[x]\n",
    "print('Unique values:', y.nunique())"
   ]
  },
  {
   "cell_type": "code",
   "execution_count": 22,
   "metadata": {},
   "outputs": [
    {
     "name": "stdout",
     "output_type": "stream",
     "text": [
      "Unique values of User_ID is: 5891 -------\n",
      "Counts of feature User_ID is: 1001680    1026\n",
      "1004277     979\n",
      "1001941     898\n",
      "1001181     862\n",
      "1000889     823\n",
      "           ... \n",
      "1000094       7\n",
      "1002111       7\n",
      "1004991       7\n",
      "1005608       7\n",
      "1000708       6\n",
      "Name: User_ID, Length: 5891, dtype: int64\n",
      "Unique values of Product_ID is: 3631 -------\n",
      "Counts of feature Product_ID is: P00265242    1880\n",
      "P00025442    1615\n",
      "P00110742    1612\n",
      "P00112142    1562\n",
      "P00057642    1470\n",
      "             ... \n",
      "P00348142       1\n",
      "P00185942       1\n",
      "P00065942       1\n",
      "P00169842       1\n",
      "P00077542       1\n",
      "Name: Product_ID, Length: 3631, dtype: int64\n",
      "Unique values of Gender is: 2 -------\n",
      "Counts of feature Gender is: M    414259\n",
      "F    135809\n",
      "Name: Gender, dtype: int64\n",
      "Unique values of Age is: 7 -------\n",
      "Counts of feature Age is: 26-35    219587\n",
      "36-45    110013\n",
      "18-25     99660\n",
      "46-50     45701\n",
      "51-55     38501\n",
      "55+       21504\n",
      "0-17      15102\n",
      "Name: Age, dtype: int64\n",
      "Unique values of Occupation is: 21 -------\n",
      "Counts of feature Occupation is: 4     72308\n",
      "0     69638\n",
      "7     59133\n",
      "1     47426\n",
      "17    40043\n",
      "20    33562\n",
      "12    31179\n",
      "14    27309\n",
      "2     26588\n",
      "16    25371\n",
      "6     20355\n",
      "3     17650\n",
      "10    12930\n",
      "5     12177\n",
      "15    12165\n",
      "11    11586\n",
      "19     8461\n",
      "13     7728\n",
      "18     6622\n",
      "9      6291\n",
      "8      1546\n",
      "Name: Occupation, dtype: int64\n",
      "Unique values of City_Category is: 3 -------\n",
      "Counts of feature City_Category is: B    231173\n",
      "C    171175\n",
      "A    147720\n",
      "Name: City_Category, dtype: int64\n",
      "Unique values of Stay_In_Current_City_Years is: 5 -------\n",
      "Counts of feature Stay_In_Current_City_Years is: 1     193821\n",
      "2     101838\n",
      "3      95285\n",
      "4+     84726\n",
      "0      74398\n",
      "Name: Stay_In_Current_City_Years, dtype: int64\n",
      "Unique values of Marital_Status is: 2 -------\n",
      "Counts of feature Marital_Status is: 0    324731\n",
      "1    225337\n",
      "Name: Marital_Status, dtype: int64\n",
      "Unique values of Product_Category_1 is: 20 -------\n",
      "Counts of feature Product_Category_1 is: 5     150933\n",
      "1     140378\n",
      "8     113925\n",
      "11     24287\n",
      "2      23864\n",
      "6      20466\n",
      "3      20213\n",
      "4      11753\n",
      "16      9828\n",
      "15      6290\n",
      "13      5549\n",
      "10      5125\n",
      "12      3947\n",
      "7       3721\n",
      "18      3125\n",
      "20      2550\n",
      "19      1603\n",
      "14      1523\n",
      "17       578\n",
      "9        410\n",
      "Name: Product_Category_1, dtype: int64\n",
      "Unique values of Product_Category_2 is: 17 -------\n",
      "Counts of feature Product_Category_2 is: 8.0     64088\n",
      "14.0    55108\n",
      "2.0     49217\n",
      "16.0    43255\n",
      "15.0    37855\n",
      "5.0     26235\n",
      "4.0     25677\n",
      "6.0     16466\n",
      "11.0    14134\n",
      "17.0    13320\n",
      "13.0    10531\n",
      "9.0      5693\n",
      "12.0     5528\n",
      "10.0     3043\n",
      "3.0      2884\n",
      "18.0     2770\n",
      "7.0       626\n",
      "Name: Product_Category_2, dtype: int64\n",
      "Unique values of Product_Category_3 is: 15 -------\n",
      "Counts of feature Product_Category_3 is: 16.0    32636\n",
      "15.0    28013\n",
      "14.0    18428\n",
      "17.0    16702\n",
      "5.0     16658\n",
      "8.0     12562\n",
      "9.0     11579\n",
      "12.0     9246\n",
      "13.0     5459\n",
      "6.0      4890\n",
      "18.0     4629\n",
      "4.0      1875\n",
      "11.0     1805\n",
      "10.0     1726\n",
      "3.0       613\n",
      "Name: Product_Category_3, dtype: int64\n",
      "Unique values of Purchase is: 18105 -------\n",
      "Counts of feature Purchase is: 7011     191\n",
      "7193     188\n",
      "6855     187\n",
      "6891     184\n",
      "6960     183\n",
      "        ... \n",
      "15105      1\n",
      "14384      1\n",
      "10453      1\n",
      "8537       1\n",
      "14640      1\n",
      "Name: Purchase, Length: 18105, dtype: int64\n"
     ]
    }
   ],
   "source": [
    "l = ['User_ID', 'Product_ID', 'Gender', 'Age', 'Occupation', 'City_Category', 'Stay_In_Current_City_Years', 'Marital_Status', 'Product_Category_1', 'Product_Category_2', 'Product_Category_3', 'Purchase']\n",
    "for i in l:\n",
    "    y = tr_df[i]\n",
    "    print('Unique values of', i, 'is:', y.nunique(), '-------')\n",
    "    print('Counts of feature', i, 'is:', y.value_counts())\n",
    "    "
   ]
  },
  {
   "cell_type": "code",
   "execution_count": 23,
   "metadata": {},
   "outputs": [],
   "source": [
    "#"
   ]
  },
  {
   "cell_type": "code",
   "execution_count": 10,
   "metadata": {},
   "outputs": [
    {
     "data": {
      "text/plain": [
       "User_ID                            0\n",
       "Product_ID                         0\n",
       "Gender                             0\n",
       "Age                                0\n",
       "Occupation                         0\n",
       "City_Category                      0\n",
       "Stay_In_Current_City_Years         0\n",
       "Marital_Status                     0\n",
       "Product_Category_1                 0\n",
       "Product_Category_2            173638\n",
       "Product_Category_3            383247\n",
       "Purchase                           0\n",
       "dtype: int64"
      ]
     },
     "execution_count": 10,
     "metadata": {},
     "output_type": "execute_result"
    }
   ],
   "source": [
    "tr_df.isnull().sum()"
   ]
  },
  {
   "cell_type": "code",
   "execution_count": 25,
   "metadata": {},
   "outputs": [
    {
     "data": {
      "text/plain": [
       "User_ID                       0.000000\n",
       "Product_ID                    0.000000\n",
       "Gender                        0.000000\n",
       "Age                           0.000000\n",
       "Occupation                    0.000000\n",
       "City_Category                 0.000000\n",
       "Stay_In_Current_City_Years    0.000000\n",
       "Marital_Status                0.000000\n",
       "Product_Category_1            0.000000\n",
       "Product_Category_2            0.315666\n",
       "Product_Category_3            0.696727\n",
       "Purchase                      0.000000\n",
       "dtype: float64"
      ]
     },
     "execution_count": 25,
     "metadata": {},
     "output_type": "execute_result"
    }
   ],
   "source": [
    "#Only two features have null values, Lets see the % of those two features\n",
    "tr_df.isnull().sum()/(len(tr_df))"
   ]
  },
  {
   "cell_type": "markdown",
   "metadata": {},
   "source": [
    "* We see that around 69% missing values in 'Product_Category_3' and 31% in 'Product_Category_2'. We can't remove those rows as the % of missing values are higher, so removal of these rows will result in heavy loss of information."
   ]
  },
  {
   "cell_type": "markdown",
   "metadata": {},
   "source": [
    "* There are different ways of replacing the missing values.\n",
    "1. Removing those datas --> Loss of information\n",
    "2. Replacing with Mean --> Can be affected by outliers\n",
    "3. Median --> Most used method\n",
    "4. Missing value imputation (KNN) --> Most prefered method"
   ]
  },
  {
   "cell_type": "code",
   "execution_count": 26,
   "metadata": {},
   "outputs": [],
   "source": [
    "#First let us try with median replacement and then move further\n",
    "tr_df1 = tr_df.fillna(tr_df.median())"
   ]
  },
  {
   "cell_type": "code",
   "execution_count": 27,
   "metadata": {},
   "outputs": [
    {
     "data": {
      "text/html": [
       "<div>\n",
       "<style scoped>\n",
       "    .dataframe tbody tr th:only-of-type {\n",
       "        vertical-align: middle;\n",
       "    }\n",
       "\n",
       "    .dataframe tbody tr th {\n",
       "        vertical-align: top;\n",
       "    }\n",
       "\n",
       "    .dataframe thead th {\n",
       "        text-align: right;\n",
       "    }\n",
       "</style>\n",
       "<table border=\"1\" class=\"dataframe\">\n",
       "  <thead>\n",
       "    <tr style=\"text-align: right;\">\n",
       "      <th></th>\n",
       "      <th>User_ID</th>\n",
       "      <th>Product_ID</th>\n",
       "      <th>Gender</th>\n",
       "      <th>Age</th>\n",
       "      <th>Occupation</th>\n",
       "      <th>City_Category</th>\n",
       "      <th>Stay_In_Current_City_Years</th>\n",
       "      <th>Marital_Status</th>\n",
       "      <th>Product_Category_1</th>\n",
       "      <th>Product_Category_2</th>\n",
       "      <th>Product_Category_3</th>\n",
       "      <th>Purchase</th>\n",
       "    </tr>\n",
       "  </thead>\n",
       "  <tbody>\n",
       "    <tr>\n",
       "      <th>0</th>\n",
       "      <td>1000001</td>\n",
       "      <td>P00069042</td>\n",
       "      <td>F</td>\n",
       "      <td>0-17</td>\n",
       "      <td>10</td>\n",
       "      <td>A</td>\n",
       "      <td>2</td>\n",
       "      <td>0</td>\n",
       "      <td>3</td>\n",
       "      <td>9.0</td>\n",
       "      <td>14.0</td>\n",
       "      <td>8370</td>\n",
       "    </tr>\n",
       "    <tr>\n",
       "      <th>1</th>\n",
       "      <td>1000001</td>\n",
       "      <td>P00248942</td>\n",
       "      <td>F</td>\n",
       "      <td>0-17</td>\n",
       "      <td>10</td>\n",
       "      <td>A</td>\n",
       "      <td>2</td>\n",
       "      <td>0</td>\n",
       "      <td>1</td>\n",
       "      <td>6.0</td>\n",
       "      <td>14.0</td>\n",
       "      <td>15200</td>\n",
       "    </tr>\n",
       "    <tr>\n",
       "      <th>2</th>\n",
       "      <td>1000001</td>\n",
       "      <td>P00087842</td>\n",
       "      <td>F</td>\n",
       "      <td>0-17</td>\n",
       "      <td>10</td>\n",
       "      <td>A</td>\n",
       "      <td>2</td>\n",
       "      <td>0</td>\n",
       "      <td>12</td>\n",
       "      <td>9.0</td>\n",
       "      <td>14.0</td>\n",
       "      <td>1422</td>\n",
       "    </tr>\n",
       "    <tr>\n",
       "      <th>3</th>\n",
       "      <td>1000001</td>\n",
       "      <td>P00085442</td>\n",
       "      <td>F</td>\n",
       "      <td>0-17</td>\n",
       "      <td>10</td>\n",
       "      <td>A</td>\n",
       "      <td>2</td>\n",
       "      <td>0</td>\n",
       "      <td>12</td>\n",
       "      <td>14.0</td>\n",
       "      <td>14.0</td>\n",
       "      <td>1057</td>\n",
       "    </tr>\n",
       "    <tr>\n",
       "      <th>4</th>\n",
       "      <td>1000002</td>\n",
       "      <td>P00285442</td>\n",
       "      <td>M</td>\n",
       "      <td>55+</td>\n",
       "      <td>16</td>\n",
       "      <td>C</td>\n",
       "      <td>4+</td>\n",
       "      <td>0</td>\n",
       "      <td>8</td>\n",
       "      <td>9.0</td>\n",
       "      <td>14.0</td>\n",
       "      <td>7969</td>\n",
       "    </tr>\n",
       "  </tbody>\n",
       "</table>\n",
       "</div>"
      ],
      "text/plain": [
       "   User_ID Product_ID Gender   Age  Occupation City_Category  \\\n",
       "0  1000001  P00069042      F  0-17          10             A   \n",
       "1  1000001  P00248942      F  0-17          10             A   \n",
       "2  1000001  P00087842      F  0-17          10             A   \n",
       "3  1000001  P00085442      F  0-17          10             A   \n",
       "4  1000002  P00285442      M   55+          16             C   \n",
       "\n",
       "  Stay_In_Current_City_Years  Marital_Status  Product_Category_1  \\\n",
       "0                          2               0                   3   \n",
       "1                          2               0                   1   \n",
       "2                          2               0                  12   \n",
       "3                          2               0                  12   \n",
       "4                         4+               0                   8   \n",
       "\n",
       "   Product_Category_2  Product_Category_3  Purchase  \n",
       "0                 9.0                14.0      8370  \n",
       "1                 6.0                14.0     15200  \n",
       "2                 9.0                14.0      1422  \n",
       "3                14.0                14.0      1057  \n",
       "4                 9.0                14.0      7969  "
      ]
     },
     "execution_count": 27,
     "metadata": {},
     "output_type": "execute_result"
    }
   ],
   "source": [
    "tr_df1.head()"
   ]
  },
  {
   "cell_type": "code",
   "execution_count": 28,
   "metadata": {},
   "outputs": [
    {
     "data": {
      "text/plain": [
       "User_ID                       0\n",
       "Product_ID                    0\n",
       "Gender                        0\n",
       "Age                           0\n",
       "Occupation                    0\n",
       "City_Category                 0\n",
       "Stay_In_Current_City_Years    0\n",
       "Marital_Status                0\n",
       "Product_Category_1            0\n",
       "Product_Category_2            0\n",
       "Product_Category_3            0\n",
       "Purchase                      0\n",
       "dtype: int64"
      ]
     },
     "execution_count": 28,
     "metadata": {},
     "output_type": "execute_result"
    }
   ],
   "source": [
    "tr_df1.isnull().sum()"
   ]
  },
  {
   "cell_type": "code",
   "execution_count": 29,
   "metadata": {},
   "outputs": [],
   "source": [
    "#Converting Age feature with the average of the ranges\n"
   ]
  },
  {
   "cell_type": "code",
   "execution_count": 30,
   "metadata": {},
   "outputs": [],
   "source": [
    " #Repalcing the age 0-17 to 00-17 & 55+ to 55\n",
    "tr_df1['Age'] = tr_df1['Age'].replace('0-17', '00-17')\n",
    "tr_df1['Age'] = tr_df1['Age'].replace('55+', '55-55')"
   ]
  },
  {
   "cell_type": "code",
   "execution_count": 31,
   "metadata": {},
   "outputs": [
    {
     "data": {
      "text/plain": [
       "26-35    219587\n",
       "36-45    110013\n",
       "18-25     99660\n",
       "46-50     45701\n",
       "51-55     38501\n",
       "55-55     21504\n",
       "00-17     15102\n",
       "Name: Age, dtype: int64"
      ]
     },
     "execution_count": 31,
     "metadata": {},
     "output_type": "execute_result"
    }
   ],
   "source": [
    "tr_df1['Age'].value_counts()"
   ]
  },
  {
   "cell_type": "code",
   "execution_count": null,
   "metadata": {},
   "outputs": [],
   "source": []
  },
  {
   "cell_type": "code",
   "execution_count": 32,
   "metadata": {},
   "outputs": [],
   "source": [
    "tr_df1['Age1'] = tr_df1['Age'].str[0:2]\n",
    "tr_df1['Age2'] = tr_df1['Age'].str[3:5]\n",
    "#tr_df1['Age_avg'] = (tr_df1['Age1'] + tr_df1['Age2'])/2"
   ]
  },
  {
   "cell_type": "code",
   "execution_count": 33,
   "metadata": {},
   "outputs": [
    {
     "data": {
      "text/plain": [
       "26    219587\n",
       "36    110013\n",
       "18     99660\n",
       "46     45701\n",
       "51     38501\n",
       "55     21504\n",
       "00     15102\n",
       "Name: Age1, dtype: int64"
      ]
     },
     "execution_count": 33,
     "metadata": {},
     "output_type": "execute_result"
    }
   ],
   "source": [
    "tr_df1['Age1'].value_counts()"
   ]
  },
  {
   "cell_type": "code",
   "execution_count": 34,
   "metadata": {},
   "outputs": [
    {
     "data": {
      "text/plain": [
       "35    219587\n",
       "45    110013\n",
       "25     99660\n",
       "55     60005\n",
       "50     45701\n",
       "17     15102\n",
       "Name: Age2, dtype: int64"
      ]
     },
     "execution_count": 34,
     "metadata": {},
     "output_type": "execute_result"
    }
   ],
   "source": [
    "tr_df1['Age2'].value_counts()"
   ]
  },
  {
   "cell_type": "code",
   "execution_count": 35,
   "metadata": {},
   "outputs": [
    {
     "data": {
      "text/html": [
       "<div>\n",
       "<style scoped>\n",
       "    .dataframe tbody tr th:only-of-type {\n",
       "        vertical-align: middle;\n",
       "    }\n",
       "\n",
       "    .dataframe tbody tr th {\n",
       "        vertical-align: top;\n",
       "    }\n",
       "\n",
       "    .dataframe thead th {\n",
       "        text-align: right;\n",
       "    }\n",
       "</style>\n",
       "<table border=\"1\" class=\"dataframe\">\n",
       "  <thead>\n",
       "    <tr style=\"text-align: right;\">\n",
       "      <th></th>\n",
       "      <th>User_ID</th>\n",
       "      <th>Product_ID</th>\n",
       "      <th>Gender</th>\n",
       "      <th>Age</th>\n",
       "      <th>Occupation</th>\n",
       "      <th>City_Category</th>\n",
       "      <th>Stay_In_Current_City_Years</th>\n",
       "      <th>Marital_Status</th>\n",
       "      <th>Product_Category_1</th>\n",
       "      <th>Product_Category_2</th>\n",
       "      <th>Product_Category_3</th>\n",
       "      <th>Purchase</th>\n",
       "      <th>Age1</th>\n",
       "      <th>Age2</th>\n",
       "    </tr>\n",
       "  </thead>\n",
       "  <tbody>\n",
       "    <tr>\n",
       "      <th>0</th>\n",
       "      <td>1000001</td>\n",
       "      <td>P00069042</td>\n",
       "      <td>F</td>\n",
       "      <td>00-17</td>\n",
       "      <td>10</td>\n",
       "      <td>A</td>\n",
       "      <td>2</td>\n",
       "      <td>0</td>\n",
       "      <td>3</td>\n",
       "      <td>9.0</td>\n",
       "      <td>14.0</td>\n",
       "      <td>8370</td>\n",
       "      <td>00</td>\n",
       "      <td>17</td>\n",
       "    </tr>\n",
       "    <tr>\n",
       "      <th>1</th>\n",
       "      <td>1000001</td>\n",
       "      <td>P00248942</td>\n",
       "      <td>F</td>\n",
       "      <td>00-17</td>\n",
       "      <td>10</td>\n",
       "      <td>A</td>\n",
       "      <td>2</td>\n",
       "      <td>0</td>\n",
       "      <td>1</td>\n",
       "      <td>6.0</td>\n",
       "      <td>14.0</td>\n",
       "      <td>15200</td>\n",
       "      <td>00</td>\n",
       "      <td>17</td>\n",
       "    </tr>\n",
       "    <tr>\n",
       "      <th>2</th>\n",
       "      <td>1000001</td>\n",
       "      <td>P00087842</td>\n",
       "      <td>F</td>\n",
       "      <td>00-17</td>\n",
       "      <td>10</td>\n",
       "      <td>A</td>\n",
       "      <td>2</td>\n",
       "      <td>0</td>\n",
       "      <td>12</td>\n",
       "      <td>9.0</td>\n",
       "      <td>14.0</td>\n",
       "      <td>1422</td>\n",
       "      <td>00</td>\n",
       "      <td>17</td>\n",
       "    </tr>\n",
       "    <tr>\n",
       "      <th>3</th>\n",
       "      <td>1000001</td>\n",
       "      <td>P00085442</td>\n",
       "      <td>F</td>\n",
       "      <td>00-17</td>\n",
       "      <td>10</td>\n",
       "      <td>A</td>\n",
       "      <td>2</td>\n",
       "      <td>0</td>\n",
       "      <td>12</td>\n",
       "      <td>14.0</td>\n",
       "      <td>14.0</td>\n",
       "      <td>1057</td>\n",
       "      <td>00</td>\n",
       "      <td>17</td>\n",
       "    </tr>\n",
       "    <tr>\n",
       "      <th>4</th>\n",
       "      <td>1000002</td>\n",
       "      <td>P00285442</td>\n",
       "      <td>M</td>\n",
       "      <td>55-55</td>\n",
       "      <td>16</td>\n",
       "      <td>C</td>\n",
       "      <td>4+</td>\n",
       "      <td>0</td>\n",
       "      <td>8</td>\n",
       "      <td>9.0</td>\n",
       "      <td>14.0</td>\n",
       "      <td>7969</td>\n",
       "      <td>55</td>\n",
       "      <td>55</td>\n",
       "    </tr>\n",
       "  </tbody>\n",
       "</table>\n",
       "</div>"
      ],
      "text/plain": [
       "   User_ID Product_ID Gender    Age  Occupation City_Category  \\\n",
       "0  1000001  P00069042      F  00-17          10             A   \n",
       "1  1000001  P00248942      F  00-17          10             A   \n",
       "2  1000001  P00087842      F  00-17          10             A   \n",
       "3  1000001  P00085442      F  00-17          10             A   \n",
       "4  1000002  P00285442      M  55-55          16             C   \n",
       "\n",
       "  Stay_In_Current_City_Years  Marital_Status  Product_Category_1  \\\n",
       "0                          2               0                   3   \n",
       "1                          2               0                   1   \n",
       "2                          2               0                  12   \n",
       "3                          2               0                  12   \n",
       "4                         4+               0                   8   \n",
       "\n",
       "   Product_Category_2  Product_Category_3  Purchase Age1 Age2  \n",
       "0                 9.0                14.0      8370   00   17  \n",
       "1                 6.0                14.0     15200   00   17  \n",
       "2                 9.0                14.0      1422   00   17  \n",
       "3                14.0                14.0      1057   00   17  \n",
       "4                 9.0                14.0      7969   55   55  "
      ]
     },
     "execution_count": 35,
     "metadata": {},
     "output_type": "execute_result"
    }
   ],
   "source": [
    "tr_df1.head()"
   ]
  },
  {
   "cell_type": "code",
   "execution_count": 36,
   "metadata": {},
   "outputs": [],
   "source": [
    "#tr_df1['Age2'] = tr_df1['Age2'].replace('', '00')"
   ]
  },
  {
   "cell_type": "code",
   "execution_count": 37,
   "metadata": {},
   "outputs": [],
   "source": [
    "#tr_df1.head()"
   ]
  },
  {
   "cell_type": "code",
   "execution_count": 38,
   "metadata": {},
   "outputs": [
    {
     "name": "stdout",
     "output_type": "stream",
     "text": [
      "<class 'pandas.core.frame.DataFrame'>\n",
      "RangeIndex: 550068 entries, 0 to 550067\n",
      "Data columns (total 14 columns):\n",
      " #   Column                      Non-Null Count   Dtype  \n",
      "---  ------                      --------------   -----  \n",
      " 0   User_ID                     550068 non-null  int64  \n",
      " 1   Product_ID                  550068 non-null  object \n",
      " 2   Gender                      550068 non-null  object \n",
      " 3   Age                         550068 non-null  object \n",
      " 4   Occupation                  550068 non-null  int64  \n",
      " 5   City_Category               550068 non-null  object \n",
      " 6   Stay_In_Current_City_Years  550068 non-null  object \n",
      " 7   Marital_Status              550068 non-null  int64  \n",
      " 8   Product_Category_1          550068 non-null  int64  \n",
      " 9   Product_Category_2          550068 non-null  float64\n",
      " 10  Product_Category_3          550068 non-null  float64\n",
      " 11  Purchase                    550068 non-null  int64  \n",
      " 12  Age1                        550068 non-null  object \n",
      " 13  Age2                        550068 non-null  object \n",
      "dtypes: float64(2), int64(5), object(7)\n",
      "memory usage: 58.8+ MB\n"
     ]
    }
   ],
   "source": [
    "tr_df1.info()"
   ]
  },
  {
   "cell_type": "code",
   "execution_count": null,
   "metadata": {},
   "outputs": [],
   "source": []
  },
  {
   "cell_type": "code",
   "execution_count": 39,
   "metadata": {},
   "outputs": [],
   "source": [
    "tr_df1['Age1'] = tr_df1['Age1'].astype(int)\n",
    "tr_df1['Age2'] = tr_df1['Age2'].astype(int)"
   ]
  },
  {
   "cell_type": "code",
   "execution_count": 40,
   "metadata": {},
   "outputs": [
    {
     "name": "stdout",
     "output_type": "stream",
     "text": [
      "<class 'pandas.core.frame.DataFrame'>\n",
      "RangeIndex: 550068 entries, 0 to 550067\n",
      "Data columns (total 14 columns):\n",
      " #   Column                      Non-Null Count   Dtype  \n",
      "---  ------                      --------------   -----  \n",
      " 0   User_ID                     550068 non-null  int64  \n",
      " 1   Product_ID                  550068 non-null  object \n",
      " 2   Gender                      550068 non-null  object \n",
      " 3   Age                         550068 non-null  object \n",
      " 4   Occupation                  550068 non-null  int64  \n",
      " 5   City_Category               550068 non-null  object \n",
      " 6   Stay_In_Current_City_Years  550068 non-null  object \n",
      " 7   Marital_Status              550068 non-null  int64  \n",
      " 8   Product_Category_1          550068 non-null  int64  \n",
      " 9   Product_Category_2          550068 non-null  float64\n",
      " 10  Product_Category_3          550068 non-null  float64\n",
      " 11  Purchase                    550068 non-null  int64  \n",
      " 12  Age1                        550068 non-null  int32  \n",
      " 13  Age2                        550068 non-null  int32  \n",
      "dtypes: float64(2), int32(2), int64(5), object(5)\n",
      "memory usage: 54.6+ MB\n"
     ]
    }
   ],
   "source": [
    "tr_df1.info()"
   ]
  },
  {
   "cell_type": "code",
   "execution_count": null,
   "metadata": {},
   "outputs": [],
   "source": []
  },
  {
   "cell_type": "code",
   "execution_count": 41,
   "metadata": {},
   "outputs": [],
   "source": [
    "tr_df1['Age_avg'] = (tr_df1['Age1'] + tr_df1['Age2']) / 2"
   ]
  },
  {
   "cell_type": "code",
   "execution_count": 42,
   "metadata": {},
   "outputs": [
    {
     "data": {
      "text/html": [
       "<div>\n",
       "<style scoped>\n",
       "    .dataframe tbody tr th:only-of-type {\n",
       "        vertical-align: middle;\n",
       "    }\n",
       "\n",
       "    .dataframe tbody tr th {\n",
       "        vertical-align: top;\n",
       "    }\n",
       "\n",
       "    .dataframe thead th {\n",
       "        text-align: right;\n",
       "    }\n",
       "</style>\n",
       "<table border=\"1\" class=\"dataframe\">\n",
       "  <thead>\n",
       "    <tr style=\"text-align: right;\">\n",
       "      <th></th>\n",
       "      <th>User_ID</th>\n",
       "      <th>Product_ID</th>\n",
       "      <th>Gender</th>\n",
       "      <th>Age</th>\n",
       "      <th>Occupation</th>\n",
       "      <th>City_Category</th>\n",
       "      <th>Stay_In_Current_City_Years</th>\n",
       "      <th>Marital_Status</th>\n",
       "      <th>Product_Category_1</th>\n",
       "      <th>Product_Category_2</th>\n",
       "      <th>Product_Category_3</th>\n",
       "      <th>Purchase</th>\n",
       "      <th>Age1</th>\n",
       "      <th>Age2</th>\n",
       "      <th>Age_avg</th>\n",
       "    </tr>\n",
       "  </thead>\n",
       "  <tbody>\n",
       "    <tr>\n",
       "      <th>0</th>\n",
       "      <td>1000001</td>\n",
       "      <td>P00069042</td>\n",
       "      <td>F</td>\n",
       "      <td>00-17</td>\n",
       "      <td>10</td>\n",
       "      <td>A</td>\n",
       "      <td>2</td>\n",
       "      <td>0</td>\n",
       "      <td>3</td>\n",
       "      <td>9.0</td>\n",
       "      <td>14.0</td>\n",
       "      <td>8370</td>\n",
       "      <td>0</td>\n",
       "      <td>17</td>\n",
       "      <td>8.5</td>\n",
       "    </tr>\n",
       "    <tr>\n",
       "      <th>1</th>\n",
       "      <td>1000001</td>\n",
       "      <td>P00248942</td>\n",
       "      <td>F</td>\n",
       "      <td>00-17</td>\n",
       "      <td>10</td>\n",
       "      <td>A</td>\n",
       "      <td>2</td>\n",
       "      <td>0</td>\n",
       "      <td>1</td>\n",
       "      <td>6.0</td>\n",
       "      <td>14.0</td>\n",
       "      <td>15200</td>\n",
       "      <td>0</td>\n",
       "      <td>17</td>\n",
       "      <td>8.5</td>\n",
       "    </tr>\n",
       "    <tr>\n",
       "      <th>2</th>\n",
       "      <td>1000001</td>\n",
       "      <td>P00087842</td>\n",
       "      <td>F</td>\n",
       "      <td>00-17</td>\n",
       "      <td>10</td>\n",
       "      <td>A</td>\n",
       "      <td>2</td>\n",
       "      <td>0</td>\n",
       "      <td>12</td>\n",
       "      <td>9.0</td>\n",
       "      <td>14.0</td>\n",
       "      <td>1422</td>\n",
       "      <td>0</td>\n",
       "      <td>17</td>\n",
       "      <td>8.5</td>\n",
       "    </tr>\n",
       "    <tr>\n",
       "      <th>3</th>\n",
       "      <td>1000001</td>\n",
       "      <td>P00085442</td>\n",
       "      <td>F</td>\n",
       "      <td>00-17</td>\n",
       "      <td>10</td>\n",
       "      <td>A</td>\n",
       "      <td>2</td>\n",
       "      <td>0</td>\n",
       "      <td>12</td>\n",
       "      <td>14.0</td>\n",
       "      <td>14.0</td>\n",
       "      <td>1057</td>\n",
       "      <td>0</td>\n",
       "      <td>17</td>\n",
       "      <td>8.5</td>\n",
       "    </tr>\n",
       "    <tr>\n",
       "      <th>4</th>\n",
       "      <td>1000002</td>\n",
       "      <td>P00285442</td>\n",
       "      <td>M</td>\n",
       "      <td>55-55</td>\n",
       "      <td>16</td>\n",
       "      <td>C</td>\n",
       "      <td>4+</td>\n",
       "      <td>0</td>\n",
       "      <td>8</td>\n",
       "      <td>9.0</td>\n",
       "      <td>14.0</td>\n",
       "      <td>7969</td>\n",
       "      <td>55</td>\n",
       "      <td>55</td>\n",
       "      <td>55.0</td>\n",
       "    </tr>\n",
       "  </tbody>\n",
       "</table>\n",
       "</div>"
      ],
      "text/plain": [
       "   User_ID Product_ID Gender    Age  Occupation City_Category  \\\n",
       "0  1000001  P00069042      F  00-17          10             A   \n",
       "1  1000001  P00248942      F  00-17          10             A   \n",
       "2  1000001  P00087842      F  00-17          10             A   \n",
       "3  1000001  P00085442      F  00-17          10             A   \n",
       "4  1000002  P00285442      M  55-55          16             C   \n",
       "\n",
       "  Stay_In_Current_City_Years  Marital_Status  Product_Category_1  \\\n",
       "0                          2               0                   3   \n",
       "1                          2               0                   1   \n",
       "2                          2               0                  12   \n",
       "3                          2               0                  12   \n",
       "4                         4+               0                   8   \n",
       "\n",
       "   Product_Category_2  Product_Category_3  Purchase  Age1  Age2  Age_avg  \n",
       "0                 9.0                14.0      8370     0    17      8.5  \n",
       "1                 6.0                14.0     15200     0    17      8.5  \n",
       "2                 9.0                14.0      1422     0    17      8.5  \n",
       "3                14.0                14.0      1057     0    17      8.5  \n",
       "4                 9.0                14.0      7969    55    55     55.0  "
      ]
     },
     "execution_count": 42,
     "metadata": {},
     "output_type": "execute_result"
    }
   ],
   "source": [
    "tr_df1.head()"
   ]
  },
  {
   "cell_type": "code",
   "execution_count": 43,
   "metadata": {},
   "outputs": [
    {
     "data": {
      "text/plain": [
       "30.5    219587\n",
       "40.5    110013\n",
       "21.5     99660\n",
       "48.0     45701\n",
       "53.0     38501\n",
       "55.0     21504\n",
       "8.5      15102\n",
       "Name: Age_avg, dtype: int64"
      ]
     },
     "execution_count": 43,
     "metadata": {},
     "output_type": "execute_result"
    }
   ],
   "source": [
    "tr_df1['Age_avg'].value_counts()"
   ]
  },
  {
   "cell_type": "code",
   "execution_count": 44,
   "metadata": {},
   "outputs": [],
   "source": [
    "#Remove unwanted features\n",
    "tr_df1 = tr_df1.drop(['Age','Age1', 'Age2'], axis = 1)"
   ]
  },
  {
   "cell_type": "code",
   "execution_count": 45,
   "metadata": {},
   "outputs": [
    {
     "data": {
      "text/html": [
       "<div>\n",
       "<style scoped>\n",
       "    .dataframe tbody tr th:only-of-type {\n",
       "        vertical-align: middle;\n",
       "    }\n",
       "\n",
       "    .dataframe tbody tr th {\n",
       "        vertical-align: top;\n",
       "    }\n",
       "\n",
       "    .dataframe thead th {\n",
       "        text-align: right;\n",
       "    }\n",
       "</style>\n",
       "<table border=\"1\" class=\"dataframe\">\n",
       "  <thead>\n",
       "    <tr style=\"text-align: right;\">\n",
       "      <th></th>\n",
       "      <th>User_ID</th>\n",
       "      <th>Product_ID</th>\n",
       "      <th>Gender</th>\n",
       "      <th>Occupation</th>\n",
       "      <th>City_Category</th>\n",
       "      <th>Stay_In_Current_City_Years</th>\n",
       "      <th>Marital_Status</th>\n",
       "      <th>Product_Category_1</th>\n",
       "      <th>Product_Category_2</th>\n",
       "      <th>Product_Category_3</th>\n",
       "      <th>Purchase</th>\n",
       "      <th>Age_avg</th>\n",
       "    </tr>\n",
       "  </thead>\n",
       "  <tbody>\n",
       "    <tr>\n",
       "      <th>0</th>\n",
       "      <td>1000001</td>\n",
       "      <td>P00069042</td>\n",
       "      <td>F</td>\n",
       "      <td>10</td>\n",
       "      <td>A</td>\n",
       "      <td>2</td>\n",
       "      <td>0</td>\n",
       "      <td>3</td>\n",
       "      <td>9.0</td>\n",
       "      <td>14.0</td>\n",
       "      <td>8370</td>\n",
       "      <td>8.5</td>\n",
       "    </tr>\n",
       "    <tr>\n",
       "      <th>1</th>\n",
       "      <td>1000001</td>\n",
       "      <td>P00248942</td>\n",
       "      <td>F</td>\n",
       "      <td>10</td>\n",
       "      <td>A</td>\n",
       "      <td>2</td>\n",
       "      <td>0</td>\n",
       "      <td>1</td>\n",
       "      <td>6.0</td>\n",
       "      <td>14.0</td>\n",
       "      <td>15200</td>\n",
       "      <td>8.5</td>\n",
       "    </tr>\n",
       "    <tr>\n",
       "      <th>2</th>\n",
       "      <td>1000001</td>\n",
       "      <td>P00087842</td>\n",
       "      <td>F</td>\n",
       "      <td>10</td>\n",
       "      <td>A</td>\n",
       "      <td>2</td>\n",
       "      <td>0</td>\n",
       "      <td>12</td>\n",
       "      <td>9.0</td>\n",
       "      <td>14.0</td>\n",
       "      <td>1422</td>\n",
       "      <td>8.5</td>\n",
       "    </tr>\n",
       "    <tr>\n",
       "      <th>3</th>\n",
       "      <td>1000001</td>\n",
       "      <td>P00085442</td>\n",
       "      <td>F</td>\n",
       "      <td>10</td>\n",
       "      <td>A</td>\n",
       "      <td>2</td>\n",
       "      <td>0</td>\n",
       "      <td>12</td>\n",
       "      <td>14.0</td>\n",
       "      <td>14.0</td>\n",
       "      <td>1057</td>\n",
       "      <td>8.5</td>\n",
       "    </tr>\n",
       "    <tr>\n",
       "      <th>4</th>\n",
       "      <td>1000002</td>\n",
       "      <td>P00285442</td>\n",
       "      <td>M</td>\n",
       "      <td>16</td>\n",
       "      <td>C</td>\n",
       "      <td>4+</td>\n",
       "      <td>0</td>\n",
       "      <td>8</td>\n",
       "      <td>9.0</td>\n",
       "      <td>14.0</td>\n",
       "      <td>7969</td>\n",
       "      <td>55.0</td>\n",
       "    </tr>\n",
       "  </tbody>\n",
       "</table>\n",
       "</div>"
      ],
      "text/plain": [
       "   User_ID Product_ID Gender  Occupation City_Category  \\\n",
       "0  1000001  P00069042      F          10             A   \n",
       "1  1000001  P00248942      F          10             A   \n",
       "2  1000001  P00087842      F          10             A   \n",
       "3  1000001  P00085442      F          10             A   \n",
       "4  1000002  P00285442      M          16             C   \n",
       "\n",
       "  Stay_In_Current_City_Years  Marital_Status  Product_Category_1  \\\n",
       "0                          2               0                   3   \n",
       "1                          2               0                   1   \n",
       "2                          2               0                  12   \n",
       "3                          2               0                  12   \n",
       "4                         4+               0                   8   \n",
       "\n",
       "   Product_Category_2  Product_Category_3  Purchase  Age_avg  \n",
       "0                 9.0                14.0      8370      8.5  \n",
       "1                 6.0                14.0     15200      8.5  \n",
       "2                 9.0                14.0      1422      8.5  \n",
       "3                14.0                14.0      1057      8.5  \n",
       "4                 9.0                14.0      7969     55.0  "
      ]
     },
     "execution_count": 45,
     "metadata": {},
     "output_type": "execute_result"
    }
   ],
   "source": [
    "tr_df1.head()"
   ]
  },
  {
   "cell_type": "code",
   "execution_count": 46,
   "metadata": {},
   "outputs": [
    {
     "name": "stdout",
     "output_type": "stream",
     "text": [
      "<class 'pandas.core.frame.DataFrame'>\n",
      "RangeIndex: 550068 entries, 0 to 550067\n",
      "Data columns (total 12 columns):\n",
      " #   Column                      Non-Null Count   Dtype  \n",
      "---  ------                      --------------   -----  \n",
      " 0   User_ID                     550068 non-null  int64  \n",
      " 1   Product_ID                  550068 non-null  object \n",
      " 2   Gender                      550068 non-null  object \n",
      " 3   Occupation                  550068 non-null  int64  \n",
      " 4   City_Category               550068 non-null  object \n",
      " 5   Stay_In_Current_City_Years  550068 non-null  object \n",
      " 6   Marital_Status              550068 non-null  int64  \n",
      " 7   Product_Category_1          550068 non-null  int64  \n",
      " 8   Product_Category_2          550068 non-null  float64\n",
      " 9   Product_Category_3          550068 non-null  float64\n",
      " 10  Purchase                    550068 non-null  int64  \n",
      " 11  Age_avg                     550068 non-null  float64\n",
      "dtypes: float64(3), int64(5), object(4)\n",
      "memory usage: 50.4+ MB\n"
     ]
    }
   ],
   "source": [
    "#Let us check which features are in object datatype\n",
    "tr_df1.info()"
   ]
  },
  {
   "cell_type": "code",
   "execution_count": 47,
   "metadata": {},
   "outputs": [
    {
     "data": {
      "text/plain": [
       "1     193821\n",
       "2     101838\n",
       "3      95285\n",
       "4+     84726\n",
       "0      74398\n",
       "Name: Stay_In_Current_City_Years, dtype: int64"
      ]
     },
     "execution_count": 47,
     "metadata": {},
     "output_type": "execute_result"
    }
   ],
   "source": [
    "#Stay_In_Current_City_Years - Identifying the number of catagories\n",
    "tr_df1['Stay_In_Current_City_Years'].value_counts()"
   ]
  },
  {
   "cell_type": "code",
   "execution_count": 48,
   "metadata": {},
   "outputs": [],
   "source": [
    "#Let us replace the catagory 4+ to 4\n",
    "tr_df1['Stay_In_Current_City_Years'] = tr_df1['Stay_In_Current_City_Years'].replace('4+', '4')"
   ]
  },
  {
   "cell_type": "code",
   "execution_count": 49,
   "metadata": {},
   "outputs": [
    {
     "data": {
      "text/plain": [
       "1    193821\n",
       "2    101838\n",
       "3     95285\n",
       "4     84726\n",
       "0     74398\n",
       "Name: Stay_In_Current_City_Years, dtype: int64"
      ]
     },
     "execution_count": 49,
     "metadata": {},
     "output_type": "execute_result"
    }
   ],
   "source": [
    "tr_df1['Stay_In_Current_City_Years'].value_counts()"
   ]
  },
  {
   "cell_type": "code",
   "execution_count": 50,
   "metadata": {},
   "outputs": [
    {
     "data": {
      "text/html": [
       "<div>\n",
       "<style scoped>\n",
       "    .dataframe tbody tr th:only-of-type {\n",
       "        vertical-align: middle;\n",
       "    }\n",
       "\n",
       "    .dataframe tbody tr th {\n",
       "        vertical-align: top;\n",
       "    }\n",
       "\n",
       "    .dataframe thead th {\n",
       "        text-align: right;\n",
       "    }\n",
       "</style>\n",
       "<table border=\"1\" class=\"dataframe\">\n",
       "  <thead>\n",
       "    <tr style=\"text-align: right;\">\n",
       "      <th></th>\n",
       "      <th>User_ID</th>\n",
       "      <th>Product_ID</th>\n",
       "      <th>Gender</th>\n",
       "      <th>Occupation</th>\n",
       "      <th>City_Category</th>\n",
       "      <th>Stay_In_Current_City_Years</th>\n",
       "      <th>Marital_Status</th>\n",
       "      <th>Product_Category_1</th>\n",
       "      <th>Product_Category_2</th>\n",
       "      <th>Product_Category_3</th>\n",
       "      <th>Purchase</th>\n",
       "      <th>Age_avg</th>\n",
       "    </tr>\n",
       "  </thead>\n",
       "  <tbody>\n",
       "    <tr>\n",
       "      <th>0</th>\n",
       "      <td>1000001</td>\n",
       "      <td>P00069042</td>\n",
       "      <td>F</td>\n",
       "      <td>10</td>\n",
       "      <td>A</td>\n",
       "      <td>2</td>\n",
       "      <td>0</td>\n",
       "      <td>3</td>\n",
       "      <td>9.0</td>\n",
       "      <td>14.0</td>\n",
       "      <td>8370</td>\n",
       "      <td>8.5</td>\n",
       "    </tr>\n",
       "    <tr>\n",
       "      <th>1</th>\n",
       "      <td>1000001</td>\n",
       "      <td>P00248942</td>\n",
       "      <td>F</td>\n",
       "      <td>10</td>\n",
       "      <td>A</td>\n",
       "      <td>2</td>\n",
       "      <td>0</td>\n",
       "      <td>1</td>\n",
       "      <td>6.0</td>\n",
       "      <td>14.0</td>\n",
       "      <td>15200</td>\n",
       "      <td>8.5</td>\n",
       "    </tr>\n",
       "    <tr>\n",
       "      <th>2</th>\n",
       "      <td>1000001</td>\n",
       "      <td>P00087842</td>\n",
       "      <td>F</td>\n",
       "      <td>10</td>\n",
       "      <td>A</td>\n",
       "      <td>2</td>\n",
       "      <td>0</td>\n",
       "      <td>12</td>\n",
       "      <td>9.0</td>\n",
       "      <td>14.0</td>\n",
       "      <td>1422</td>\n",
       "      <td>8.5</td>\n",
       "    </tr>\n",
       "    <tr>\n",
       "      <th>3</th>\n",
       "      <td>1000001</td>\n",
       "      <td>P00085442</td>\n",
       "      <td>F</td>\n",
       "      <td>10</td>\n",
       "      <td>A</td>\n",
       "      <td>2</td>\n",
       "      <td>0</td>\n",
       "      <td>12</td>\n",
       "      <td>14.0</td>\n",
       "      <td>14.0</td>\n",
       "      <td>1057</td>\n",
       "      <td>8.5</td>\n",
       "    </tr>\n",
       "    <tr>\n",
       "      <th>4</th>\n",
       "      <td>1000002</td>\n",
       "      <td>P00285442</td>\n",
       "      <td>M</td>\n",
       "      <td>16</td>\n",
       "      <td>C</td>\n",
       "      <td>4</td>\n",
       "      <td>0</td>\n",
       "      <td>8</td>\n",
       "      <td>9.0</td>\n",
       "      <td>14.0</td>\n",
       "      <td>7969</td>\n",
       "      <td>55.0</td>\n",
       "    </tr>\n",
       "  </tbody>\n",
       "</table>\n",
       "</div>"
      ],
      "text/plain": [
       "   User_ID Product_ID Gender  Occupation City_Category  \\\n",
       "0  1000001  P00069042      F          10             A   \n",
       "1  1000001  P00248942      F          10             A   \n",
       "2  1000001  P00087842      F          10             A   \n",
       "3  1000001  P00085442      F          10             A   \n",
       "4  1000002  P00285442      M          16             C   \n",
       "\n",
       "  Stay_In_Current_City_Years  Marital_Status  Product_Category_1  \\\n",
       "0                          2               0                   3   \n",
       "1                          2               0                   1   \n",
       "2                          2               0                  12   \n",
       "3                          2               0                  12   \n",
       "4                          4               0                   8   \n",
       "\n",
       "   Product_Category_2  Product_Category_3  Purchase  Age_avg  \n",
       "0                 9.0                14.0      8370      8.5  \n",
       "1                 6.0                14.0     15200      8.5  \n",
       "2                 9.0                14.0      1422      8.5  \n",
       "3                14.0                14.0      1057      8.5  \n",
       "4                 9.0                14.0      7969     55.0  "
      ]
     },
     "execution_count": 50,
     "metadata": {},
     "output_type": "execute_result"
    }
   ],
   "source": [
    "tr_df1.head()"
   ]
  },
  {
   "cell_type": "code",
   "execution_count": 51,
   "metadata": {},
   "outputs": [],
   "source": [
    "tr_df1['Stay_In_Current_City_Years'] = tr_df1['Stay_In_Current_City_Years'].astype(int)"
   ]
  },
  {
   "cell_type": "code",
   "execution_count": 52,
   "metadata": {},
   "outputs": [],
   "source": [
    "#Converting ProductId feature to int with suitable replacement\n",
    "tr_df1['Product_ID'] = tr_df1['Product_ID'].str[3:9]\n",
    "tr_df1['Product_ID'] = tr_df1['Product_ID'].astype(int)"
   ]
  },
  {
   "cell_type": "code",
   "execution_count": 53,
   "metadata": {},
   "outputs": [
    {
     "data": {
      "text/html": [
       "<div>\n",
       "<style scoped>\n",
       "    .dataframe tbody tr th:only-of-type {\n",
       "        vertical-align: middle;\n",
       "    }\n",
       "\n",
       "    .dataframe tbody tr th {\n",
       "        vertical-align: top;\n",
       "    }\n",
       "\n",
       "    .dataframe thead th {\n",
       "        text-align: right;\n",
       "    }\n",
       "</style>\n",
       "<table border=\"1\" class=\"dataframe\">\n",
       "  <thead>\n",
       "    <tr style=\"text-align: right;\">\n",
       "      <th></th>\n",
       "      <th>User_ID</th>\n",
       "      <th>Product_ID</th>\n",
       "      <th>Gender</th>\n",
       "      <th>Occupation</th>\n",
       "      <th>City_Category</th>\n",
       "      <th>Stay_In_Current_City_Years</th>\n",
       "      <th>Marital_Status</th>\n",
       "      <th>Product_Category_1</th>\n",
       "      <th>Product_Category_2</th>\n",
       "      <th>Product_Category_3</th>\n",
       "      <th>Purchase</th>\n",
       "      <th>Age_avg</th>\n",
       "    </tr>\n",
       "  </thead>\n",
       "  <tbody>\n",
       "    <tr>\n",
       "      <th>0</th>\n",
       "      <td>1000001</td>\n",
       "      <td>69042</td>\n",
       "      <td>F</td>\n",
       "      <td>10</td>\n",
       "      <td>A</td>\n",
       "      <td>2</td>\n",
       "      <td>0</td>\n",
       "      <td>3</td>\n",
       "      <td>9.0</td>\n",
       "      <td>14.0</td>\n",
       "      <td>8370</td>\n",
       "      <td>8.5</td>\n",
       "    </tr>\n",
       "    <tr>\n",
       "      <th>1</th>\n",
       "      <td>1000001</td>\n",
       "      <td>248942</td>\n",
       "      <td>F</td>\n",
       "      <td>10</td>\n",
       "      <td>A</td>\n",
       "      <td>2</td>\n",
       "      <td>0</td>\n",
       "      <td>1</td>\n",
       "      <td>6.0</td>\n",
       "      <td>14.0</td>\n",
       "      <td>15200</td>\n",
       "      <td>8.5</td>\n",
       "    </tr>\n",
       "    <tr>\n",
       "      <th>2</th>\n",
       "      <td>1000001</td>\n",
       "      <td>87842</td>\n",
       "      <td>F</td>\n",
       "      <td>10</td>\n",
       "      <td>A</td>\n",
       "      <td>2</td>\n",
       "      <td>0</td>\n",
       "      <td>12</td>\n",
       "      <td>9.0</td>\n",
       "      <td>14.0</td>\n",
       "      <td>1422</td>\n",
       "      <td>8.5</td>\n",
       "    </tr>\n",
       "    <tr>\n",
       "      <th>3</th>\n",
       "      <td>1000001</td>\n",
       "      <td>85442</td>\n",
       "      <td>F</td>\n",
       "      <td>10</td>\n",
       "      <td>A</td>\n",
       "      <td>2</td>\n",
       "      <td>0</td>\n",
       "      <td>12</td>\n",
       "      <td>14.0</td>\n",
       "      <td>14.0</td>\n",
       "      <td>1057</td>\n",
       "      <td>8.5</td>\n",
       "    </tr>\n",
       "    <tr>\n",
       "      <th>4</th>\n",
       "      <td>1000002</td>\n",
       "      <td>285442</td>\n",
       "      <td>M</td>\n",
       "      <td>16</td>\n",
       "      <td>C</td>\n",
       "      <td>4</td>\n",
       "      <td>0</td>\n",
       "      <td>8</td>\n",
       "      <td>9.0</td>\n",
       "      <td>14.0</td>\n",
       "      <td>7969</td>\n",
       "      <td>55.0</td>\n",
       "    </tr>\n",
       "  </tbody>\n",
       "</table>\n",
       "</div>"
      ],
      "text/plain": [
       "   User_ID  Product_ID Gender  Occupation City_Category  \\\n",
       "0  1000001       69042      F          10             A   \n",
       "1  1000001      248942      F          10             A   \n",
       "2  1000001       87842      F          10             A   \n",
       "3  1000001       85442      F          10             A   \n",
       "4  1000002      285442      M          16             C   \n",
       "\n",
       "   Stay_In_Current_City_Years  Marital_Status  Product_Category_1  \\\n",
       "0                           2               0                   3   \n",
       "1                           2               0                   1   \n",
       "2                           2               0                  12   \n",
       "3                           2               0                  12   \n",
       "4                           4               0                   8   \n",
       "\n",
       "   Product_Category_2  Product_Category_3  Purchase  Age_avg  \n",
       "0                 9.0                14.0      8370      8.5  \n",
       "1                 6.0                14.0     15200      8.5  \n",
       "2                 9.0                14.0      1422      8.5  \n",
       "3                14.0                14.0      1057      8.5  \n",
       "4                 9.0                14.0      7969     55.0  "
      ]
     },
     "execution_count": 53,
     "metadata": {},
     "output_type": "execute_result"
    }
   ],
   "source": [
    "tr_df1.head()"
   ]
  },
  {
   "cell_type": "code",
   "execution_count": 54,
   "metadata": {},
   "outputs": [
    {
     "data": {
      "text/plain": [
       "265242    1880\n",
       "25442     1615\n",
       "110742    1612\n",
       "112142    1562\n",
       "57642     1470\n",
       "          ... \n",
       "133042       1\n",
       "160742       1\n",
       "353742       1\n",
       "70142        1\n",
       "77342        1\n",
       "Name: Product_ID, Length: 3631, dtype: int64"
      ]
     },
     "execution_count": 54,
     "metadata": {},
     "output_type": "execute_result"
    }
   ],
   "source": [
    "tr_df1['Product_ID'].value_counts()"
   ]
  },
  {
   "cell_type": "code",
   "execution_count": 55,
   "metadata": {},
   "outputs": [
    {
     "name": "stdout",
     "output_type": "stream",
     "text": [
      "<class 'pandas.core.frame.DataFrame'>\n",
      "RangeIndex: 550068 entries, 0 to 550067\n",
      "Data columns (total 12 columns):\n",
      " #   Column                      Non-Null Count   Dtype  \n",
      "---  ------                      --------------   -----  \n",
      " 0   User_ID                     550068 non-null  int64  \n",
      " 1   Product_ID                  550068 non-null  int32  \n",
      " 2   Gender                      550068 non-null  object \n",
      " 3   Occupation                  550068 non-null  int64  \n",
      " 4   City_Category               550068 non-null  object \n",
      " 5   Stay_In_Current_City_Years  550068 non-null  int32  \n",
      " 6   Marital_Status              550068 non-null  int64  \n",
      " 7   Product_Category_1          550068 non-null  int64  \n",
      " 8   Product_Category_2          550068 non-null  float64\n",
      " 9   Product_Category_3          550068 non-null  float64\n",
      " 10  Purchase                    550068 non-null  int64  \n",
      " 11  Age_avg                     550068 non-null  float64\n",
      "dtypes: float64(3), int32(2), int64(5), object(2)\n",
      "memory usage: 46.2+ MB\n"
     ]
    }
   ],
   "source": [
    "tr_df1.info()"
   ]
  },
  {
   "cell_type": "code",
   "execution_count": null,
   "metadata": {},
   "outputs": [],
   "source": []
  },
  {
   "cell_type": "code",
   "execution_count": 56,
   "metadata": {},
   "outputs": [],
   "source": [
    "#Convert the remaining 'object' type features to catagorical\n",
    "from sklearn import preprocessing\n",
    "le = preprocessing.LabelEncoder()"
   ]
  },
  {
   "cell_type": "code",
   "execution_count": 57,
   "metadata": {},
   "outputs": [],
   "source": [
    "tr_df1['Gender'] = le.fit_transform(tr_df1['Gender'])\n",
    "tr_df1['City_Category'] = le.fit_transform(tr_df1['City_Category'])"
   ]
  },
  {
   "cell_type": "code",
   "execution_count": 58,
   "metadata": {},
   "outputs": [
    {
     "name": "stdout",
     "output_type": "stream",
     "text": [
      "<class 'pandas.core.frame.DataFrame'>\n",
      "RangeIndex: 550068 entries, 0 to 550067\n",
      "Data columns (total 12 columns):\n",
      " #   Column                      Non-Null Count   Dtype  \n",
      "---  ------                      --------------   -----  \n",
      " 0   User_ID                     550068 non-null  int64  \n",
      " 1   Product_ID                  550068 non-null  int32  \n",
      " 2   Gender                      550068 non-null  int32  \n",
      " 3   Occupation                  550068 non-null  int64  \n",
      " 4   City_Category               550068 non-null  int32  \n",
      " 5   Stay_In_Current_City_Years  550068 non-null  int32  \n",
      " 6   Marital_Status              550068 non-null  int64  \n",
      " 7   Product_Category_1          550068 non-null  int64  \n",
      " 8   Product_Category_2          550068 non-null  float64\n",
      " 9   Product_Category_3          550068 non-null  float64\n",
      " 10  Purchase                    550068 non-null  int64  \n",
      " 11  Age_avg                     550068 non-null  float64\n",
      "dtypes: float64(3), int32(4), int64(5)\n",
      "memory usage: 42.0 MB\n"
     ]
    }
   ],
   "source": [
    "tr_df1.info()"
   ]
  },
  {
   "cell_type": "code",
   "execution_count": 59,
   "metadata": {},
   "outputs": [
    {
     "data": {
      "text/html": [
       "<div>\n",
       "<style scoped>\n",
       "    .dataframe tbody tr th:only-of-type {\n",
       "        vertical-align: middle;\n",
       "    }\n",
       "\n",
       "    .dataframe tbody tr th {\n",
       "        vertical-align: top;\n",
       "    }\n",
       "\n",
       "    .dataframe thead th {\n",
       "        text-align: right;\n",
       "    }\n",
       "</style>\n",
       "<table border=\"1\" class=\"dataframe\">\n",
       "  <thead>\n",
       "    <tr style=\"text-align: right;\">\n",
       "      <th></th>\n",
       "      <th>User_ID</th>\n",
       "      <th>Product_ID</th>\n",
       "      <th>Gender</th>\n",
       "      <th>Occupation</th>\n",
       "      <th>City_Category</th>\n",
       "      <th>Stay_In_Current_City_Years</th>\n",
       "      <th>Marital_Status</th>\n",
       "      <th>Product_Category_1</th>\n",
       "      <th>Product_Category_2</th>\n",
       "      <th>Product_Category_3</th>\n",
       "      <th>Purchase</th>\n",
       "      <th>Age_avg</th>\n",
       "    </tr>\n",
       "  </thead>\n",
       "  <tbody>\n",
       "    <tr>\n",
       "      <th>0</th>\n",
       "      <td>1000001</td>\n",
       "      <td>69042</td>\n",
       "      <td>0</td>\n",
       "      <td>10</td>\n",
       "      <td>0</td>\n",
       "      <td>2</td>\n",
       "      <td>0</td>\n",
       "      <td>3</td>\n",
       "      <td>9.0</td>\n",
       "      <td>14.0</td>\n",
       "      <td>8370</td>\n",
       "      <td>8.5</td>\n",
       "    </tr>\n",
       "    <tr>\n",
       "      <th>1</th>\n",
       "      <td>1000001</td>\n",
       "      <td>248942</td>\n",
       "      <td>0</td>\n",
       "      <td>10</td>\n",
       "      <td>0</td>\n",
       "      <td>2</td>\n",
       "      <td>0</td>\n",
       "      <td>1</td>\n",
       "      <td>6.0</td>\n",
       "      <td>14.0</td>\n",
       "      <td>15200</td>\n",
       "      <td>8.5</td>\n",
       "    </tr>\n",
       "    <tr>\n",
       "      <th>2</th>\n",
       "      <td>1000001</td>\n",
       "      <td>87842</td>\n",
       "      <td>0</td>\n",
       "      <td>10</td>\n",
       "      <td>0</td>\n",
       "      <td>2</td>\n",
       "      <td>0</td>\n",
       "      <td>12</td>\n",
       "      <td>9.0</td>\n",
       "      <td>14.0</td>\n",
       "      <td>1422</td>\n",
       "      <td>8.5</td>\n",
       "    </tr>\n",
       "    <tr>\n",
       "      <th>3</th>\n",
       "      <td>1000001</td>\n",
       "      <td>85442</td>\n",
       "      <td>0</td>\n",
       "      <td>10</td>\n",
       "      <td>0</td>\n",
       "      <td>2</td>\n",
       "      <td>0</td>\n",
       "      <td>12</td>\n",
       "      <td>14.0</td>\n",
       "      <td>14.0</td>\n",
       "      <td>1057</td>\n",
       "      <td>8.5</td>\n",
       "    </tr>\n",
       "    <tr>\n",
       "      <th>4</th>\n",
       "      <td>1000002</td>\n",
       "      <td>285442</td>\n",
       "      <td>1</td>\n",
       "      <td>16</td>\n",
       "      <td>2</td>\n",
       "      <td>4</td>\n",
       "      <td>0</td>\n",
       "      <td>8</td>\n",
       "      <td>9.0</td>\n",
       "      <td>14.0</td>\n",
       "      <td>7969</td>\n",
       "      <td>55.0</td>\n",
       "    </tr>\n",
       "  </tbody>\n",
       "</table>\n",
       "</div>"
      ],
      "text/plain": [
       "   User_ID  Product_ID  Gender  Occupation  City_Category  \\\n",
       "0  1000001       69042       0          10              0   \n",
       "1  1000001      248942       0          10              0   \n",
       "2  1000001       87842       0          10              0   \n",
       "3  1000001       85442       0          10              0   \n",
       "4  1000002      285442       1          16              2   \n",
       "\n",
       "   Stay_In_Current_City_Years  Marital_Status  Product_Category_1  \\\n",
       "0                           2               0                   3   \n",
       "1                           2               0                   1   \n",
       "2                           2               0                  12   \n",
       "3                           2               0                  12   \n",
       "4                           4               0                   8   \n",
       "\n",
       "   Product_Category_2  Product_Category_3  Purchase  Age_avg  \n",
       "0                 9.0                14.0      8370      8.5  \n",
       "1                 6.0                14.0     15200      8.5  \n",
       "2                 9.0                14.0      1422      8.5  \n",
       "3                14.0                14.0      1057      8.5  \n",
       "4                 9.0                14.0      7969     55.0  "
      ]
     },
     "execution_count": 59,
     "metadata": {},
     "output_type": "execute_result"
    }
   ],
   "source": [
    "tr_df1.head()"
   ]
  },
  {
   "cell_type": "code",
   "execution_count": null,
   "metadata": {},
   "outputs": [],
   "source": []
  },
  {
   "cell_type": "code",
   "execution_count": 60,
   "metadata": {},
   "outputs": [],
   "source": [
    "#Now the data is cleansed and is suitable for Model building\n",
    "#Splitting the dataset into X and y\n",
    "X = tr_df1.drop('Purchase', axis=1)\n",
    "y = tr_df1['Purchase']"
   ]
  },
  {
   "cell_type": "code",
   "execution_count": 61,
   "metadata": {},
   "outputs": [],
   "source": [
    "from sklearn.model_selection import train_test_split\n",
    "X_train, X_test, y_train, y_test = train_test_split(X, y, random_state = 42)"
   ]
  },
  {
   "cell_type": "code",
   "execution_count": 62,
   "metadata": {},
   "outputs": [],
   "source": [
    "from sklearn import preprocessing\n",
    "from sklearn import preprocessing \n",
    "scaler = preprocessing.StandardScaler()\n",
    "X_train = scaler.fit_transform(X_train)\n",
    "X_test = scaler.transform(X_test)"
   ]
  },
  {
   "cell_type": "code",
   "execution_count": 63,
   "metadata": {},
   "outputs": [
    {
     "name": "stdout",
     "output_type": "stream",
     "text": [
      "(412551, 11)\n",
      "(137517, 11)\n",
      "(412551,)\n",
      "(137517,)\n"
     ]
    }
   ],
   "source": [
    "print(X_train.shape)\n",
    "print(X_test.shape)\n",
    "print(y_train.shape)\n",
    "print(y_test.shape)"
   ]
  },
  {
   "cell_type": "code",
   "execution_count": 64,
   "metadata": {},
   "outputs": [
    {
     "name": "stdout",
     "output_type": "stream",
     "text": [
      "0.1328885991002985\n",
      "0.13146639362282753\n"
     ]
    }
   ],
   "source": [
    "from sklearn.linear_model import LinearRegression\n",
    "lr = LinearRegression(normalize = True)\n",
    "lr.fit(X_train, y_train)\n",
    "y_pred = lr.predict(X_test)\n",
    "print(lr.score(X_train, y_train))\n",
    "print(lr.score(X_test, y_test))"
   ]
  },
  {
   "cell_type": "code",
   "execution_count": 65,
   "metadata": {},
   "outputs": [
    {
     "name": "stdout",
     "output_type": "stream",
     "text": [
      "21847139.95629534\n"
     ]
    }
   ],
   "source": [
    "from sklearn.metrics import mean_squared_error\n",
    "rmse = mean_squared_error(y_test, y_pred)\n",
    "print(rmse)"
   ]
  },
  {
   "cell_type": "raw",
   "metadata": {},
   "source": [
    "#Hyperparmeter tuning\n",
    "from sklearn import metrics\n",
    "import warnings\n",
    "warnings.filterwarnings('ignore')\n",
    "best_rmse = 0\n",
    "best_parameters = {\"a\": 0, \"b\": 0, \"c\": 0}\n",
    "# loop over all values for a, b & c\n",
    "for a in range(1, 11):\n",
    "    for b in range(1, 11):\n",
    "        for c in range(1, 11):\n",
    "            # inititalize model with current parameters\n",
    "            model = LinearRegression(a, b, c)\n",
    "            # fit the model\n",
    "            model.fit(X_train, y_train)\n",
    "            # make predictions\n",
    "            preds = model.predict(X_test)\n",
    "            # calculate accuracy\n",
    "            rmse = mean_squared_error(y_test, preds)\n",
    "            # save params if current accuracy\n",
    "            # is greater than best accuracy\n",
    "            if rmse > best_rmse:\n",
    "                best_rmse = rmse\n",
    "                best_parameters[\"a\"] = a\n",
    "                best_parameters[\"b\"] = b\n",
    "                best_parameters[\"c\"] = c\n",
    "print(best_parameters)"
   ]
  },
  {
   "cell_type": "code",
   "execution_count": 66,
   "metadata": {},
   "outputs": [],
   "source": [
    "from sklearn.model_selection import cross_val_score\n",
    "# function to get cross validation scores\n",
    "def get_cv_scores(model):\n",
    "    scores = cross_val_score(model,\n",
    "                             X_train,\n",
    "                             y_train,\n",
    "                             cv=5,\n",
    "                             scoring='r2')\n",
    "    \n",
    "    print('CV Mean: ', np.mean(scores))\n",
    "    print('STD: ', np.std(scores))\n",
    "    print('\\n')"
   ]
  },
  {
   "cell_type": "code",
   "execution_count": 67,
   "metadata": {},
   "outputs": [
    {
     "name": "stdout",
     "output_type": "stream",
     "text": [
      "CV Mean:  0.13284406321994988\n",
      "STD:  0.002393873701341165\n",
      "\n",
      "\n"
     ]
    }
   ],
   "source": [
    "get_cv_scores(lr)"
   ]
  },
  {
   "cell_type": "code",
   "execution_count": 68,
   "metadata": {},
   "outputs": [],
   "source": [
    "#The value of r2 is 0.13 and SD is 0.002 which indicates that the model is performing poorly on the given dataset.\n",
    "#Let us try some regularization methods"
   ]
  },
  {
   "cell_type": "code",
   "execution_count": 69,
   "metadata": {},
   "outputs": [
    {
     "name": "stdout",
     "output_type": "stream",
     "text": [
      "CV Mean:  0.13284406333337706\n",
      "STD:  0.0023938661015393704\n",
      "\n",
      "\n"
     ]
    }
   ],
   "source": [
    "#Ridge method\n",
    "from sklearn.linear_model import Ridge\n",
    "# Train model with default alpha=1\n",
    "ridge = Ridge(alpha=1).fit(X_train, y_train)\n",
    "# get cross val scores\n",
    "get_cv_scores(ridge)"
   ]
  },
  {
   "cell_type": "code",
   "execution_count": 70,
   "metadata": {},
   "outputs": [
    {
     "name": "stdout",
     "output_type": "stream",
     "text": [
      "Fitting 5 folds for each of 7 candidates, totalling 35 fits\n"
     ]
    },
    {
     "name": "stderr",
     "output_type": "stream",
     "text": [
      "[Parallel(n_jobs=-1)]: Using backend LokyBackend with 8 concurrent workers.\n",
      "[Parallel(n_jobs=-1)]: Done  35 out of  35 | elapsed:    9.0s finished\n"
     ]
    },
    {
     "name": "stdout",
     "output_type": "stream",
     "text": [
      "Best Score:  0.13284406425843595\n",
      "Best Params:  {'alpha': 10}\n"
     ]
    }
   ],
   "source": [
    "# find optimal alpha with grid search\n",
    "from sklearn.model_selection import GridSearchCV\n",
    "alpha = [0.001, 0.01, 0.1, 1, 10, 100, 1000]\n",
    "param_grid = dict(alpha=alpha)\n",
    "grid = GridSearchCV(estimator=ridge, param_grid=param_grid, scoring='r2', verbose=1, n_jobs=-1)\n",
    "grid_result = grid.fit(X_train, y_train)\n",
    "print('Best Score: ', grid_result.best_score_)\n",
    "print('Best Params: ', grid_result.best_params_)"
   ]
  },
  {
   "cell_type": "code",
   "execution_count": 71,
   "metadata": {},
   "outputs": [
    {
     "name": "stdout",
     "output_type": "stream",
     "text": [
      "CV Mean:  0.13284406425843595\n",
      "STD:  0.002393797705945078\n",
      "\n",
      "\n"
     ]
    }
   ],
   "source": [
    "#Ridge method\n",
    "from sklearn.linear_model import Ridge\n",
    "# Train model with best alpha=10\n",
    "ridge = Ridge(alpha=10).fit(X_train, y_train)\n",
    "# get cross val scores\n",
    "get_cv_scores(ridge)"
   ]
  },
  {
   "cell_type": "code",
   "execution_count": 72,
   "metadata": {},
   "outputs": [
    {
     "name": "stdout",
     "output_type": "stream",
     "text": [
      "CV Mean:  0.13284367897835145\n",
      "STD:  0.0023898691493457976\n",
      "\n",
      "\n"
     ]
    }
   ],
   "source": [
    "#Trying with Lasso method\n",
    "from sklearn.linear_model import Lasso\n",
    "# Train model with default alpha=1\n",
    "lasso = Lasso(alpha=1).fit(X_train, y_train)\n",
    "# get cross val scores\n",
    "get_cv_scores(lasso)"
   ]
  },
  {
   "cell_type": "code",
   "execution_count": 73,
   "metadata": {},
   "outputs": [
    {
     "name": "stdout",
     "output_type": "stream",
     "text": [
      "Fitting 5 folds for each of 7 candidates, totalling 35 fits\n"
     ]
    },
    {
     "name": "stderr",
     "output_type": "stream",
     "text": [
      "[Parallel(n_jobs=-1)]: Using backend LokyBackend with 8 concurrent workers.\n",
      "[Parallel(n_jobs=-1)]: Done  35 out of  35 | elapsed:    5.0s finished\n"
     ]
    },
    {
     "name": "stdout",
     "output_type": "stream",
     "text": [
      "Best Score:  0.1328440633085594\n",
      "Best Params:  {'alpha': 0.01}\n"
     ]
    }
   ],
   "source": [
    "# find optimal alpha with grid search\n",
    "alpha = [0.001, 0.01, 0.1, 1, 10, 100, 1000]\n",
    "param_grid = dict(alpha=alpha)\n",
    "grid = GridSearchCV(estimator=lasso, param_grid=param_grid, scoring='r2', verbose=1, n_jobs=-1)\n",
    "grid_result = grid.fit(X_train, y_train)\n",
    "print('Best Score: ', grid_result.best_score_)\n",
    "print('Best Params: ', grid_result.best_params_)"
   ]
  },
  {
   "cell_type": "code",
   "execution_count": 74,
   "metadata": {},
   "outputs": [
    {
     "name": "stdout",
     "output_type": "stream",
     "text": [
      "CV Mean:  0.1328440633085594\n",
      "STD:  0.0023938336068102914\n",
      "\n",
      "\n"
     ]
    }
   ],
   "source": [
    "#Trying with Lasso method\n",
    "from sklearn.linear_model import Lasso\n",
    "# Train model with best alpha=0.01\n",
    "lasso = Lasso(alpha=0.01).fit(X_train, y_train)\n",
    "# get cross val scores\n",
    "get_cv_scores(lasso)"
   ]
  },
  {
   "cell_type": "code",
   "execution_count": 75,
   "metadata": {},
   "outputs": [],
   "source": [
    "# Linear Regression model is not sutiable for the given dataset"
   ]
  },
  {
   "cell_type": "code",
   "execution_count": 76,
   "metadata": {},
   "outputs": [],
   "source": [
    "#Let us try other models"
   ]
  },
  {
   "cell_type": "markdown",
   "metadata": {},
   "source": [
    "#SVR\n",
    "from sklearn.svm import SVR\n",
    "sv = SVR()\n",
    "sv.fit(X_train, y_train)"
   ]
  },
  {
   "cell_type": "code",
   "execution_count": 77,
   "metadata": {},
   "outputs": [],
   "source": [
    "from sklearn import svm\n",
    "from sklearn.svm import SVR\n",
    "\n",
    "model = svm.SVR(kernel='rbf', C=1, gamma=0.3)"
   ]
  },
  {
   "cell_type": "markdown",
   "metadata": {},
   "source": [
    "model.fit(X_train, y_train)\n",
    "print(model.score(X_train, y_train))\n",
    "print(model.score(X_test, y_test))"
   ]
  },
  {
   "cell_type": "code",
   "execution_count": 78,
   "metadata": {},
   "outputs": [],
   "source": [
    "# Testing using Decision Tree Regressor"
   ]
  },
  {
   "cell_type": "code",
   "execution_count": 79,
   "metadata": {},
   "outputs": [
    {
     "name": "stdout",
     "output_type": "stream",
     "text": [
      "0.43260619410807255\n",
      "0.42715479426459435\n"
     ]
    }
   ],
   "source": [
    "from sklearn.impute import SimpleImputer\n",
    "from sklearn.tree import DecisionTreeRegressor\n",
    "\n",
    "dt = DecisionTreeRegressor(max_depth=10, max_leaf_nodes=5, min_samples_leaf=1)\n",
    "dt.fit(X_train, y_train)\n",
    "\n",
    "print(dt.score(X_train, y_train))\n",
    "print(dt.score(X_test, y_test))"
   ]
  },
  {
   "cell_type": "code",
   "execution_count": 80,
   "metadata": {},
   "outputs": [],
   "source": [
    "#Testing with Bagging methods"
   ]
  },
  {
   "cell_type": "code",
   "execution_count": 81,
   "metadata": {},
   "outputs": [],
   "source": [
    "from sklearn.ensemble import BaggingRegressor\n",
    "from sklearn import tree\n",
    "from sklearn.ensemble import GradientBoostingRegressor"
   ]
  },
  {
   "cell_type": "code",
   "execution_count": 82,
   "metadata": {},
   "outputs": [
    {
     "name": "stdout",
     "output_type": "stream",
     "text": [
      "0.6642103442907432\n",
      "0.6590434821309837\n"
     ]
    }
   ],
   "source": [
    "bg = BaggingRegressor(GradientBoostingRegressor())\n",
    "bg.fit(X_train, y_train.values.ravel())\n",
    "\n",
    "print(bg.score(X_train, y_train))\n",
    "print(bg.score(X_test, y_test))"
   ]
  },
  {
   "cell_type": "code",
   "execution_count": 83,
   "metadata": {},
   "outputs": [],
   "source": [
    "# Testing using Random Forest Regressor"
   ]
  },
  {
   "cell_type": "code",
   "execution_count": 84,
   "metadata": {},
   "outputs": [],
   "source": [
    "from sklearn.ensemble import RandomForestRegressor\n",
    "dt_rf = RandomForestRegressor()\n",
    "dt_rf = dt_rf.fit(X_train, y_train)"
   ]
  },
  {
   "cell_type": "code",
   "execution_count": 85,
   "metadata": {},
   "outputs": [
    {
     "data": {
      "text/plain": [
       "0.9587381959412327"
      ]
     },
     "execution_count": 85,
     "metadata": {},
     "output_type": "execute_result"
    }
   ],
   "source": [
    "dt_rf.score(X_train, y_train)"
   ]
  },
  {
   "cell_type": "code",
   "execution_count": 86,
   "metadata": {},
   "outputs": [
    {
     "data": {
      "text/plain": [
       "0.6993757241270873"
      ]
     },
     "execution_count": 86,
     "metadata": {},
     "output_type": "execute_result"
    }
   ],
   "source": [
    "test_pred3 = dt_rf.predict(X_test)\n",
    "dt_rf.score(X_test, y_test)"
   ]
  },
  {
   "cell_type": "code",
   "execution_count": 87,
   "metadata": {},
   "outputs": [],
   "source": [
    "# Testing using Gradient Boosting Method"
   ]
  },
  {
   "cell_type": "code",
   "execution_count": 88,
   "metadata": {},
   "outputs": [],
   "source": [
    "from sklearn.ensemble import GradientBoostingRegressor\n",
    "dt_gb = GradientBoostingRegressor(n_estimators = 350, learning_rate=0.3, max_depth=2)\n",
    "dt_gb = dt_gb.fit(X_train, y_train)"
   ]
  },
  {
   "cell_type": "code",
   "execution_count": 89,
   "metadata": {},
   "outputs": [
    {
     "data": {
      "text/plain": [
       "0.6914633304121622"
      ]
     },
     "execution_count": 89,
     "metadata": {},
     "output_type": "execute_result"
    }
   ],
   "source": [
    "dt_gb.score(X_train, y_train)"
   ]
  },
  {
   "cell_type": "code",
   "execution_count": 90,
   "metadata": {},
   "outputs": [
    {
     "data": {
      "text/plain": [
       "0.6858075781497942"
      ]
     },
     "execution_count": 90,
     "metadata": {},
     "output_type": "execute_result"
    }
   ],
   "source": [
    "test_pred2 = dt_gb.predict(X_test)\n",
    "dt_gb.score(X_test, y_test)"
   ]
  },
  {
   "cell_type": "code",
   "execution_count": 91,
   "metadata": {},
   "outputs": [],
   "source": [
    "# Ada Boosting"
   ]
  },
  {
   "cell_type": "code",
   "execution_count": 92,
   "metadata": {},
   "outputs": [
    {
     "data": {
      "text/plain": [
       "AdaBoostRegressor(random_state=1)"
      ]
     },
     "execution_count": 92,
     "metadata": {},
     "output_type": "execute_result"
    }
   ],
   "source": [
    "from sklearn.ensemble import AdaBoostRegressor\n",
    "model = AdaBoostRegressor(random_state=1)\n",
    "model.fit(X_train, y_train)"
   ]
  },
  {
   "cell_type": "code",
   "execution_count": 93,
   "metadata": {},
   "outputs": [
    {
     "data": {
      "text/plain": [
       "0.44945965695128054"
      ]
     },
     "execution_count": 93,
     "metadata": {},
     "output_type": "execute_result"
    }
   ],
   "source": [
    "model.score(X_train,y_train)"
   ]
  },
  {
   "cell_type": "code",
   "execution_count": 94,
   "metadata": {},
   "outputs": [
    {
     "data": {
      "text/plain": [
       "0.4457758934818433"
      ]
     },
     "execution_count": 94,
     "metadata": {},
     "output_type": "execute_result"
    }
   ],
   "source": [
    "model.score(X_test,y_test)"
   ]
  },
  {
   "cell_type": "code",
   "execution_count": 95,
   "metadata": {},
   "outputs": [],
   "source": [
    "# XGBoost"
   ]
  },
  {
   "cell_type": "code",
   "execution_count": 96,
   "metadata": {},
   "outputs": [
    {
     "name": "stdout",
     "output_type": "stream",
     "text": [
      "[22:05:40] WARNING: src/objective/regression_obj.cu:152: reg:linear is now deprecated in favor of reg:squarederror.\n"
     ]
    },
    {
     "data": {
      "text/plain": [
       "XGBRegressor(learning_rate=0.01, random_state=1)"
      ]
     },
     "execution_count": 96,
     "metadata": {},
     "output_type": "execute_result"
    }
   ],
   "source": [
    "import xgboost as xgb\n",
    "model=xgb.XGBRegressor(random_state=1,learning_rate=0.01)\n",
    "model.fit(X_train, y_train)"
   ]
  },
  {
   "cell_type": "code",
   "execution_count": 97,
   "metadata": {},
   "outputs": [
    {
     "data": {
      "text/plain": [
       "-0.03199204558411184"
      ]
     },
     "execution_count": 97,
     "metadata": {},
     "output_type": "execute_result"
    }
   ],
   "source": [
    "model.score(X_train,y_train)"
   ]
  },
  {
   "cell_type": "code",
   "execution_count": 98,
   "metadata": {},
   "outputs": [
    {
     "data": {
      "text/plain": [
       "-0.0365715115460421"
      ]
     },
     "execution_count": 98,
     "metadata": {},
     "output_type": "execute_result"
    }
   ],
   "source": [
    "model.score(X_test,y_test)"
   ]
  },
  {
   "cell_type": "code",
   "execution_count": 99,
   "metadata": {},
   "outputs": [],
   "source": [
    "# Light Gradient Boosting"
   ]
  },
  {
   "cell_type": "code",
   "execution_count": 100,
   "metadata": {},
   "outputs": [
    {
     "data": {
      "text/plain": [
       "LGBMRegressor(learning_rate=0.01, random_state=1)"
      ]
     },
     "execution_count": 100,
     "metadata": {},
     "output_type": "execute_result"
    }
   ],
   "source": [
    "import lightgbm as lgb\n",
    "model = lgb.LGBMRegressor(random_state=1,learning_rate=0.01)\n",
    "model.fit(X_train, y_train)"
   ]
  },
  {
   "cell_type": "code",
   "execution_count": 101,
   "metadata": {},
   "outputs": [
    {
     "data": {
      "text/plain": [
       "0.5734683613535343"
      ]
     },
     "execution_count": 101,
     "metadata": {},
     "output_type": "execute_result"
    }
   ],
   "source": [
    "model.score(X_train,y_train)"
   ]
  },
  {
   "cell_type": "code",
   "execution_count": 102,
   "metadata": {},
   "outputs": [
    {
     "data": {
      "text/plain": [
       "0.5702971085247883"
      ]
     },
     "execution_count": 102,
     "metadata": {},
     "output_type": "execute_result"
    }
   ],
   "source": [
    "model.score(X_test,y_test)"
   ]
  },
  {
   "cell_type": "code",
   "execution_count": 103,
   "metadata": {},
   "outputs": [],
   "source": [
    "# Cat Boost"
   ]
  },
  {
   "cell_type": "code",
   "execution_count": 104,
   "metadata": {},
   "outputs": [
    {
     "name": "stdout",
     "output_type": "stream",
     "text": [
      "0:\tlearn: 5023.0265302\ttotal: 573ms\tremaining: 9m 32s\n",
      "1:\tlearn: 5020.3542414\ttotal: 609ms\tremaining: 5m 4s\n",
      "2:\tlearn: 5017.7594893\ttotal: 653ms\tremaining: 3m 36s\n",
      "3:\tlearn: 5015.1793490\ttotal: 693ms\tremaining: 2m 52s\n",
      "4:\tlearn: 5012.5181138\ttotal: 731ms\tremaining: 2m 25s\n",
      "5:\tlearn: 5009.8715422\ttotal: 770ms\tremaining: 2m 7s\n",
      "6:\tlearn: 5007.3177773\ttotal: 818ms\tremaining: 1m 56s\n",
      "7:\tlearn: 5004.6679032\ttotal: 865ms\tremaining: 1m 47s\n",
      "8:\tlearn: 5002.0219259\ttotal: 904ms\tremaining: 1m 39s\n",
      "9:\tlearn: 4999.4635325\ttotal: 946ms\tremaining: 1m 33s\n",
      "10:\tlearn: 4996.8249676\ttotal: 987ms\tremaining: 1m 28s\n",
      "11:\tlearn: 4994.1902868\ttotal: 1.03s\tremaining: 1m 24s\n",
      "12:\tlearn: 4991.5594858\ttotal: 1.07s\tremaining: 1m 21s\n",
      "13:\tlearn: 4989.0048556\ttotal: 1.13s\tremaining: 1m 19s\n",
      "14:\tlearn: 4986.3814716\ttotal: 1.17s\tremaining: 1m 16s\n",
      "15:\tlearn: 4983.8341805\ttotal: 1.21s\tremaining: 1m 14s\n",
      "16:\tlearn: 4981.2906822\ttotal: 1.26s\tremaining: 1m 12s\n",
      "17:\tlearn: 4978.6782282\ttotal: 1.3s\tremaining: 1m 10s\n",
      "18:\tlearn: 4976.1524327\ttotal: 1.34s\tremaining: 1m 9s\n",
      "19:\tlearn: 4973.6199902\ttotal: 1.38s\tremaining: 1m 7s\n",
      "20:\tlearn: 4970.9706311\ttotal: 1.42s\tremaining: 1m 6s\n",
      "21:\tlearn: 4968.4558896\ttotal: 1.47s\tremaining: 1m 5s\n",
      "22:\tlearn: 4965.9345363\ttotal: 1.51s\tremaining: 1m 4s\n",
      "23:\tlearn: 4963.3434577\ttotal: 1.55s\tremaining: 1m 3s\n",
      "24:\tlearn: 4960.7562088\ttotal: 1.59s\tremaining: 1m 2s\n",
      "25:\tlearn: 4958.2456168\ttotal: 1.64s\tremaining: 1m 1s\n",
      "26:\tlearn: 4955.6656865\ttotal: 1.69s\tremaining: 1m\n",
      "27:\tlearn: 4953.0997538\ttotal: 1.73s\tremaining: 59.9s\n",
      "28:\tlearn: 4950.5998486\ttotal: 1.76s\tremaining: 59.1s\n",
      "29:\tlearn: 4948.1036810\ttotal: 1.8s\tremaining: 58.3s\n",
      "30:\tlearn: 4945.5383010\ttotal: 1.84s\tremaining: 57.7s\n",
      "31:\tlearn: 4943.0669409\ttotal: 1.89s\tremaining: 57.2s\n",
      "32:\tlearn: 4940.5816667\ttotal: 1.94s\tremaining: 56.7s\n",
      "33:\tlearn: 4938.1001130\ttotal: 1.97s\tremaining: 56.1s\n",
      "34:\tlearn: 4935.5930188\ttotal: 2.02s\tremaining: 55.6s\n",
      "35:\tlearn: 4933.1444480\ttotal: 2.06s\tremaining: 55.2s\n",
      "36:\tlearn: 4930.5517776\ttotal: 2.11s\tremaining: 54.9s\n",
      "37:\tlearn: 4928.0944127\ttotal: 2.15s\tremaining: 54.3s\n",
      "38:\tlearn: 4925.5572516\ttotal: 2.19s\tremaining: 53.9s\n",
      "39:\tlearn: 4923.0971207\ttotal: 2.23s\tremaining: 53.5s\n",
      "40:\tlearn: 4920.7565254\ttotal: 2.27s\tremaining: 53s\n",
      "41:\tlearn: 4918.3035548\ttotal: 2.31s\tremaining: 52.7s\n",
      "42:\tlearn: 4915.7319679\ttotal: 2.35s\tremaining: 52.4s\n",
      "43:\tlearn: 4913.2861776\ttotal: 2.39s\tremaining: 52s\n",
      "44:\tlearn: 4910.7697527\ttotal: 2.43s\tremaining: 51.7s\n",
      "45:\tlearn: 4908.2667299\ttotal: 2.47s\tremaining: 51.3s\n",
      "46:\tlearn: 4905.8314081\ttotal: 2.51s\tremaining: 50.9s\n",
      "47:\tlearn: 4903.3997482\ttotal: 2.56s\tremaining: 50.7s\n",
      "48:\tlearn: 4900.8975847\ttotal: 2.6s\tremaining: 50.5s\n",
      "49:\tlearn: 4898.4729838\ttotal: 2.64s\tremaining: 50.2s\n",
      "50:\tlearn: 4895.9874845\ttotal: 2.68s\tremaining: 49.9s\n",
      "51:\tlearn: 4893.5698899\ttotal: 2.72s\tremaining: 49.7s\n",
      "52:\tlearn: 4891.1559363\ttotal: 2.76s\tremaining: 49.3s\n",
      "53:\tlearn: 4888.7456193\ttotal: 2.81s\tremaining: 49.2s\n",
      "54:\tlearn: 4886.2644192\ttotal: 2.85s\tremaining: 49s\n",
      "55:\tlearn: 4883.7380654\ttotal: 2.89s\tremaining: 48.7s\n",
      "56:\tlearn: 4881.3635830\ttotal: 2.93s\tremaining: 48.5s\n",
      "57:\tlearn: 4879.0798586\ttotal: 2.97s\tremaining: 48.3s\n",
      "58:\tlearn: 4876.7123386\ttotal: 3.01s\tremaining: 48s\n",
      "59:\tlearn: 4874.3230455\ttotal: 3.06s\tremaining: 47.9s\n",
      "60:\tlearn: 4871.8622353\ttotal: 3.1s\tremaining: 47.7s\n",
      "61:\tlearn: 4869.4051038\ttotal: 3.14s\tremaining: 47.5s\n",
      "62:\tlearn: 4866.9608364\ttotal: 3.18s\tremaining: 47.3s\n",
      "63:\tlearn: 4864.5943813\ttotal: 3.21s\tremaining: 47s\n",
      "64:\tlearn: 4862.2477921\ttotal: 3.25s\tremaining: 46.8s\n",
      "65:\tlearn: 4859.8138110\ttotal: 3.3s\tremaining: 46.7s\n",
      "66:\tlearn: 4857.4578032\ttotal: 3.34s\tremaining: 46.6s\n",
      "67:\tlearn: 4854.9721978\ttotal: 3.39s\tremaining: 46.4s\n",
      "68:\tlearn: 4852.6390526\ttotal: 3.43s\tremaining: 46.3s\n",
      "69:\tlearn: 4850.3946595\ttotal: 3.47s\tremaining: 46.1s\n",
      "70:\tlearn: 4848.0431965\ttotal: 3.51s\tremaining: 45.9s\n",
      "71:\tlearn: 4845.6200024\ttotal: 3.55s\tremaining: 45.8s\n",
      "72:\tlearn: 4843.1605270\ttotal: 3.6s\tremaining: 45.7s\n",
      "73:\tlearn: 4840.8284708\ttotal: 3.64s\tremaining: 45.6s\n",
      "74:\tlearn: 4838.3668218\ttotal: 3.68s\tremaining: 45.4s\n",
      "75:\tlearn: 4835.9572027\ttotal: 3.73s\tremaining: 45.3s\n",
      "76:\tlearn: 4833.6261456\ttotal: 3.77s\tremaining: 45.3s\n",
      "77:\tlearn: 4831.2234379\ttotal: 3.83s\tremaining: 45.2s\n",
      "78:\tlearn: 4828.8992076\ttotal: 3.88s\tremaining: 45.2s\n",
      "79:\tlearn: 4826.5945700\ttotal: 3.92s\tremaining: 45.1s\n",
      "80:\tlearn: 4824.2020036\ttotal: 3.97s\tremaining: 45s\n",
      "81:\tlearn: 4821.8880704\ttotal: 4.02s\tremaining: 45s\n",
      "82:\tlearn: 4819.5865860\ttotal: 4.07s\tremaining: 45s\n",
      "83:\tlearn: 4817.1553236\ttotal: 4.11s\tremaining: 44.9s\n",
      "84:\tlearn: 4814.8120567\ttotal: 4.15s\tremaining: 44.7s\n",
      "85:\tlearn: 4812.4952862\ttotal: 4.19s\tremaining: 44.6s\n",
      "86:\tlearn: 4810.2141602\ttotal: 4.24s\tremaining: 44.4s\n",
      "87:\tlearn: 4807.8445430\ttotal: 4.27s\tremaining: 44.3s\n",
      "88:\tlearn: 4805.4302534\ttotal: 4.31s\tremaining: 44.1s\n",
      "89:\tlearn: 4803.1432813\ttotal: 4.35s\tremaining: 44s\n",
      "90:\tlearn: 4800.8597943\ttotal: 4.39s\tremaining: 43.9s\n",
      "91:\tlearn: 4798.4557495\ttotal: 4.44s\tremaining: 43.8s\n",
      "92:\tlearn: 4796.1877151\ttotal: 4.48s\tremaining: 43.7s\n",
      "93:\tlearn: 4793.8987179\ttotal: 4.52s\tremaining: 43.6s\n",
      "94:\tlearn: 4791.6619664\ttotal: 4.57s\tremaining: 43.5s\n",
      "95:\tlearn: 4789.3954662\ttotal: 4.61s\tremaining: 43.4s\n",
      "96:\tlearn: 4787.1411299\ttotal: 4.65s\tremaining: 43.3s\n",
      "97:\tlearn: 4784.8815124\ttotal: 4.7s\tremaining: 43.2s\n",
      "98:\tlearn: 4782.7305617\ttotal: 4.74s\tremaining: 43.2s\n",
      "99:\tlearn: 4780.3997119\ttotal: 4.78s\tremaining: 43s\n",
      "100:\tlearn: 4778.1499972\ttotal: 4.82s\tremaining: 42.9s\n",
      "101:\tlearn: 4775.9280105\ttotal: 4.86s\tremaining: 42.8s\n",
      "102:\tlearn: 4773.6851393\ttotal: 4.9s\tremaining: 42.7s\n",
      "103:\tlearn: 4771.4457001\ttotal: 4.95s\tremaining: 42.6s\n",
      "104:\tlearn: 4769.1396777\ttotal: 4.99s\tremaining: 42.5s\n",
      "105:\tlearn: 4766.8371523\ttotal: 5.03s\tremaining: 42.4s\n",
      "106:\tlearn: 4764.5295622\ttotal: 5.07s\tremaining: 42.3s\n",
      "107:\tlearn: 4762.2254697\ttotal: 5.11s\tremaining: 42.2s\n",
      "108:\tlearn: 4759.9248706\ttotal: 5.15s\tremaining: 42.1s\n",
      "109:\tlearn: 4757.5794268\ttotal: 5.2s\tremaining: 42.1s\n",
      "110:\tlearn: 4755.4018696\ttotal: 5.24s\tremaining: 42s\n",
      "111:\tlearn: 4753.1882569\ttotal: 5.28s\tremaining: 41.9s\n",
      "112:\tlearn: 4750.9780405\ttotal: 5.33s\tremaining: 41.9s\n",
      "113:\tlearn: 4748.7712163\ttotal: 5.38s\tremaining: 41.8s\n",
      "114:\tlearn: 4746.5760692\ttotal: 5.42s\tremaining: 41.7s\n",
      "115:\tlearn: 4744.3377372\ttotal: 5.46s\tremaining: 41.6s\n",
      "116:\tlearn: 4742.0629654\ttotal: 5.5s\tremaining: 41.5s\n",
      "117:\tlearn: 4739.7434120\ttotal: 5.54s\tremaining: 41.4s\n",
      "118:\tlearn: 4737.4752987\ttotal: 5.58s\tremaining: 41.3s\n",
      "119:\tlearn: 4735.2877970\ttotal: 5.63s\tremaining: 41.3s\n",
      "120:\tlearn: 4733.0262636\ttotal: 5.67s\tremaining: 41.2s\n",
      "121:\tlearn: 4730.7198041\ttotal: 5.71s\tremaining: 41.1s\n",
      "122:\tlearn: 4728.5419890\ttotal: 5.76s\tremaining: 41.1s\n",
      "123:\tlearn: 4726.4841760\ttotal: 5.8s\tremaining: 41s\n",
      "124:\tlearn: 4724.3128332\ttotal: 5.85s\tremaining: 40.9s\n",
      "125:\tlearn: 4722.1528338\ttotal: 5.89s\tremaining: 40.8s\n",
      "126:\tlearn: 4719.9094578\ttotal: 5.93s\tremaining: 40.7s\n",
      "127:\tlearn: 4717.6698072\ttotal: 5.97s\tremaining: 40.7s\n",
      "128:\tlearn: 4715.4728588\ttotal: 6.01s\tremaining: 40.6s\n",
      "129:\tlearn: 4713.2313130\ttotal: 6.06s\tremaining: 40.6s\n",
      "130:\tlearn: 4711.0094443\ttotal: 6.1s\tremaining: 40.5s\n",
      "131:\tlearn: 4708.8601856\ttotal: 6.14s\tremaining: 40.4s\n",
      "132:\tlearn: 4706.6808085\ttotal: 6.18s\tremaining: 40.3s\n",
      "133:\tlearn: 4704.6371794\ttotal: 6.23s\tremaining: 40.3s\n",
      "134:\tlearn: 4702.4197054\ttotal: 6.28s\tremaining: 40.2s\n",
      "135:\tlearn: 4700.1577134\ttotal: 6.31s\tremaining: 40.1s\n",
      "136:\tlearn: 4697.8991568\ttotal: 6.35s\tremaining: 40s\n",
      "137:\tlearn: 4695.6440316\ttotal: 6.39s\tremaining: 39.9s\n",
      "138:\tlearn: 4693.4901381\ttotal: 6.44s\tremaining: 39.9s\n",
      "139:\tlearn: 4691.3740626\ttotal: 6.49s\tremaining: 39.8s\n",
      "140:\tlearn: 4689.2534595\ttotal: 6.53s\tremaining: 39.8s\n",
      "141:\tlearn: 4687.1439118\ttotal: 6.57s\tremaining: 39.7s\n",
      "142:\tlearn: 4685.0376337\ttotal: 6.61s\tremaining: 39.6s\n",
      "143:\tlearn: 4682.9268011\ttotal: 6.64s\tremaining: 39.5s\n",
      "144:\tlearn: 4680.8425602\ttotal: 6.69s\tremaining: 39.5s\n",
      "145:\tlearn: 4678.6125116\ttotal: 6.74s\tremaining: 39.4s\n",
      "146:\tlearn: 4676.5112902\ttotal: 6.78s\tremaining: 39.3s\n",
      "147:\tlearn: 4674.3717078\ttotal: 6.82s\tremaining: 39.3s\n",
      "148:\tlearn: 4672.3320096\ttotal: 6.86s\tremaining: 39.2s\n",
      "149:\tlearn: 4670.1604013\ttotal: 6.9s\tremaining: 39.1s\n",
      "150:\tlearn: 4668.0717059\ttotal: 6.95s\tremaining: 39.1s\n",
      "151:\tlearn: 4665.9862532\ttotal: 6.99s\tremaining: 39s\n",
      "152:\tlearn: 4663.9115902\ttotal: 7.04s\tremaining: 39s\n",
      "153:\tlearn: 4661.8401535\ttotal: 7.08s\tremaining: 38.9s\n",
      "154:\tlearn: 4659.8336978\ttotal: 7.13s\tremaining: 38.9s\n",
      "155:\tlearn: 4657.7759602\ttotal: 7.17s\tremaining: 38.8s\n",
      "156:\tlearn: 4655.5794610\ttotal: 7.21s\tremaining: 38.7s\n",
      "157:\tlearn: 4653.4774527\ttotal: 7.25s\tremaining: 38.7s\n",
      "158:\tlearn: 4651.4134075\ttotal: 7.29s\tremaining: 38.6s\n",
      "159:\tlearn: 4649.3896487\ttotal: 7.34s\tremaining: 38.5s\n",
      "160:\tlearn: 4647.4271121\ttotal: 7.39s\tremaining: 38.5s\n",
      "161:\tlearn: 4645.2991637\ttotal: 7.43s\tremaining: 38.4s\n",
      "162:\tlearn: 4643.2474374\ttotal: 7.47s\tremaining: 38.4s\n",
      "163:\tlearn: 4641.1989079\ttotal: 7.52s\tremaining: 38.3s\n",
      "164:\tlearn: 4639.1535711\ttotal: 7.56s\tremaining: 38.3s\n",
      "165:\tlearn: 4637.1188283\ttotal: 7.6s\tremaining: 38.2s\n",
      "166:\tlearn: 4635.0378718\ttotal: 7.64s\tremaining: 38.1s\n",
      "167:\tlearn: 4632.9204551\ttotal: 7.68s\tremaining: 38.1s\n",
      "168:\tlearn: 4630.8666567\ttotal: 7.72s\tremaining: 38s\n",
      "169:\tlearn: 4628.8442336\ttotal: 7.78s\tremaining: 38s\n",
      "170:\tlearn: 4626.8295039\ttotal: 7.81s\tremaining: 37.9s\n",
      "171:\tlearn: 4624.8421728\ttotal: 7.86s\tremaining: 37.8s\n",
      "172:\tlearn: 4622.8352261\ttotal: 7.9s\tremaining: 37.8s\n",
      "173:\tlearn: 4620.8248687\ttotal: 7.95s\tremaining: 37.7s\n",
      "174:\tlearn: 4618.8241554\ttotal: 7.99s\tremaining: 37.7s\n",
      "175:\tlearn: 4616.9057665\ttotal: 8.04s\tremaining: 37.6s\n",
      "176:\tlearn: 4614.8972826\ttotal: 8.08s\tremaining: 37.6s\n",
      "177:\tlearn: 4612.8919414\ttotal: 8.12s\tremaining: 37.5s\n",
      "178:\tlearn: 4610.8068299\ttotal: 8.16s\tremaining: 37.4s\n",
      "179:\tlearn: 4608.8075424\ttotal: 8.2s\tremaining: 37.4s\n",
      "180:\tlearn: 4606.7691556\ttotal: 8.25s\tremaining: 37.3s\n",
      "181:\tlearn: 4604.7339436\ttotal: 8.3s\tremaining: 37.3s\n",
      "182:\tlearn: 4602.7019024\ttotal: 8.34s\tremaining: 37.2s\n",
      "183:\tlearn: 4600.6801214\ttotal: 8.38s\tremaining: 37.2s\n",
      "184:\tlearn: 4598.6962982\ttotal: 8.42s\tremaining: 37.1s\n",
      "185:\tlearn: 4596.5863490\ttotal: 8.46s\tremaining: 37s\n",
      "186:\tlearn: 4594.6156534\ttotal: 8.51s\tremaining: 37s\n",
      "187:\tlearn: 4592.6060557\ttotal: 8.57s\tremaining: 37s\n",
      "188:\tlearn: 4590.7253503\ttotal: 8.62s\tremaining: 37s\n",
      "189:\tlearn: 4588.7566278\ttotal: 8.66s\tremaining: 36.9s\n",
      "190:\tlearn: 4586.7980521\ttotal: 8.71s\tremaining: 36.9s\n",
      "191:\tlearn: 4584.8488644\ttotal: 8.75s\tremaining: 36.8s\n",
      "192:\tlearn: 4582.8816941\ttotal: 8.8s\tremaining: 36.8s\n",
      "193:\tlearn: 4580.9542352\ttotal: 8.86s\tremaining: 36.8s\n",
      "194:\tlearn: 4579.0077383\ttotal: 8.9s\tremaining: 36.7s\n",
      "195:\tlearn: 4577.2075758\ttotal: 8.95s\tremaining: 36.7s\n",
      "196:\tlearn: 4575.2667848\ttotal: 8.99s\tremaining: 36.6s\n",
      "197:\tlearn: 4573.2355521\ttotal: 9.03s\tremaining: 36.6s\n",
      "198:\tlearn: 4571.2514720\ttotal: 9.07s\tremaining: 36.5s\n",
      "199:\tlearn: 4569.4897878\ttotal: 9.12s\tremaining: 36.5s\n",
      "200:\tlearn: 4567.5667265\ttotal: 9.16s\tremaining: 36.4s\n",
      "201:\tlearn: 4565.5026410\ttotal: 9.21s\tremaining: 36.4s\n",
      "202:\tlearn: 4563.5941223\ttotal: 9.25s\tremaining: 36.3s\n",
      "203:\tlearn: 4561.8000383\ttotal: 9.29s\tremaining: 36.3s\n",
      "204:\tlearn: 4559.7444655\ttotal: 9.33s\tremaining: 36.2s\n",
      "205:\tlearn: 4557.8443730\ttotal: 9.38s\tremaining: 36.2s\n",
      "206:\tlearn: 4555.9323779\ttotal: 9.43s\tremaining: 36.1s\n",
      "207:\tlearn: 4554.0165197\ttotal: 9.46s\tremaining: 36s\n",
      "208:\tlearn: 4551.9727033\ttotal: 9.5s\tremaining: 36s\n",
      "209:\tlearn: 4549.9388830\ttotal: 9.55s\tremaining: 35.9s\n",
      "210:\tlearn: 4548.1583077\ttotal: 9.59s\tremaining: 35.9s\n",
      "211:\tlearn: 4546.2450508\ttotal: 9.63s\tremaining: 35.8s\n",
      "212:\tlearn: 4544.2129745\ttotal: 9.68s\tremaining: 35.8s\n",
      "213:\tlearn: 4542.2721282\ttotal: 9.72s\tremaining: 35.7s\n",
      "214:\tlearn: 4540.3473122\ttotal: 9.78s\tremaining: 35.7s\n",
      "215:\tlearn: 4538.4192505\ttotal: 9.83s\tremaining: 35.7s\n",
      "216:\tlearn: 4536.3987843\ttotal: 9.87s\tremaining: 35.6s\n",
      "217:\tlearn: 4534.4231582\ttotal: 9.91s\tremaining: 35.5s\n",
      "218:\tlearn: 4532.4969654\ttotal: 9.95s\tremaining: 35.5s\n",
      "219:\tlearn: 4530.7992214\ttotal: 9.99s\tremaining: 35.4s\n",
      "220:\tlearn: 4528.8317489\ttotal: 10s\tremaining: 35.4s\n",
      "221:\tlearn: 4526.8673564\ttotal: 10.1s\tremaining: 35.4s\n",
      "222:\tlearn: 4524.9942877\ttotal: 10.1s\tremaining: 35.3s\n",
      "223:\tlearn: 4522.9936145\ttotal: 10.2s\tremaining: 35.2s\n",
      "224:\tlearn: 4521.0444419\ttotal: 10.2s\tremaining: 35.2s\n",
      "225:\tlearn: 4519.1376770\ttotal: 10.3s\tremaining: 35.2s\n",
      "226:\tlearn: 4517.2760637\ttotal: 10.3s\tremaining: 35.1s\n",
      "227:\tlearn: 4515.4386003\ttotal: 10.4s\tremaining: 35.1s\n",
      "228:\tlearn: 4513.5597641\ttotal: 10.4s\tremaining: 35s\n",
      "229:\tlearn: 4511.5762036\ttotal: 10.4s\tremaining: 34.9s\n",
      "230:\tlearn: 4509.6964964\ttotal: 10.5s\tremaining: 34.9s\n",
      "231:\tlearn: 4507.8703894\ttotal: 10.5s\tremaining: 34.9s\n",
      "232:\tlearn: 4505.9367576\ttotal: 10.6s\tremaining: 34.8s\n",
      "233:\tlearn: 4504.0718866\ttotal: 10.6s\tremaining: 34.7s\n",
      "234:\tlearn: 4502.2331962\ttotal: 10.7s\tremaining: 34.7s\n",
      "235:\tlearn: 4500.3974321\ttotal: 10.7s\tremaining: 34.6s\n",
      "236:\tlearn: 4498.5474440\ttotal: 10.7s\tremaining: 34.6s\n",
      "237:\tlearn: 4496.7111674\ttotal: 10.8s\tremaining: 34.5s\n",
      "238:\tlearn: 4494.9675103\ttotal: 10.8s\tremaining: 34.5s\n",
      "239:\tlearn: 4493.0117105\ttotal: 10.9s\tremaining: 34.4s\n",
      "240:\tlearn: 4491.1724017\ttotal: 10.9s\tremaining: 34.4s\n",
      "241:\tlearn: 4489.3532207\ttotal: 11s\tremaining: 34.4s\n",
      "242:\tlearn: 4487.5068109\ttotal: 11s\tremaining: 34.3s\n",
      "243:\tlearn: 4485.6698083\ttotal: 11.1s\tremaining: 34.2s\n",
      "244:\tlearn: 4483.9782769\ttotal: 11.1s\tremaining: 34.2s\n",
      "245:\tlearn: 4482.0790171\ttotal: 11.1s\tremaining: 34.2s\n",
      "246:\tlearn: 4480.2312320\ttotal: 11.2s\tremaining: 34.1s\n",
      "247:\tlearn: 4478.4286232\ttotal: 11.2s\tremaining: 34.1s\n",
      "248:\tlearn: 4476.6349336\ttotal: 11.3s\tremaining: 34s\n",
      "249:\tlearn: 4474.7814353\ttotal: 11.3s\tremaining: 34s\n",
      "250:\tlearn: 4473.0078013\ttotal: 11.4s\tremaining: 33.9s\n",
      "251:\tlearn: 4471.2491863\ttotal: 11.4s\tremaining: 33.9s\n",
      "252:\tlearn: 4469.4486206\ttotal: 11.5s\tremaining: 33.8s\n",
      "253:\tlearn: 4467.5308713\ttotal: 11.5s\tremaining: 33.8s\n",
      "254:\tlearn: 4465.7053271\ttotal: 11.5s\tremaining: 33.7s\n",
      "255:\tlearn: 4463.9309217\ttotal: 11.6s\tremaining: 33.7s\n",
      "256:\tlearn: 4462.0613282\ttotal: 11.6s\tremaining: 33.6s\n",
      "257:\tlearn: 4460.2923865\ttotal: 11.7s\tremaining: 33.6s\n",
      "258:\tlearn: 4458.5203758\ttotal: 11.7s\tremaining: 33.5s\n",
      "259:\tlearn: 4456.9081728\ttotal: 11.8s\tremaining: 33.5s\n",
      "260:\tlearn: 4455.2222066\ttotal: 11.8s\tremaining: 33.4s\n",
      "261:\tlearn: 4453.4581528\ttotal: 11.9s\tremaining: 33.4s\n",
      "262:\tlearn: 4451.7027671\ttotal: 11.9s\tremaining: 33.3s\n",
      "263:\tlearn: 4449.8857566\ttotal: 11.9s\tremaining: 33.3s\n",
      "264:\tlearn: 4448.1050379\ttotal: 12s\tremaining: 33.2s\n",
      "265:\tlearn: 4446.3093328\ttotal: 12s\tremaining: 33.2s\n",
      "266:\tlearn: 4444.7343555\ttotal: 12.1s\tremaining: 33.2s\n",
      "267:\tlearn: 4442.9922452\ttotal: 12.1s\tremaining: 33.1s\n",
      "268:\tlearn: 4441.1593404\ttotal: 12.2s\tremaining: 33.1s\n",
      "269:\tlearn: 4439.5828569\ttotal: 12.2s\tremaining: 33s\n",
      "270:\tlearn: 4437.8427474\ttotal: 12.3s\tremaining: 33s\n",
      "271:\tlearn: 4436.0117591\ttotal: 12.3s\tremaining: 32.9s\n",
      "272:\tlearn: 4434.2770451\ttotal: 12.3s\tremaining: 32.9s\n",
      "273:\tlearn: 4432.5692035\ttotal: 12.4s\tremaining: 32.8s\n",
      "274:\tlearn: 4430.9923230\ttotal: 12.4s\tremaining: 32.8s\n",
      "275:\tlearn: 4429.3752655\ttotal: 12.5s\tremaining: 32.7s\n",
      "276:\tlearn: 4427.5910037\ttotal: 12.5s\tremaining: 32.7s\n",
      "277:\tlearn: 4425.8687856\ttotal: 12.6s\tremaining: 32.7s\n",
      "278:\tlearn: 4424.1549821\ttotal: 12.6s\tremaining: 32.7s\n",
      "279:\tlearn: 4422.3444938\ttotal: 12.7s\tremaining: 32.6s\n",
      "280:\tlearn: 4420.6660243\ttotal: 12.7s\tremaining: 32.6s\n",
      "281:\tlearn: 4418.9285661\ttotal: 12.8s\tremaining: 32.5s\n",
      "282:\tlearn: 4417.1994931\ttotal: 12.8s\tremaining: 32.5s\n",
      "283:\tlearn: 4415.6014196\ttotal: 12.9s\tremaining: 32.4s\n",
      "284:\tlearn: 4413.8813829\ttotal: 12.9s\tremaining: 32.4s\n",
      "285:\tlearn: 4412.0857967\ttotal: 13s\tremaining: 32.4s\n",
      "286:\tlearn: 4410.2533993\ttotal: 13s\tremaining: 32.3s\n",
      "287:\tlearn: 4408.5687192\ttotal: 13s\tremaining: 32.2s\n",
      "288:\tlearn: 4406.8323506\ttotal: 13.1s\tremaining: 32.2s\n",
      "289:\tlearn: 4405.3031315\ttotal: 13.1s\tremaining: 32.2s\n",
      "290:\tlearn: 4403.7635730\ttotal: 13.2s\tremaining: 32.1s\n",
      "291:\tlearn: 4401.9883695\ttotal: 13.2s\tremaining: 32.1s\n",
      "292:\tlearn: 4400.1711448\ttotal: 13.3s\tremaining: 32.1s\n",
      "293:\tlearn: 4398.4638930\ttotal: 13.3s\tremaining: 32s\n",
      "294:\tlearn: 4396.6910425\ttotal: 13.4s\tremaining: 32s\n",
      "295:\tlearn: 4395.1354365\ttotal: 13.4s\tremaining: 31.9s\n",
      "296:\tlearn: 4393.4618882\ttotal: 13.5s\tremaining: 31.9s\n",
      "297:\tlearn: 4391.8024941\ttotal: 13.5s\tremaining: 31.8s\n",
      "298:\tlearn: 4390.2585969\ttotal: 13.6s\tremaining: 31.8s\n",
      "299:\tlearn: 4388.5663776\ttotal: 13.6s\tremaining: 31.8s\n",
      "300:\tlearn: 4386.9920456\ttotal: 13.7s\tremaining: 31.7s\n",
      "301:\tlearn: 4385.3312741\ttotal: 13.7s\tremaining: 31.7s\n",
      "302:\tlearn: 4383.6784999\ttotal: 13.7s\tremaining: 31.6s\n",
      "303:\tlearn: 4381.8889118\ttotal: 13.8s\tremaining: 31.6s\n",
      "304:\tlearn: 4380.2126380\ttotal: 13.8s\tremaining: 31.5s\n",
      "305:\tlearn: 4378.5245717\ttotal: 13.9s\tremaining: 31.5s\n",
      "306:\tlearn: 4376.7861567\ttotal: 13.9s\tremaining: 31.4s\n",
      "307:\tlearn: 4375.1407495\ttotal: 14s\tremaining: 31.4s\n",
      "308:\tlearn: 4373.4022823\ttotal: 14s\tremaining: 31.3s\n",
      "309:\tlearn: 4371.7191666\ttotal: 14.1s\tremaining: 31.3s\n",
      "310:\tlearn: 4370.0440149\ttotal: 14.1s\tremaining: 31.2s\n",
      "311:\tlearn: 4368.5095047\ttotal: 14.1s\tremaining: 31.2s\n",
      "312:\tlearn: 4366.9780051\ttotal: 14.2s\tremaining: 31.1s\n",
      "313:\tlearn: 4365.4593456\ttotal: 14.2s\tremaining: 31.1s\n",
      "314:\tlearn: 4363.7939034\ttotal: 14.3s\tremaining: 31.1s\n",
      "315:\tlearn: 4362.0339547\ttotal: 14.3s\tremaining: 31s\n",
      "316:\tlearn: 4360.3472756\ttotal: 14.4s\tremaining: 31s\n",
      "317:\tlearn: 4358.6893679\ttotal: 14.4s\tremaining: 30.9s\n",
      "318:\tlearn: 4357.1967974\ttotal: 14.5s\tremaining: 30.9s\n",
      "319:\tlearn: 4355.5538333\ttotal: 14.5s\tremaining: 30.9s\n",
      "320:\tlearn: 4353.9595273\ttotal: 14.6s\tremaining: 30.8s\n",
      "321:\tlearn: 4352.3064866\ttotal: 14.6s\tremaining: 30.8s\n",
      "322:\tlearn: 4350.6063108\ttotal: 14.7s\tremaining: 30.7s\n",
      "323:\tlearn: 4349.0058008\ttotal: 14.7s\tremaining: 30.7s\n",
      "324:\tlearn: 4347.3055920\ttotal: 14.8s\tremaining: 30.6s\n",
      "325:\tlearn: 4345.6625844\ttotal: 14.8s\tremaining: 30.6s\n",
      "326:\tlearn: 4344.1777885\ttotal: 14.8s\tremaining: 30.5s\n",
      "327:\tlearn: 4342.5819492\ttotal: 14.9s\tremaining: 30.5s\n",
      "328:\tlearn: 4340.8913457\ttotal: 14.9s\tremaining: 30.4s\n",
      "329:\tlearn: 4339.2741104\ttotal: 15s\tremaining: 30.4s\n",
      "330:\tlearn: 4337.5885648\ttotal: 15s\tremaining: 30.3s\n",
      "331:\tlearn: 4336.0266483\ttotal: 15s\tremaining: 30.3s\n",
      "332:\tlearn: 4334.3462099\ttotal: 15.1s\tremaining: 30.2s\n",
      "333:\tlearn: 4332.6684805\ttotal: 15.1s\tremaining: 30.2s\n",
      "334:\tlearn: 4331.1849080\ttotal: 15.2s\tremaining: 30.1s\n",
      "335:\tlearn: 4329.5663776\ttotal: 15.2s\tremaining: 30.1s\n",
      "336:\tlearn: 4327.9926097\ttotal: 15.3s\tremaining: 30s\n",
      "337:\tlearn: 4326.3293648\ttotal: 15.3s\tremaining: 30s\n",
      "338:\tlearn: 4324.6637885\ttotal: 15.4s\tremaining: 30s\n",
      "339:\tlearn: 4323.0973477\ttotal: 15.4s\tremaining: 29.9s\n",
      "340:\tlearn: 4321.6813804\ttotal: 15.5s\tremaining: 29.9s\n",
      "341:\tlearn: 4320.2232397\ttotal: 15.5s\tremaining: 29.8s\n",
      "342:\tlearn: 4318.5966875\ttotal: 15.6s\tremaining: 29.8s\n",
      "343:\tlearn: 4317.1320253\ttotal: 15.6s\tremaining: 29.8s\n",
      "344:\tlearn: 4315.5763192\ttotal: 15.7s\tremaining: 29.7s\n",
      "345:\tlearn: 4314.1162655\ttotal: 15.7s\tremaining: 29.7s\n",
      "346:\tlearn: 4312.5034660\ttotal: 15.7s\tremaining: 29.6s\n",
      "347:\tlearn: 4311.1021605\ttotal: 15.8s\tremaining: 29.6s\n",
      "348:\tlearn: 4309.5556355\ttotal: 15.8s\tremaining: 29.5s\n",
      "349:\tlearn: 4308.1048024\ttotal: 15.9s\tremaining: 29.5s\n",
      "350:\tlearn: 4306.5210354\ttotal: 15.9s\tremaining: 29.4s\n",
      "351:\tlearn: 4304.9446763\ttotal: 16s\tremaining: 29.4s\n",
      "352:\tlearn: 4303.3660511\ttotal: 16s\tremaining: 29.3s\n",
      "353:\tlearn: 4301.8317254\ttotal: 16.1s\tremaining: 29.3s\n",
      "354:\tlearn: 4300.2999208\ttotal: 16.1s\tremaining: 29.3s\n",
      "355:\tlearn: 4298.7754024\ttotal: 16.2s\tremaining: 29.2s\n",
      "356:\tlearn: 4297.3509088\ttotal: 16.2s\tremaining: 29.2s\n",
      "357:\tlearn: 4295.7845543\ttotal: 16.2s\tremaining: 29.1s\n",
      "358:\tlearn: 4294.2207610\ttotal: 16.3s\tremaining: 29.1s\n",
      "359:\tlearn: 4292.7921569\ttotal: 16.4s\tremaining: 29.1s\n",
      "360:\tlearn: 4291.1383965\ttotal: 16.4s\tremaining: 29s\n",
      "361:\tlearn: 4289.5920946\ttotal: 16.4s\tremaining: 29s\n",
      "362:\tlearn: 4287.9796665\ttotal: 16.5s\tremaining: 28.9s\n",
      "363:\tlearn: 4286.4278156\ttotal: 16.5s\tremaining: 28.9s\n",
      "364:\tlearn: 4285.0797171\ttotal: 16.6s\tremaining: 28.8s\n",
      "365:\tlearn: 4283.5325092\ttotal: 16.6s\tremaining: 28.8s\n",
      "366:\tlearn: 4281.9995205\ttotal: 16.7s\tremaining: 28.7s\n",
      "367:\tlearn: 4280.5212883\ttotal: 16.7s\tremaining: 28.7s\n",
      "368:\tlearn: 4278.9977861\ttotal: 16.8s\tremaining: 28.7s\n",
      "369:\tlearn: 4277.5016645\ttotal: 16.8s\tremaining: 28.6s\n",
      "370:\tlearn: 4275.9666285\ttotal: 16.9s\tremaining: 28.6s\n",
      "371:\tlearn: 4274.4457892\ttotal: 16.9s\tremaining: 28.5s\n",
      "372:\tlearn: 4272.8558518\ttotal: 16.9s\tremaining: 28.5s\n",
      "373:\tlearn: 4271.2995765\ttotal: 17s\tremaining: 28.5s\n",
      "374:\tlearn: 4269.9015704\ttotal: 17s\tremaining: 28.4s\n",
      "375:\tlearn: 4268.3896298\ttotal: 17.1s\tremaining: 28.4s\n",
      "376:\tlearn: 4266.9098290\ttotal: 17.1s\tremaining: 28.3s\n",
      "377:\tlearn: 4265.5345180\ttotal: 17.2s\tremaining: 28.3s\n",
      "378:\tlearn: 4263.9568325\ttotal: 17.2s\tremaining: 28.2s\n",
      "379:\tlearn: 4262.5933876\ttotal: 17.3s\tremaining: 28.2s\n",
      "380:\tlearn: 4261.1261557\ttotal: 17.3s\tremaining: 28.1s\n",
      "381:\tlearn: 4259.6747118\ttotal: 17.4s\tremaining: 28.1s\n",
      "382:\tlearn: 4258.2344151\ttotal: 17.4s\tremaining: 28s\n",
      "383:\tlearn: 4256.8547947\ttotal: 17.4s\tremaining: 28s\n",
      "384:\tlearn: 4255.5300018\ttotal: 17.5s\tremaining: 28s\n",
      "385:\tlearn: 4254.1556552\ttotal: 17.5s\tremaining: 27.9s\n",
      "386:\tlearn: 4252.6663209\ttotal: 17.6s\tremaining: 27.9s\n",
      "387:\tlearn: 4251.3104340\ttotal: 17.6s\tremaining: 27.8s\n",
      "388:\tlearn: 4249.8808951\ttotal: 17.7s\tremaining: 27.8s\n",
      "389:\tlearn: 4248.5139360\ttotal: 17.7s\tremaining: 27.7s\n",
      "390:\tlearn: 4246.9587248\ttotal: 17.8s\tremaining: 27.7s\n",
      "391:\tlearn: 4245.4699221\ttotal: 17.8s\tremaining: 27.6s\n",
      "392:\tlearn: 4244.0240955\ttotal: 17.9s\tremaining: 27.6s\n",
      "393:\tlearn: 4242.4778860\ttotal: 17.9s\tremaining: 27.5s\n",
      "394:\tlearn: 4240.9342050\ttotal: 17.9s\tremaining: 27.5s\n",
      "395:\tlearn: 4239.4546414\ttotal: 18s\tremaining: 27.4s\n",
      "396:\tlearn: 4238.1202253\ttotal: 18s\tremaining: 27.4s\n",
      "397:\tlearn: 4236.5718512\ttotal: 18.1s\tremaining: 27.4s\n",
      "398:\tlearn: 4235.0983120\ttotal: 18.1s\tremaining: 27.3s\n",
      "399:\tlearn: 4233.7905985\ttotal: 18.2s\tremaining: 27.3s\n",
      "400:\tlearn: 4232.4447046\ttotal: 18.2s\tremaining: 27.2s\n",
      "401:\tlearn: 4230.9777199\ttotal: 18.3s\tremaining: 27.2s\n",
      "402:\tlearn: 4229.4503557\ttotal: 18.3s\tremaining: 27.1s\n",
      "403:\tlearn: 4227.8903519\ttotal: 18.4s\tremaining: 27.1s\n",
      "404:\tlearn: 4226.4496303\ttotal: 18.4s\tremaining: 27s\n",
      "405:\tlearn: 4225.1362311\ttotal: 18.5s\tremaining: 27s\n",
      "406:\tlearn: 4223.6175906\ttotal: 18.5s\tremaining: 26.9s\n",
      "407:\tlearn: 4222.1777319\ttotal: 18.5s\tremaining: 26.9s\n",
      "408:\tlearn: 4220.8652647\ttotal: 18.6s\tremaining: 26.9s\n",
      "409:\tlearn: 4219.5377500\ttotal: 18.6s\tremaining: 26.8s\n",
      "410:\tlearn: 4218.0903967\ttotal: 18.7s\tremaining: 26.8s\n",
      "411:\tlearn: 4216.8021270\ttotal: 18.7s\tremaining: 26.7s\n",
      "412:\tlearn: 4215.3255885\ttotal: 18.8s\tremaining: 26.7s\n",
      "413:\tlearn: 4213.8942089\ttotal: 18.8s\tremaining: 26.6s\n",
      "414:\tlearn: 4212.5266824\ttotal: 18.9s\tremaining: 26.6s\n",
      "415:\tlearn: 4211.0900611\ttotal: 18.9s\tremaining: 26.5s\n",
      "416:\tlearn: 4209.6654425\ttotal: 18.9s\tremaining: 26.5s\n",
      "417:\tlearn: 4208.2437046\ttotal: 19s\tremaining: 26.4s\n",
      "418:\tlearn: 4206.9413599\ttotal: 19s\tremaining: 26.4s\n",
      "419:\tlearn: 4205.4251988\ttotal: 19.1s\tremaining: 26.4s\n",
      "420:\tlearn: 4204.1660655\ttotal: 19.1s\tremaining: 26.3s\n",
      "421:\tlearn: 4202.8778081\ttotal: 19.2s\tremaining: 26.3s\n",
      "422:\tlearn: 4201.4595490\ttotal: 19.2s\tremaining: 26.2s\n",
      "423:\tlearn: 4200.0492246\ttotal: 19.3s\tremaining: 26.2s\n",
      "424:\tlearn: 4198.7667677\ttotal: 19.3s\tremaining: 26.1s\n",
      "425:\tlearn: 4197.2895142\ttotal: 19.4s\tremaining: 26.1s\n",
      "426:\tlearn: 4195.8130977\ttotal: 19.4s\tremaining: 26s\n",
      "427:\tlearn: 4194.5340096\ttotal: 19.5s\tremaining: 26s\n",
      "428:\tlearn: 4193.0585372\ttotal: 19.5s\tremaining: 26s\n",
      "429:\tlearn: 4191.7786358\ttotal: 19.6s\tremaining: 25.9s\n",
      "430:\tlearn: 4190.5106199\ttotal: 19.6s\tremaining: 25.9s\n",
      "431:\tlearn: 4189.0164289\ttotal: 19.6s\tremaining: 25.8s\n",
      "432:\tlearn: 4187.6138924\ttotal: 19.7s\tremaining: 25.8s\n",
      "433:\tlearn: 4186.2136908\ttotal: 19.7s\tremaining: 25.7s\n",
      "434:\tlearn: 4184.8587844\ttotal: 19.8s\tremaining: 25.7s\n",
      "435:\tlearn: 4183.3636666\ttotal: 19.8s\tremaining: 25.6s\n",
      "436:\tlearn: 4181.9054061\ttotal: 19.9s\tremaining: 25.6s\n",
      "437:\tlearn: 4180.5522828\ttotal: 19.9s\tremaining: 25.6s\n",
      "438:\tlearn: 4179.2797741\ttotal: 20s\tremaining: 25.5s\n",
      "439:\tlearn: 4177.7929738\ttotal: 20s\tremaining: 25.5s\n",
      "440:\tlearn: 4176.5235331\ttotal: 20.1s\tremaining: 25.5s\n",
      "441:\tlearn: 4175.2949645\ttotal: 20.1s\tremaining: 25.4s\n",
      "442:\tlearn: 4174.0446623\ttotal: 20.2s\tremaining: 25.4s\n",
      "443:\tlearn: 4172.6680883\ttotal: 20.2s\tremaining: 25.3s\n",
      "444:\tlearn: 4171.1885906\ttotal: 20.3s\tremaining: 25.3s\n",
      "445:\tlearn: 4169.9436183\ttotal: 20.3s\tremaining: 25.2s\n",
      "446:\tlearn: 4168.6934559\ttotal: 20.4s\tremaining: 25.2s\n",
      "447:\tlearn: 4167.2537578\ttotal: 20.4s\tremaining: 25.1s\n",
      "448:\tlearn: 4165.7806895\ttotal: 20.4s\tremaining: 25.1s\n",
      "449:\tlearn: 4164.5275561\ttotal: 20.5s\tremaining: 25s\n",
      "450:\tlearn: 4163.1675103\ttotal: 20.5s\tremaining: 25s\n",
      "451:\tlearn: 4161.9267342\ttotal: 20.6s\tremaining: 25s\n",
      "452:\tlearn: 4160.7174990\ttotal: 20.6s\tremaining: 24.9s\n",
      "453:\tlearn: 4159.4836165\ttotal: 20.7s\tremaining: 24.9s\n",
      "454:\tlearn: 4158.1241723\ttotal: 20.7s\tremaining: 24.8s\n",
      "455:\tlearn: 4156.7739816\ttotal: 20.8s\tremaining: 24.8s\n",
      "456:\tlearn: 4155.4189684\ttotal: 20.8s\tremaining: 24.7s\n",
      "457:\tlearn: 4154.2339888\ttotal: 20.9s\tremaining: 24.7s\n",
      "458:\tlearn: 4152.9986357\ttotal: 20.9s\tremaining: 24.6s\n",
      "459:\tlearn: 4151.7737944\ttotal: 21s\tremaining: 24.6s\n",
      "460:\tlearn: 4150.4336509\ttotal: 21s\tremaining: 24.5s\n",
      "461:\tlearn: 4149.0957953\ttotal: 21s\tremaining: 24.5s\n",
      "462:\tlearn: 4147.8922013\ttotal: 21.1s\tremaining: 24.5s\n",
      "463:\tlearn: 4146.6761558\ttotal: 21.1s\tremaining: 24.4s\n",
      "464:\tlearn: 4145.4522163\ttotal: 21.2s\tremaining: 24.4s\n",
      "465:\tlearn: 4144.1220448\ttotal: 21.2s\tremaining: 24.3s\n",
      "466:\tlearn: 4142.6954466\ttotal: 21.3s\tremaining: 24.3s\n",
      "467:\tlearn: 4141.5139121\ttotal: 21.3s\tremaining: 24.2s\n",
      "468:\tlearn: 4140.3119007\ttotal: 21.4s\tremaining: 24.2s\n",
      "469:\tlearn: 4138.9119854\ttotal: 21.4s\tremaining: 24.2s\n",
      "470:\tlearn: 4137.7077426\ttotal: 21.5s\tremaining: 24.1s\n",
      "471:\tlearn: 4136.5108240\ttotal: 21.5s\tremaining: 24.1s\n",
      "472:\tlearn: 4135.0974383\ttotal: 21.6s\tremaining: 24s\n",
      "473:\tlearn: 4133.9001652\ttotal: 21.6s\tremaining: 24s\n",
      "474:\tlearn: 4132.6448664\ttotal: 21.7s\tremaining: 23.9s\n",
      "475:\tlearn: 4131.4547479\ttotal: 21.7s\tremaining: 23.9s\n",
      "476:\tlearn: 4130.2670314\ttotal: 21.7s\tremaining: 23.8s\n",
      "477:\tlearn: 4128.8814160\ttotal: 21.8s\tremaining: 23.8s\n",
      "478:\tlearn: 4127.4563034\ttotal: 21.8s\tremaining: 23.7s\n",
      "479:\tlearn: 4126.1447716\ttotal: 21.9s\tremaining: 23.7s\n",
      "480:\tlearn: 4124.7169498\ttotal: 21.9s\tremaining: 23.7s\n",
      "481:\tlearn: 4123.5215658\ttotal: 22s\tremaining: 23.6s\n",
      "482:\tlearn: 4122.3285565\ttotal: 22s\tremaining: 23.6s\n",
      "483:\tlearn: 4120.9341021\ttotal: 22.1s\tremaining: 23.5s\n",
      "484:\tlearn: 4119.5608154\ttotal: 22.1s\tremaining: 23.5s\n",
      "485:\tlearn: 4118.2966067\ttotal: 22.1s\tremaining: 23.4s\n",
      "486:\tlearn: 4117.1097288\ttotal: 22.2s\tremaining: 23.4s\n",
      "487:\tlearn: 4115.7423784\ttotal: 22.2s\tremaining: 23.3s\n",
      "488:\tlearn: 4114.5960139\ttotal: 22.3s\tremaining: 23.3s\n",
      "489:\tlearn: 4113.3065313\ttotal: 22.3s\tremaining: 23.2s\n",
      "490:\tlearn: 4112.1419160\ttotal: 22.4s\tremaining: 23.2s\n",
      "491:\tlearn: 4110.8529608\ttotal: 22.4s\tremaining: 23.2s\n",
      "492:\tlearn: 4109.5803402\ttotal: 22.5s\tremaining: 23.1s\n",
      "493:\tlearn: 4108.1914492\ttotal: 22.5s\tremaining: 23.1s\n",
      "494:\tlearn: 4107.0185929\ttotal: 22.6s\tremaining: 23s\n",
      "495:\tlearn: 4105.8008832\ttotal: 22.6s\tremaining: 23s\n",
      "496:\tlearn: 4104.4784885\ttotal: 22.7s\tremaining: 22.9s\n",
      "497:\tlearn: 4103.3110456\ttotal: 22.7s\tremaining: 22.9s\n",
      "498:\tlearn: 4102.1577072\ttotal: 22.7s\tremaining: 22.8s\n",
      "499:\tlearn: 4101.0090481\ttotal: 22.8s\tremaining: 22.8s\n",
      "500:\tlearn: 4099.8530997\ttotal: 22.8s\tremaining: 22.7s\n",
      "501:\tlearn: 4098.6932120\ttotal: 22.9s\tremaining: 22.7s\n",
      "502:\tlearn: 4097.5474381\ttotal: 22.9s\tremaining: 22.6s\n",
      "503:\tlearn: 4096.3299167\ttotal: 23s\tremaining: 22.6s\n",
      "504:\tlearn: 4095.1916735\ttotal: 23s\tremaining: 22.6s\n",
      "505:\tlearn: 4093.7942800\ttotal: 23.1s\tremaining: 22.5s\n",
      "506:\tlearn: 4092.4570786\ttotal: 23.1s\tremaining: 22.5s\n",
      "507:\tlearn: 4091.3179993\ttotal: 23.2s\tremaining: 22.4s\n",
      "508:\tlearn: 4090.1691462\ttotal: 23.2s\tremaining: 22.4s\n",
      "509:\tlearn: 4088.7983533\ttotal: 23.2s\tremaining: 22.3s\n",
      "510:\tlearn: 4087.5455843\ttotal: 23.3s\tremaining: 22.3s\n",
      "511:\tlearn: 4086.4014883\ttotal: 23.3s\tremaining: 22.3s\n",
      "512:\tlearn: 4085.0180399\ttotal: 23.4s\tremaining: 22.2s\n",
      "513:\tlearn: 4083.6918002\ttotal: 23.4s\tremaining: 22.2s\n",
      "514:\tlearn: 4082.3707043\ttotal: 23.5s\tremaining: 22.1s\n",
      "515:\tlearn: 4081.2378751\ttotal: 23.5s\tremaining: 22.1s\n",
      "516:\tlearn: 4079.8893093\ttotal: 23.6s\tremaining: 22s\n",
      "517:\tlearn: 4078.5740423\ttotal: 23.6s\tremaining: 22s\n",
      "518:\tlearn: 4077.3756065\ttotal: 23.7s\tremaining: 21.9s\n",
      "519:\tlearn: 4076.2535061\ttotal: 23.7s\tremaining: 21.9s\n",
      "520:\tlearn: 4074.9097003\ttotal: 23.7s\tremaining: 21.8s\n",
      "521:\tlearn: 4073.7813356\ttotal: 23.8s\tremaining: 21.8s\n",
      "522:\tlearn: 4072.4096240\ttotal: 23.9s\tremaining: 21.8s\n",
      "523:\tlearn: 4071.1762384\ttotal: 23.9s\tremaining: 21.7s\n",
      "524:\tlearn: 4069.8988092\ttotal: 23.9s\tremaining: 21.7s\n",
      "525:\tlearn: 4068.6693853\ttotal: 24s\tremaining: 21.6s\n",
      "526:\tlearn: 4067.5934857\ttotal: 24s\tremaining: 21.6s\n",
      "527:\tlearn: 4066.2395510\ttotal: 24.1s\tremaining: 21.5s\n",
      "528:\tlearn: 4065.0650154\ttotal: 24.1s\tremaining: 21.5s\n",
      "529:\tlearn: 4063.7195148\ttotal: 24.2s\tremaining: 21.4s\n",
      "530:\tlearn: 4062.3603570\ttotal: 24.2s\tremaining: 21.4s\n",
      "531:\tlearn: 4061.2506210\ttotal: 24.3s\tremaining: 21.4s\n",
      "532:\tlearn: 4060.1441805\ttotal: 24.3s\tremaining: 21.3s\n",
      "533:\tlearn: 4059.0449647\ttotal: 24.4s\tremaining: 21.3s\n",
      "534:\tlearn: 4057.8847492\ttotal: 24.4s\tremaining: 21.2s\n",
      "535:\tlearn: 4056.7777188\ttotal: 24.5s\tremaining: 21.2s\n",
      "536:\tlearn: 4055.5665784\ttotal: 24.5s\tremaining: 21.1s\n",
      "537:\tlearn: 4054.4634573\ttotal: 24.6s\tremaining: 21.1s\n",
      "538:\tlearn: 4053.1137755\ttotal: 24.6s\tremaining: 21s\n",
      "539:\tlearn: 4051.9100995\ttotal: 24.7s\tremaining: 21s\n",
      "540:\tlearn: 4050.7060378\ttotal: 24.7s\tremaining: 21s\n",
      "541:\tlearn: 4049.3662083\ttotal: 24.8s\tremaining: 20.9s\n",
      "542:\tlearn: 4048.2900698\ttotal: 24.8s\tremaining: 20.9s\n",
      "543:\tlearn: 4047.0931299\ttotal: 24.9s\tremaining: 20.8s\n",
      "544:\tlearn: 4046.0009091\ttotal: 24.9s\tremaining: 20.8s\n",
      "545:\tlearn: 4044.7320842\ttotal: 25s\tremaining: 20.8s\n",
      "546:\tlearn: 4043.5360319\ttotal: 25s\tremaining: 20.7s\n",
      "547:\tlearn: 4042.1988735\ttotal: 25.1s\tremaining: 20.7s\n",
      "548:\tlearn: 4040.8700225\ttotal: 25.1s\tremaining: 20.6s\n",
      "549:\tlearn: 4039.7362636\ttotal: 25.1s\tremaining: 20.6s\n",
      "550:\tlearn: 4038.4075274\ttotal: 25.2s\tremaining: 20.5s\n",
      "551:\tlearn: 4037.2246488\ttotal: 25.2s\tremaining: 20.5s\n",
      "552:\tlearn: 4036.0505408\ttotal: 25.3s\tremaining: 20.4s\n",
      "553:\tlearn: 4034.8654452\ttotal: 25.3s\tremaining: 20.4s\n",
      "554:\tlearn: 4033.5664412\ttotal: 25.4s\tremaining: 20.3s\n",
      "555:\tlearn: 4032.2972160\ttotal: 25.4s\tremaining: 20.3s\n",
      "556:\tlearn: 4031.2611076\ttotal: 25.5s\tremaining: 20.3s\n",
      "557:\tlearn: 4030.1876557\ttotal: 25.5s\tremaining: 20.2s\n",
      "558:\tlearn: 4029.0132723\ttotal: 25.6s\tremaining: 20.2s\n",
      "559:\tlearn: 4027.8373708\ttotal: 25.6s\tremaining: 20.1s\n",
      "560:\tlearn: 4026.5196249\ttotal: 25.6s\tremaining: 20.1s\n",
      "561:\tlearn: 4025.2040825\ttotal: 25.7s\tremaining: 20s\n",
      "562:\tlearn: 4024.1565135\ttotal: 25.8s\tremaining: 20s\n",
      "563:\tlearn: 4022.8989372\ttotal: 25.8s\tremaining: 19.9s\n",
      "564:\tlearn: 4021.7334218\ttotal: 25.8s\tremaining: 19.9s\n",
      "565:\tlearn: 4020.6906813\ttotal: 25.9s\tremaining: 19.9s\n",
      "566:\tlearn: 4019.3831650\ttotal: 25.9s\tremaining: 19.8s\n",
      "567:\tlearn: 4018.3228716\ttotal: 26s\tremaining: 19.8s\n",
      "568:\tlearn: 4017.1592450\ttotal: 26s\tremaining: 19.7s\n",
      "569:\tlearn: 4016.0036968\ttotal: 26.1s\tremaining: 19.7s\n",
      "570:\tlearn: 4014.8485688\ttotal: 26.1s\tremaining: 19.6s\n",
      "571:\tlearn: 4013.6949193\ttotal: 26.2s\tremaining: 19.6s\n",
      "572:\tlearn: 4012.4247474\ttotal: 26.2s\tremaining: 19.5s\n",
      "573:\tlearn: 4011.3700128\ttotal: 26.3s\tremaining: 19.5s\n",
      "574:\tlearn: 4010.3221675\ttotal: 26.3s\tremaining: 19.5s\n",
      "575:\tlearn: 4009.0263382\ttotal: 26.4s\tremaining: 19.4s\n",
      "576:\tlearn: 4007.9797057\ttotal: 26.4s\tremaining: 19.4s\n",
      "577:\tlearn: 4006.9430877\ttotal: 26.5s\tremaining: 19.3s\n",
      "578:\tlearn: 4005.8027764\ttotal: 26.5s\tremaining: 19.3s\n",
      "579:\tlearn: 4004.7979524\ttotal: 26.6s\tremaining: 19.2s\n",
      "580:\tlearn: 4003.5114540\ttotal: 26.6s\tremaining: 19.2s\n",
      "581:\tlearn: 4002.2262150\ttotal: 26.6s\tremaining: 19.1s\n",
      "582:\tlearn: 4001.2064500\ttotal: 26.7s\tremaining: 19.1s\n",
      "583:\tlearn: 4000.0811786\ttotal: 26.7s\tremaining: 19s\n",
      "584:\tlearn: 3999.0516069\ttotal: 26.8s\tremaining: 19s\n",
      "585:\tlearn: 3998.0182393\ttotal: 26.8s\tremaining: 19s\n",
      "586:\tlearn: 3996.7627470\ttotal: 26.9s\tremaining: 18.9s\n",
      "587:\tlearn: 3995.4829414\ttotal: 26.9s\tremaining: 18.9s\n",
      "588:\tlearn: 3994.3333020\ttotal: 27s\tremaining: 18.8s\n",
      "589:\tlearn: 3993.2063244\ttotal: 27s\tremaining: 18.8s\n",
      "590:\tlearn: 3992.0813200\ttotal: 27.1s\tremaining: 18.7s\n",
      "591:\tlearn: 3990.8867469\ttotal: 27.1s\tremaining: 18.7s\n",
      "592:\tlearn: 3989.6910536\ttotal: 27.2s\tremaining: 18.6s\n",
      "593:\tlearn: 3988.6687300\ttotal: 27.2s\tremaining: 18.6s\n",
      "594:\tlearn: 3987.5494818\ttotal: 27.2s\tremaining: 18.5s\n",
      "595:\tlearn: 3986.2856694\ttotal: 27.3s\tremaining: 18.5s\n",
      "596:\tlearn: 3985.2009517\ttotal: 27.3s\tremaining: 18.5s\n",
      "597:\tlearn: 3983.9353793\ttotal: 27.4s\tremaining: 18.4s\n",
      "598:\tlearn: 3982.9260564\ttotal: 27.4s\tremaining: 18.4s\n",
      "599:\tlearn: 3981.6684783\ttotal: 27.5s\tremaining: 18.3s\n",
      "600:\tlearn: 3980.6620776\ttotal: 27.5s\tremaining: 18.3s\n",
      "601:\tlearn: 3979.6557101\ttotal: 27.6s\tremaining: 18.2s\n",
      "602:\tlearn: 3978.6590597\ttotal: 27.6s\tremaining: 18.2s\n",
      "603:\tlearn: 3977.6814073\ttotal: 27.7s\tremaining: 18.1s\n",
      "604:\tlearn: 3976.5403775\ttotal: 27.7s\tremaining: 18.1s\n",
      "605:\tlearn: 3975.4316947\ttotal: 27.8s\tremaining: 18.1s\n",
      "606:\tlearn: 3974.4302815\ttotal: 27.8s\tremaining: 18s\n",
      "607:\tlearn: 3973.1767611\ttotal: 27.9s\tremaining: 18s\n",
      "608:\tlearn: 3972.1804784\ttotal: 27.9s\tremaining: 17.9s\n",
      "609:\tlearn: 3971.1975922\ttotal: 28s\tremaining: 17.9s\n",
      "610:\tlearn: 3970.0289087\ttotal: 28s\tremaining: 17.8s\n",
      "611:\tlearn: 3968.7832920\ttotal: 28.1s\tremaining: 17.8s\n",
      "612:\tlearn: 3967.8176424\ttotal: 28.1s\tremaining: 17.7s\n",
      "613:\tlearn: 3966.5749806\ttotal: 28.1s\tremaining: 17.7s\n",
      "614:\tlearn: 3965.5798599\ttotal: 28.2s\tremaining: 17.6s\n",
      "615:\tlearn: 3964.5941470\ttotal: 28.2s\tremaining: 17.6s\n",
      "616:\tlearn: 3963.6028743\ttotal: 28.3s\tremaining: 17.6s\n",
      "617:\tlearn: 3962.5163198\ttotal: 28.3s\tremaining: 17.5s\n",
      "618:\tlearn: 3961.3593416\ttotal: 28.4s\tremaining: 17.5s\n",
      "619:\tlearn: 3960.1255962\ttotal: 28.4s\tremaining: 17.4s\n",
      "620:\tlearn: 3959.1404269\ttotal: 28.5s\tremaining: 17.4s\n",
      "621:\tlearn: 3958.1569822\ttotal: 28.5s\tremaining: 17.3s\n",
      "622:\tlearn: 3957.0751084\ttotal: 28.6s\tremaining: 17.3s\n",
      "623:\tlearn: 3956.1000336\ttotal: 28.6s\tremaining: 17.2s\n",
      "624:\tlearn: 3955.0190932\ttotal: 28.7s\tremaining: 17.2s\n",
      "625:\tlearn: 3953.7965843\ttotal: 28.7s\tremaining: 17.2s\n",
      "626:\tlearn: 3952.5970335\ttotal: 28.8s\tremaining: 17.1s\n",
      "627:\tlearn: 3951.4398656\ttotal: 28.8s\tremaining: 17.1s\n",
      "628:\tlearn: 3950.2527577\ttotal: 28.9s\tremaining: 17s\n",
      "629:\tlearn: 3949.0309220\ttotal: 28.9s\tremaining: 17s\n",
      "630:\tlearn: 3948.0058435\ttotal: 28.9s\tremaining: 16.9s\n",
      "631:\tlearn: 3947.1985827\ttotal: 29s\tremaining: 16.9s\n",
      "632:\tlearn: 3946.4021437\ttotal: 29s\tremaining: 16.8s\n",
      "633:\tlearn: 3945.3312333\ttotal: 29.1s\tremaining: 16.8s\n",
      "634:\tlearn: 3944.1244333\ttotal: 29.1s\tremaining: 16.7s\n",
      "635:\tlearn: 3942.9072173\ttotal: 29.2s\tremaining: 16.7s\n",
      "636:\tlearn: 3941.9423075\ttotal: 29.2s\tremaining: 16.7s\n",
      "637:\tlearn: 3940.8766140\ttotal: 29.3s\tremaining: 16.6s\n",
      "638:\tlearn: 3939.8505590\ttotal: 29.3s\tremaining: 16.6s\n",
      "639:\tlearn: 3938.6548159\ttotal: 29.4s\tremaining: 16.5s\n",
      "640:\tlearn: 3937.6857655\ttotal: 29.4s\tremaining: 16.5s\n",
      "641:\tlearn: 3936.6649485\ttotal: 29.5s\tremaining: 16.4s\n",
      "642:\tlearn: 3935.7113699\ttotal: 29.5s\tremaining: 16.4s\n",
      "643:\tlearn: 3934.6624387\ttotal: 29.6s\tremaining: 16.4s\n",
      "644:\tlearn: 3933.6066817\ttotal: 29.6s\tremaining: 16.3s\n",
      "645:\tlearn: 3932.5024095\ttotal: 29.7s\tremaining: 16.3s\n",
      "646:\tlearn: 3931.4586428\ttotal: 29.7s\tremaining: 16.2s\n",
      "647:\tlearn: 3930.5099146\ttotal: 29.8s\tremaining: 16.2s\n",
      "648:\tlearn: 3929.4601387\ttotal: 29.8s\tremaining: 16.1s\n",
      "649:\tlearn: 3928.3479066\ttotal: 29.9s\tremaining: 16.1s\n",
      "650:\tlearn: 3927.3037790\ttotal: 29.9s\tremaining: 16.1s\n",
      "651:\tlearn: 3926.2592846\ttotal: 30s\tremaining: 16s\n",
      "652:\tlearn: 3925.2219251\ttotal: 30s\tremaining: 16s\n",
      "653:\tlearn: 3924.2820580\ttotal: 30.1s\tremaining: 15.9s\n",
      "654:\tlearn: 3923.3420263\ttotal: 30.1s\tremaining: 15.9s\n",
      "655:\tlearn: 3922.4375167\ttotal: 30.2s\tremaining: 15.8s\n",
      "656:\tlearn: 3921.5117950\ttotal: 30.3s\tremaining: 15.8s\n",
      "657:\tlearn: 3920.3831515\ttotal: 30.3s\tremaining: 15.8s\n",
      "658:\tlearn: 3919.3883399\ttotal: 30.4s\tremaining: 15.7s\n",
      "659:\tlearn: 3918.4549050\ttotal: 30.4s\tremaining: 15.7s\n",
      "660:\tlearn: 3917.2765385\ttotal: 30.5s\tremaining: 15.6s\n",
      "661:\tlearn: 3916.1126821\ttotal: 30.5s\tremaining: 15.6s\n",
      "662:\tlearn: 3915.0860969\ttotal: 30.6s\tremaining: 15.5s\n",
      "663:\tlearn: 3914.1512076\ttotal: 30.6s\tremaining: 15.5s\n",
      "664:\tlearn: 3912.9662290\ttotal: 30.7s\tremaining: 15.4s\n",
      "665:\tlearn: 3911.8542329\ttotal: 30.7s\tremaining: 15.4s\n",
      "666:\tlearn: 3910.9379201\ttotal: 30.8s\tremaining: 15.4s\n",
      "667:\tlearn: 3910.0186281\ttotal: 30.8s\tremaining: 15.3s\n",
      "668:\tlearn: 3908.8397037\ttotal: 30.9s\tremaining: 15.3s\n",
      "669:\tlearn: 3907.8603147\ttotal: 30.9s\tremaining: 15.2s\n",
      "670:\tlearn: 3906.8413982\ttotal: 31s\tremaining: 15.2s\n",
      "671:\tlearn: 3905.7194538\ttotal: 31s\tremaining: 15.1s\n",
      "672:\tlearn: 3904.8294591\ttotal: 31.1s\tremaining: 15.1s\n",
      "673:\tlearn: 3903.7031076\ttotal: 31.1s\tremaining: 15.1s\n",
      "674:\tlearn: 3902.8138069\ttotal: 31.2s\tremaining: 15s\n",
      "675:\tlearn: 3901.6554145\ttotal: 31.2s\tremaining: 15s\n",
      "676:\tlearn: 3900.7683283\ttotal: 31.3s\tremaining: 14.9s\n",
      "677:\tlearn: 3899.7590540\ttotal: 31.3s\tremaining: 14.9s\n",
      "678:\tlearn: 3898.6079472\ttotal: 31.4s\tremaining: 14.8s\n",
      "679:\tlearn: 3897.6992584\ttotal: 31.4s\tremaining: 14.8s\n",
      "680:\tlearn: 3896.7893370\ttotal: 31.5s\tremaining: 14.7s\n",
      "681:\tlearn: 3895.8817169\ttotal: 31.5s\tremaining: 14.7s\n",
      "682:\tlearn: 3894.9761094\ttotal: 31.6s\tremaining: 14.7s\n",
      "683:\tlearn: 3894.0811142\ttotal: 31.6s\tremaining: 14.6s\n",
      "684:\tlearn: 3893.1821806\ttotal: 31.7s\tremaining: 14.6s\n",
      "685:\tlearn: 3892.0707008\ttotal: 31.7s\tremaining: 14.5s\n",
      "686:\tlearn: 3891.1663754\ttotal: 31.8s\tremaining: 14.5s\n",
      "687:\tlearn: 3890.1694686\ttotal: 31.8s\tremaining: 14.4s\n",
      "688:\tlearn: 3889.0455312\ttotal: 31.9s\tremaining: 14.4s\n",
      "689:\tlearn: 3887.8981600\ttotal: 31.9s\tremaining: 14.3s\n",
      "690:\tlearn: 3886.7851589\ttotal: 32s\tremaining: 14.3s\n",
      "691:\tlearn: 3885.7908562\ttotal: 32s\tremaining: 14.3s\n",
      "692:\tlearn: 3884.7982871\ttotal: 32.1s\tremaining: 14.2s\n",
      "693:\tlearn: 3883.8129622\ttotal: 32.1s\tremaining: 14.2s\n",
      "694:\tlearn: 3882.8309789\ttotal: 32.2s\tremaining: 14.1s\n",
      "695:\tlearn: 3881.6944169\ttotal: 32.2s\tremaining: 14.1s\n",
      "696:\tlearn: 3880.7097241\ttotal: 32.3s\tremaining: 14s\n",
      "697:\tlearn: 3879.6859463\ttotal: 32.3s\tremaining: 14s\n",
      "698:\tlearn: 3878.7024600\ttotal: 32.4s\tremaining: 13.9s\n",
      "699:\tlearn: 3877.8158314\ttotal: 32.4s\tremaining: 13.9s\n",
      "700:\tlearn: 3876.9285831\ttotal: 32.5s\tremaining: 13.9s\n",
      "701:\tlearn: 3876.0408846\ttotal: 32.5s\tremaining: 13.8s\n",
      "702:\tlearn: 3875.1620688\ttotal: 32.6s\tremaining: 13.8s\n",
      "703:\tlearn: 3874.0261536\ttotal: 32.6s\tremaining: 13.7s\n",
      "704:\tlearn: 3872.8921764\ttotal: 32.7s\tremaining: 13.7s\n",
      "705:\tlearn: 3871.7844211\ttotal: 32.7s\tremaining: 13.6s\n",
      "706:\tlearn: 3870.8170325\ttotal: 32.8s\tremaining: 13.6s\n",
      "707:\tlearn: 3869.8442781\ttotal: 32.8s\tremaining: 13.5s\n",
      "708:\tlearn: 3868.8732241\ttotal: 32.9s\tremaining: 13.5s\n",
      "709:\tlearn: 3867.8418045\ttotal: 32.9s\tremaining: 13.5s\n",
      "710:\tlearn: 3866.9765760\ttotal: 33s\tremaining: 13.4s\n",
      "711:\tlearn: 3866.1144817\ttotal: 33.1s\tremaining: 13.4s\n",
      "712:\tlearn: 3865.2466097\ttotal: 33.1s\tremaining: 13.3s\n",
      "713:\tlearn: 3864.3979252\ttotal: 33.2s\tremaining: 13.3s\n",
      "714:\tlearn: 3863.4351307\ttotal: 33.2s\tremaining: 13.2s\n",
      "715:\tlearn: 3862.5711784\ttotal: 33.3s\tremaining: 13.2s\n",
      "716:\tlearn: 3861.7089173\ttotal: 33.3s\tremaining: 13.1s\n",
      "717:\tlearn: 3860.5936681\ttotal: 33.4s\tremaining: 13.1s\n",
      "718:\tlearn: 3859.6480851\ttotal: 33.4s\tremaining: 13.1s\n",
      "719:\tlearn: 3858.6860404\ttotal: 33.5s\tremaining: 13s\n",
      "720:\tlearn: 3857.8191200\ttotal: 33.5s\tremaining: 13s\n",
      "721:\tlearn: 3856.7077524\ttotal: 33.6s\tremaining: 12.9s\n",
      "722:\tlearn: 3855.6619913\ttotal: 33.6s\tremaining: 12.9s\n",
      "723:\tlearn: 3854.5989517\ttotal: 33.6s\tremaining: 12.8s\n",
      "724:\tlearn: 3853.7423136\ttotal: 33.7s\tremaining: 12.8s\n",
      "725:\tlearn: 3852.7309084\ttotal: 33.7s\tremaining: 12.7s\n",
      "726:\tlearn: 3851.8694763\ttotal: 33.8s\tremaining: 12.7s\n",
      "727:\tlearn: 3850.9235528\ttotal: 33.8s\tremaining: 12.6s\n",
      "728:\tlearn: 3850.0914138\ttotal: 33.9s\tremaining: 12.6s\n",
      "729:\tlearn: 3849.1907141\ttotal: 33.9s\tremaining: 12.6s\n",
      "730:\tlearn: 3848.2555781\ttotal: 34s\tremaining: 12.5s\n",
      "731:\tlearn: 3847.1641289\ttotal: 34s\tremaining: 12.5s\n",
      "732:\tlearn: 3846.0664992\ttotal: 34.1s\tremaining: 12.4s\n",
      "733:\tlearn: 3845.0893246\ttotal: 34.1s\tremaining: 12.4s\n",
      "734:\tlearn: 3844.2544744\ttotal: 34.2s\tremaining: 12.3s\n",
      "735:\tlearn: 3843.3112257\ttotal: 34.2s\tremaining: 12.3s\n",
      "736:\tlearn: 3842.3387472\ttotal: 34.3s\tremaining: 12.2s\n",
      "737:\tlearn: 3841.5039369\ttotal: 34.3s\tremaining: 12.2s\n",
      "738:\tlearn: 3840.4093868\ttotal: 34.3s\tremaining: 12.1s\n",
      "739:\tlearn: 3839.5753346\ttotal: 34.4s\tremaining: 12.1s\n",
      "740:\tlearn: 3838.6472225\ttotal: 34.4s\tremaining: 12s\n",
      "741:\tlearn: 3837.8005070\ttotal: 34.5s\tremaining: 12s\n",
      "742:\tlearn: 3836.9524507\ttotal: 34.5s\tremaining: 11.9s\n",
      "743:\tlearn: 3836.0574062\ttotal: 34.6s\tremaining: 11.9s\n",
      "744:\tlearn: 3835.1305889\ttotal: 34.6s\tremaining: 11.8s\n",
      "745:\tlearn: 3834.2928581\ttotal: 34.6s\tremaining: 11.8s\n",
      "746:\tlearn: 3833.4634366\ttotal: 34.7s\tremaining: 11.7s\n",
      "747:\tlearn: 3832.5410408\ttotal: 34.7s\tremaining: 11.7s\n",
      "748:\tlearn: 3831.7115834\ttotal: 34.8s\tremaining: 11.7s\n",
      "749:\tlearn: 3830.8794537\ttotal: 34.8s\tremaining: 11.6s\n",
      "750:\tlearn: 3830.0413582\ttotal: 34.9s\tremaining: 11.6s\n",
      "751:\tlearn: 3828.9673042\ttotal: 34.9s\tremaining: 11.5s\n",
      "752:\tlearn: 3827.8885866\ttotal: 34.9s\tremaining: 11.5s\n",
      "753:\tlearn: 3826.8191171\ttotal: 35s\tremaining: 11.4s\n",
      "754:\tlearn: 3825.7833828\ttotal: 35s\tremaining: 11.4s\n",
      "755:\tlearn: 3824.8694665\ttotal: 35.1s\tremaining: 11.3s\n",
      "756:\tlearn: 3823.8157862\ttotal: 35.1s\tremaining: 11.3s\n",
      "757:\tlearn: 3822.9867079\ttotal: 35.2s\tremaining: 11.2s\n",
      "758:\tlearn: 3822.0755783\ttotal: 35.2s\tremaining: 11.2s\n",
      "759:\tlearn: 3821.2253921\ttotal: 35.2s\tremaining: 11.1s\n",
      "760:\tlearn: 3820.4031511\ttotal: 35.3s\tremaining: 11.1s\n",
      "761:\tlearn: 3819.3954613\ttotal: 35.3s\tremaining: 11s\n",
      "762:\tlearn: 3818.4888662\ttotal: 35.4s\tremaining: 11s\n",
      "763:\tlearn: 3817.6695188\ttotal: 35.4s\tremaining: 10.9s\n",
      "764:\tlearn: 3816.7061072\ttotal: 35.5s\tremaining: 10.9s\n",
      "765:\tlearn: 3815.6456927\ttotal: 35.5s\tremaining: 10.8s\n",
      "766:\tlearn: 3814.5914691\ttotal: 35.5s\tremaining: 10.8s\n",
      "767:\tlearn: 3813.9292930\ttotal: 35.6s\tremaining: 10.8s\n",
      "768:\tlearn: 3812.9917104\ttotal: 35.6s\tremaining: 10.7s\n",
      "769:\tlearn: 3812.1759679\ttotal: 35.7s\tremaining: 10.7s\n",
      "770:\tlearn: 3811.3673368\ttotal: 35.7s\tremaining: 10.6s\n",
      "771:\tlearn: 3810.5567580\ttotal: 35.8s\tremaining: 10.6s\n",
      "772:\tlearn: 3809.7488684\ttotal: 35.8s\tremaining: 10.5s\n",
      "773:\tlearn: 3808.8971954\ttotal: 35.9s\tremaining: 10.5s\n",
      "774:\tlearn: 3808.0890329\ttotal: 35.9s\tremaining: 10.4s\n",
      "775:\tlearn: 3807.1456754\ttotal: 35.9s\tremaining: 10.4s\n",
      "776:\tlearn: 3806.2565735\ttotal: 36s\tremaining: 10.3s\n",
      "777:\tlearn: 3805.2101501\ttotal: 36s\tremaining: 10.3s\n",
      "778:\tlearn: 3804.4035157\ttotal: 36.1s\tremaining: 10.2s\n",
      "779:\tlearn: 3803.6065195\ttotal: 36.1s\tremaining: 10.2s\n",
      "780:\tlearn: 3802.8277734\ttotal: 36.1s\tremaining: 10.1s\n",
      "781:\tlearn: 3801.9423652\ttotal: 36.2s\tremaining: 10.1s\n",
      "782:\tlearn: 3801.0599010\ttotal: 36.2s\tremaining: 10s\n",
      "783:\tlearn: 3800.3113115\ttotal: 36.3s\tremaining: 9.99s\n",
      "784:\tlearn: 3799.5568216\ttotal: 36.3s\tremaining: 9.95s\n",
      "785:\tlearn: 3798.6385902\ttotal: 36.4s\tremaining: 9.9s\n",
      "786:\tlearn: 3797.8431194\ttotal: 36.4s\tremaining: 9.86s\n",
      "787:\tlearn: 3797.0583219\ttotal: 36.5s\tremaining: 9.81s\n",
      "788:\tlearn: 3796.1816931\ttotal: 36.5s\tremaining: 9.77s\n",
      "789:\tlearn: 3795.1859451\ttotal: 36.6s\tremaining: 9.72s\n",
      "790:\tlearn: 3794.1503588\ttotal: 36.6s\tremaining: 9.68s\n",
      "791:\tlearn: 3793.3391968\ttotal: 36.7s\tremaining: 9.63s\n",
      "792:\tlearn: 3792.5488204\ttotal: 36.7s\tremaining: 9.59s\n",
      "793:\tlearn: 3791.7665424\ttotal: 36.8s\tremaining: 9.54s\n",
      "794:\tlearn: 3790.6682073\ttotal: 36.8s\tremaining: 9.49s\n",
      "795:\tlearn: 3789.7981352\ttotal: 36.9s\tremaining: 9.45s\n",
      "796:\tlearn: 3789.0228293\ttotal: 36.9s\tremaining: 9.41s\n",
      "797:\tlearn: 3788.2320349\ttotal: 37s\tremaining: 9.36s\n",
      "798:\tlearn: 3787.4798616\ttotal: 37s\tremaining: 9.32s\n",
      "799:\tlearn: 3786.6153729\ttotal: 37.1s\tremaining: 9.27s\n",
      "800:\tlearn: 3785.8320902\ttotal: 37.1s\tremaining: 9.23s\n",
      "801:\tlearn: 3785.0588469\ttotal: 37.2s\tremaining: 9.18s\n",
      "802:\tlearn: 3784.2717110\ttotal: 37.2s\tremaining: 9.13s\n",
      "803:\tlearn: 3783.4120730\ttotal: 37.3s\tremaining: 9.09s\n",
      "804:\tlearn: 3782.6634014\ttotal: 37.3s\tremaining: 9.04s\n",
      "805:\tlearn: 3781.8824829\ttotal: 37.4s\tremaining: 9s\n",
      "806:\tlearn: 3781.1542707\ttotal: 37.4s\tremaining: 8.96s\n",
      "807:\tlearn: 3780.1881218\ttotal: 37.5s\tremaining: 8.91s\n",
      "808:\tlearn: 3779.1693544\ttotal: 37.5s\tremaining: 8.86s\n",
      "809:\tlearn: 3778.3204977\ttotal: 37.6s\tremaining: 8.82s\n",
      "810:\tlearn: 3777.3368255\ttotal: 37.6s\tremaining: 8.77s\n",
      "811:\tlearn: 3776.5602312\ttotal: 37.7s\tremaining: 8.73s\n",
      "812:\tlearn: 3775.7781692\ttotal: 37.8s\tremaining: 8.68s\n",
      "813:\tlearn: 3774.8769903\ttotal: 37.8s\tremaining: 8.64s\n",
      "814:\tlearn: 3774.0119729\ttotal: 37.8s\tremaining: 8.59s\n",
      "815:\tlearn: 3772.9947247\ttotal: 37.9s\tremaining: 8.54s\n",
      "816:\tlearn: 3772.2381938\ttotal: 38s\tremaining: 8.5s\n",
      "817:\tlearn: 3771.3081763\ttotal: 38s\tremaining: 8.46s\n",
      "818:\tlearn: 3770.5395104\ttotal: 38.1s\tremaining: 8.41s\n",
      "819:\tlearn: 3769.6952540\ttotal: 38.1s\tremaining: 8.37s\n",
      "820:\tlearn: 3768.7292957\ttotal: 38.2s\tremaining: 8.32s\n",
      "821:\tlearn: 3767.9149616\ttotal: 38.2s\tremaining: 8.28s\n",
      "822:\tlearn: 3767.0739098\ttotal: 38.3s\tremaining: 8.23s\n",
      "823:\tlearn: 3766.3473546\ttotal: 38.3s\tremaining: 8.19s\n",
      "824:\tlearn: 3765.6297465\ttotal: 38.4s\tremaining: 8.14s\n",
      "825:\tlearn: 3764.7984908\ttotal: 38.4s\tremaining: 8.1s\n",
      "826:\tlearn: 3763.9625220\ttotal: 38.5s\tremaining: 8.05s\n",
      "827:\tlearn: 3763.2171375\ttotal: 38.5s\tremaining: 8s\n",
      "828:\tlearn: 3762.4825883\ttotal: 38.6s\tremaining: 7.96s\n",
      "829:\tlearn: 3761.5992844\ttotal: 38.6s\tremaining: 7.91s\n",
      "830:\tlearn: 3760.5963700\ttotal: 38.7s\tremaining: 7.87s\n",
      "831:\tlearn: 3759.7657385\ttotal: 38.7s\tremaining: 7.82s\n",
      "832:\tlearn: 3758.9855705\ttotal: 38.8s\tremaining: 7.78s\n",
      "833:\tlearn: 3758.2347177\ttotal: 38.8s\tremaining: 7.73s\n",
      "834:\tlearn: 3757.4086629\ttotal: 38.9s\tremaining: 7.68s\n",
      "835:\tlearn: 3756.6726531\ttotal: 38.9s\tremaining: 7.64s\n",
      "836:\tlearn: 3755.9252118\ttotal: 39s\tremaining: 7.59s\n",
      "837:\tlearn: 3755.1880591\ttotal: 39s\tremaining: 7.55s\n",
      "838:\tlearn: 3754.1432648\ttotal: 39.1s\tremaining: 7.5s\n",
      "839:\tlearn: 3753.1488547\ttotal: 39.1s\tremaining: 7.45s\n",
      "840:\tlearn: 3752.4019110\ttotal: 39.2s\tremaining: 7.41s\n",
      "841:\tlearn: 3751.6198457\ttotal: 39.2s\tremaining: 7.36s\n",
      "842:\tlearn: 3750.8722186\ttotal: 39.3s\tremaining: 7.32s\n",
      "843:\tlearn: 3750.1341356\ttotal: 39.4s\tremaining: 7.27s\n",
      "844:\tlearn: 3749.3993519\ttotal: 39.4s\tremaining: 7.23s\n",
      "845:\tlearn: 3748.6395936\ttotal: 39.5s\tremaining: 7.18s\n",
      "846:\tlearn: 3747.7429691\ttotal: 39.5s\tremaining: 7.14s\n",
      "847:\tlearn: 3747.0021752\ttotal: 39.6s\tremaining: 7.09s\n",
      "848:\tlearn: 3746.2740717\ttotal: 39.6s\tremaining: 7.05s\n",
      "849:\tlearn: 3745.4619452\ttotal: 39.7s\tremaining: 7s\n",
      "850:\tlearn: 3744.7306535\ttotal: 39.7s\tremaining: 6.96s\n",
      "851:\tlearn: 3743.8645624\ttotal: 39.8s\tremaining: 6.91s\n",
      "852:\tlearn: 3742.9069694\ttotal: 39.8s\tremaining: 6.86s\n",
      "853:\tlearn: 3742.1786776\ttotal: 39.9s\tremaining: 6.82s\n",
      "854:\tlearn: 3741.2771073\ttotal: 39.9s\tremaining: 6.77s\n",
      "855:\tlearn: 3740.2975810\ttotal: 39.9s\tremaining: 6.72s\n",
      "856:\tlearn: 3739.3464816\ttotal: 40s\tremaining: 6.67s\n",
      "857:\tlearn: 3738.6109571\ttotal: 40s\tremaining: 6.62s\n",
      "858:\tlearn: 3737.8886203\ttotal: 40.1s\tremaining: 6.58s\n",
      "859:\tlearn: 3737.0871084\ttotal: 40.1s\tremaining: 6.53s\n",
      "860:\tlearn: 3736.3684543\ttotal: 40.2s\tremaining: 6.48s\n",
      "861:\tlearn: 3735.3949244\ttotal: 40.2s\tremaining: 6.43s\n",
      "862:\tlearn: 3734.6610010\ttotal: 40.2s\tremaining: 6.39s\n",
      "863:\tlearn: 3733.6895785\ttotal: 40.3s\tremaining: 6.34s\n",
      "864:\tlearn: 3732.7263857\ttotal: 40.3s\tremaining: 6.29s\n",
      "865:\tlearn: 3732.0074821\ttotal: 40.4s\tremaining: 6.25s\n",
      "866:\tlearn: 3731.2817708\ttotal: 40.4s\tremaining: 6.2s\n",
      "867:\tlearn: 3730.5571562\ttotal: 40.5s\tremaining: 6.15s\n",
      "868:\tlearn: 3729.7683831\ttotal: 40.5s\tremaining: 6.1s\n",
      "869:\tlearn: 3728.8183937\ttotal: 40.5s\tremaining: 6.06s\n",
      "870:\tlearn: 3728.0718754\ttotal: 40.6s\tremaining: 6.01s\n",
      "871:\tlearn: 3727.2858728\ttotal: 40.6s\tremaining: 5.96s\n",
      "872:\tlearn: 3726.4413347\ttotal: 40.7s\tremaining: 5.92s\n",
      "873:\tlearn: 3725.6520770\ttotal: 40.7s\tremaining: 5.87s\n",
      "874:\tlearn: 3724.8149707\ttotal: 40.7s\tremaining: 5.82s\n",
      "875:\tlearn: 3724.1014730\ttotal: 40.8s\tremaining: 5.77s\n",
      "876:\tlearn: 3723.3925395\ttotal: 40.8s\tremaining: 5.72s\n",
      "877:\tlearn: 3722.6551119\ttotal: 40.9s\tremaining: 5.68s\n",
      "878:\tlearn: 3721.8710988\ttotal: 40.9s\tremaining: 5.63s\n",
      "879:\tlearn: 3721.1606689\ttotal: 41s\tremaining: 5.58s\n",
      "880:\tlearn: 3720.4515234\ttotal: 41s\tremaining: 5.54s\n",
      "881:\tlearn: 3719.4982139\ttotal: 41s\tremaining: 5.49s\n",
      "882:\tlearn: 3718.6845647\ttotal: 41.1s\tremaining: 5.44s\n",
      "883:\tlearn: 3717.7530797\ttotal: 41.1s\tremaining: 5.4s\n",
      "884:\tlearn: 3717.0434959\ttotal: 41.2s\tremaining: 5.35s\n",
      "885:\tlearn: 3716.3384510\ttotal: 41.2s\tremaining: 5.3s\n",
      "886:\tlearn: 3715.5997205\ttotal: 41.3s\tremaining: 5.25s\n",
      "887:\tlearn: 3714.8803612\ttotal: 41.3s\tremaining: 5.21s\n",
      "888:\tlearn: 3714.1680718\ttotal: 41.3s\tremaining: 5.16s\n",
      "889:\tlearn: 3713.3226339\ttotal: 41.4s\tremaining: 5.11s\n",
      "890:\tlearn: 3712.5614554\ttotal: 41.4s\tremaining: 5.07s\n",
      "891:\tlearn: 3711.8600465\ttotal: 41.5s\tremaining: 5.02s\n",
      "892:\tlearn: 3711.1576438\ttotal: 41.5s\tremaining: 4.97s\n",
      "893:\tlearn: 3710.3943588\ttotal: 41.5s\tremaining: 4.93s\n",
      "894:\tlearn: 3709.7009568\ttotal: 41.6s\tremaining: 4.88s\n",
      "895:\tlearn: 3708.7854291\ttotal: 41.6s\tremaining: 4.83s\n",
      "896:\tlearn: 3708.1339390\ttotal: 41.7s\tremaining: 4.79s\n",
      "897:\tlearn: 3707.4349791\ttotal: 41.7s\tremaining: 4.74s\n",
      "898:\tlearn: 3706.5175253\ttotal: 41.8s\tremaining: 4.69s\n",
      "899:\tlearn: 3705.7985833\ttotal: 41.8s\tremaining: 4.64s\n",
      "900:\tlearn: 3705.0404711\ttotal: 41.8s\tremaining: 4.6s\n",
      "901:\tlearn: 3704.2779889\ttotal: 41.9s\tremaining: 4.55s\n",
      "902:\tlearn: 3703.3447263\ttotal: 41.9s\tremaining: 4.5s\n",
      "903:\tlearn: 3702.6549356\ttotal: 42s\tremaining: 4.46s\n",
      "904:\tlearn: 3701.9882389\ttotal: 42s\tremaining: 4.41s\n",
      "905:\tlearn: 3701.3415172\ttotal: 42.1s\tremaining: 4.36s\n",
      "906:\tlearn: 3700.6560352\ttotal: 42.1s\tremaining: 4.32s\n",
      "907:\tlearn: 3699.8998261\ttotal: 42.2s\tremaining: 4.27s\n",
      "908:\tlearn: 3699.1442263\ttotal: 42.2s\tremaining: 4.22s\n",
      "909:\tlearn: 3698.4753871\ttotal: 42.3s\tremaining: 4.18s\n",
      "910:\tlearn: 3697.8062795\ttotal: 42.3s\tremaining: 4.13s\n",
      "911:\tlearn: 3697.1190390\ttotal: 42.3s\tremaining: 4.09s\n",
      "912:\tlearn: 3696.4751336\ttotal: 42.4s\tremaining: 4.04s\n",
      "913:\tlearn: 3695.5496654\ttotal: 42.4s\tremaining: 3.99s\n",
      "914:\tlearn: 3694.8794104\ttotal: 42.5s\tremaining: 3.95s\n",
      "915:\tlearn: 3694.2076709\ttotal: 42.5s\tremaining: 3.9s\n",
      "916:\tlearn: 3693.4657461\ttotal: 42.6s\tremaining: 3.85s\n",
      "917:\tlearn: 3692.5742963\ttotal: 42.6s\tremaining: 3.81s\n",
      "918:\tlearn: 3691.8178091\ttotal: 42.7s\tremaining: 3.76s\n",
      "919:\tlearn: 3690.9183631\ttotal: 42.7s\tremaining: 3.71s\n",
      "920:\tlearn: 3690.1739311\ttotal: 42.8s\tremaining: 3.67s\n",
      "921:\tlearn: 3689.2629978\ttotal: 42.8s\tremaining: 3.62s\n",
      "922:\tlearn: 3688.5830224\ttotal: 42.9s\tremaining: 3.58s\n",
      "923:\tlearn: 3687.9404792\ttotal: 42.9s\tremaining: 3.53s\n",
      "924:\tlearn: 3687.1999732\ttotal: 43s\tremaining: 3.48s\n",
      "925:\tlearn: 3686.5290339\ttotal: 43s\tremaining: 3.44s\n",
      "926:\tlearn: 3685.8631426\ttotal: 43.1s\tremaining: 3.39s\n",
      "927:\tlearn: 3685.2308270\ttotal: 43.1s\tremaining: 3.34s\n",
      "928:\tlearn: 3684.5693779\ttotal: 43.1s\tremaining: 3.3s\n",
      "929:\tlearn: 3683.8750516\ttotal: 43.2s\tremaining: 3.25s\n",
      "930:\tlearn: 3683.2413107\ttotal: 43.2s\tremaining: 3.21s\n",
      "931:\tlearn: 3682.5776661\ttotal: 43.3s\tremaining: 3.16s\n",
      "932:\tlearn: 3681.9398609\ttotal: 43.4s\tremaining: 3.11s\n",
      "933:\tlearn: 3681.1694466\ttotal: 43.4s\tremaining: 3.07s\n",
      "934:\tlearn: 3680.4381011\ttotal: 43.5s\tremaining: 3.02s\n",
      "935:\tlearn: 3679.7738797\ttotal: 43.5s\tremaining: 2.97s\n",
      "936:\tlearn: 3679.1323815\ttotal: 43.5s\tremaining: 2.93s\n",
      "937:\tlearn: 3678.2273757\ttotal: 43.6s\tremaining: 2.88s\n",
      "938:\tlearn: 3677.5051833\ttotal: 43.6s\tremaining: 2.83s\n",
      "939:\tlearn: 3676.7678643\ttotal: 43.7s\tremaining: 2.79s\n",
      "940:\tlearn: 3675.8345127\ttotal: 43.7s\tremaining: 2.74s\n",
      "941:\tlearn: 3675.1985494\ttotal: 43.8s\tremaining: 2.69s\n",
      "942:\tlearn: 3674.5141341\ttotal: 43.8s\tremaining: 2.65s\n",
      "943:\tlearn: 3673.8943390\ttotal: 43.9s\tremaining: 2.6s\n",
      "944:\tlearn: 3673.2271058\ttotal: 43.9s\tremaining: 2.56s\n",
      "945:\tlearn: 3672.5806049\ttotal: 44s\tremaining: 2.51s\n",
      "946:\tlearn: 3671.8534154\ttotal: 44s\tremaining: 2.46s\n",
      "947:\tlearn: 3671.2657193\ttotal: 44.1s\tremaining: 2.42s\n",
      "948:\tlearn: 3670.6188699\ttotal: 44.1s\tremaining: 2.37s\n",
      "949:\tlearn: 3670.0223520\ttotal: 44.2s\tremaining: 2.32s\n",
      "950:\tlearn: 3669.1518640\ttotal: 44.2s\tremaining: 2.28s\n",
      "951:\tlearn: 3668.4259042\ttotal: 44.3s\tremaining: 2.23s\n",
      "952:\tlearn: 3667.5318346\ttotal: 44.3s\tremaining: 2.19s\n",
      "953:\tlearn: 3666.6645349\ttotal: 44.4s\tremaining: 2.14s\n",
      "954:\tlearn: 3666.0232776\ttotal: 44.4s\tremaining: 2.09s\n",
      "955:\tlearn: 3665.3891004\ttotal: 44.5s\tremaining: 2.04s\n",
      "956:\tlearn: 3664.5249773\ttotal: 44.5s\tremaining: 2s\n",
      "957:\tlearn: 3663.8760565\ttotal: 44.5s\tremaining: 1.95s\n",
      "958:\tlearn: 3663.2014422\ttotal: 44.6s\tremaining: 1.91s\n",
      "959:\tlearn: 3662.4815946\ttotal: 44.6s\tremaining: 1.86s\n",
      "960:\tlearn: 3661.8336733\ttotal: 44.7s\tremaining: 1.81s\n",
      "961:\tlearn: 3661.0881364\ttotal: 44.7s\tremaining: 1.77s\n",
      "962:\tlearn: 3660.3814086\ttotal: 44.8s\tremaining: 1.72s\n",
      "963:\tlearn: 3659.4998741\ttotal: 44.8s\tremaining: 1.67s\n",
      "964:\tlearn: 3658.8547093\ttotal: 44.9s\tremaining: 1.63s\n",
      "965:\tlearn: 3658.2343944\ttotal: 44.9s\tremaining: 1.58s\n",
      "966:\tlearn: 3657.4996099\ttotal: 44.9s\tremaining: 1.53s\n",
      "967:\tlearn: 3656.7599671\ttotal: 45s\tremaining: 1.49s\n",
      "968:\tlearn: 3656.0642769\ttotal: 45s\tremaining: 1.44s\n",
      "969:\tlearn: 3655.4162732\ttotal: 45.1s\tremaining: 1.39s\n",
      "970:\tlearn: 3654.7177885\ttotal: 45.1s\tremaining: 1.35s\n",
      "971:\tlearn: 3654.0837201\ttotal: 45.2s\tremaining: 1.3s\n",
      "972:\tlearn: 3653.3757294\ttotal: 45.2s\tremaining: 1.25s\n",
      "973:\tlearn: 3652.7559778\ttotal: 45.2s\tremaining: 1.21s\n",
      "974:\tlearn: 3652.0233212\ttotal: 45.3s\tremaining: 1.16s\n",
      "975:\tlearn: 3651.3183931\ttotal: 45.3s\tremaining: 1.11s\n",
      "976:\tlearn: 3650.4505463\ttotal: 45.4s\tremaining: 1.07s\n",
      "977:\tlearn: 3649.7268461\ttotal: 45.4s\tremaining: 1.02s\n",
      "978:\tlearn: 3648.9978629\ttotal: 45.5s\tremaining: 975ms\n",
      "979:\tlearn: 3648.2993705\ttotal: 45.5s\tremaining: 929ms\n",
      "980:\tlearn: 3647.6099725\ttotal: 45.6s\tremaining: 882ms\n",
      "981:\tlearn: 3646.7475853\ttotal: 45.6s\tremaining: 836ms\n",
      "982:\tlearn: 3646.1189628\ttotal: 45.7s\tremaining: 790ms\n",
      "983:\tlearn: 3645.4373465\ttotal: 45.7s\tremaining: 743ms\n",
      "984:\tlearn: 3644.8510000\ttotal: 45.7s\tremaining: 696ms\n",
      "985:\tlearn: 3644.2286508\ttotal: 45.8s\tremaining: 650ms\n",
      "986:\tlearn: 3643.5075231\ttotal: 45.8s\tremaining: 604ms\n",
      "987:\tlearn: 3642.8735363\ttotal: 45.9s\tremaining: 557ms\n",
      "988:\tlearn: 3642.0121300\ttotal: 45.9s\tremaining: 511ms\n",
      "989:\tlearn: 3641.1832157\ttotal: 46s\tremaining: 464ms\n",
      "990:\tlearn: 3640.5517128\ttotal: 46s\tremaining: 418ms\n",
      "991:\tlearn: 3639.9098880\ttotal: 46s\tremaining: 371ms\n",
      "992:\tlearn: 3639.2308556\ttotal: 46.1s\tremaining: 325ms\n",
      "993:\tlearn: 3638.3918396\ttotal: 46.1s\tremaining: 278ms\n",
      "994:\tlearn: 3637.7146371\ttotal: 46.2s\tremaining: 232ms\n",
      "995:\tlearn: 3637.0997037\ttotal: 46.2s\tremaining: 186ms\n",
      "996:\tlearn: 3636.4909199\ttotal: 46.3s\tremaining: 139ms\n",
      "997:\tlearn: 3635.6635415\ttotal: 46.3s\tremaining: 92.8ms\n",
      "998:\tlearn: 3634.8115275\ttotal: 46.3s\tremaining: 46.4ms\n",
      "999:\tlearn: 3634.1267668\ttotal: 46.4s\tremaining: 0us\n"
     ]
    },
    {
     "data": {
      "text/plain": [
       "<catboost.core.CatBoostRegressor at 0x20b07eb8a08>"
      ]
     },
     "execution_count": 104,
     "metadata": {},
     "output_type": "execute_result"
    }
   ],
   "source": [
    "from catboost import CatBoostRegressor\n",
    "model=CatBoostRegressor(random_state=1,learning_rate=0.001)\n",
    "model.fit(X_train,y_train)"
   ]
  },
  {
   "cell_type": "code",
   "execution_count": 105,
   "metadata": {},
   "outputs": [
    {
     "data": {
      "text/plain": [
       "0.4770968995785567"
      ]
     },
     "execution_count": 105,
     "metadata": {},
     "output_type": "execute_result"
    }
   ],
   "source": [
    "model.score(X_train,y_train)"
   ]
  },
  {
   "cell_type": "code",
   "execution_count": 106,
   "metadata": {},
   "outputs": [
    {
     "data": {
      "text/plain": [
       "0.47454982661000245"
      ]
     },
     "execution_count": 106,
     "metadata": {},
     "output_type": "execute_result"
    }
   ],
   "source": [
    "model.score(X_test,y_test)"
   ]
  },
  {
   "cell_type": "code",
   "execution_count": null,
   "metadata": {},
   "outputs": [],
   "source": []
  },
  {
   "cell_type": "code",
   "execution_count": 107,
   "metadata": {},
   "outputs": [],
   "source": [
    "from mlxtend.regressor import StackingRegressor"
   ]
  },
  {
   "cell_type": "code",
   "execution_count": 108,
   "metadata": {},
   "outputs": [
    {
     "name": "stdout",
     "output_type": "stream",
     "text": [
      "Mean Squared Error: 412033.6184\n",
      "Variance Score: 0.9837\n",
      "Train_Accuracy: 0.983686252946921\n",
      "Test_Accuracy: 0.983686252946921\n"
     ]
    }
   ],
   "source": [
    "lr = LinearRegression()\n",
    "#svr_lin = SVR(kernel='linear')\n",
    "ridge = Ridge(random_state=1)\n",
    "#svr_rbf = SVR(kernel='rbf')\n",
    "lasso = Lasso()\n",
    "tree = DecisionTreeRegressor(max_depth=10, max_leaf_nodes=5, min_samples_leaf=1)\n",
    "gb = GradientBoostingRegressor(n_estimators = 350, learning_rate=0.3, max_depth=2)\n",
    "rf = RandomForestRegressor()\n",
    "ad = AdaBoostRegressor(random_state=1)\n",
    "\n",
    "\n",
    "stregr = StackingRegressor(regressors=[lr, ridge, lasso, tree, gb, rf, ad], \n",
    "                           meta_regressor=gb)\n",
    "\n",
    "# Training the stacking classifier\n",
    "\n",
    "stregr.fit(X_train, y_train)\n",
    "s = stregr.score(X_train, y_train)\n",
    "s1 = stregr.score(X_test,y_test)\n",
    "\n",
    "# Evaluate and visualize the fit\n",
    "\n",
    "print(\"Mean Squared Error: %.4f\"\n",
    "      % np.mean((stregr.predict(X_train) - y_train) ** 2))\n",
    "print('Variance Score: %.4f' % stregr.score(X_train, y_train))\n",
    "print('Train_Accuracy:', s)\n",
    "print('Test_Accuracy:', s)\n"
   ]
  },
  {
   "cell_type": "code",
   "execution_count": 109,
   "metadata": {},
   "outputs": [],
   "source": [
    "test_set = pd.read_csv('test.csv')"
   ]
  },
  {
   "cell_type": "code",
   "execution_count": 110,
   "metadata": {},
   "outputs": [
    {
     "data": {
      "text/html": [
       "<div>\n",
       "<style scoped>\n",
       "    .dataframe tbody tr th:only-of-type {\n",
       "        vertical-align: middle;\n",
       "    }\n",
       "\n",
       "    .dataframe tbody tr th {\n",
       "        vertical-align: top;\n",
       "    }\n",
       "\n",
       "    .dataframe thead th {\n",
       "        text-align: right;\n",
       "    }\n",
       "</style>\n",
       "<table border=\"1\" class=\"dataframe\">\n",
       "  <thead>\n",
       "    <tr style=\"text-align: right;\">\n",
       "      <th></th>\n",
       "      <th>User_ID</th>\n",
       "      <th>Product_ID</th>\n",
       "      <th>Gender</th>\n",
       "      <th>Age</th>\n",
       "      <th>Occupation</th>\n",
       "      <th>City_Category</th>\n",
       "      <th>Stay_In_Current_City_Years</th>\n",
       "      <th>Marital_Status</th>\n",
       "      <th>Product_Category_1</th>\n",
       "      <th>Product_Category_2</th>\n",
       "      <th>Product_Category_3</th>\n",
       "    </tr>\n",
       "  </thead>\n",
       "  <tbody>\n",
       "    <tr>\n",
       "      <th>0</th>\n",
       "      <td>1000004</td>\n",
       "      <td>P00128942</td>\n",
       "      <td>M</td>\n",
       "      <td>46-50</td>\n",
       "      <td>7</td>\n",
       "      <td>B</td>\n",
       "      <td>2</td>\n",
       "      <td>1</td>\n",
       "      <td>1</td>\n",
       "      <td>11.0</td>\n",
       "      <td>NaN</td>\n",
       "    </tr>\n",
       "    <tr>\n",
       "      <th>1</th>\n",
       "      <td>1000009</td>\n",
       "      <td>P00113442</td>\n",
       "      <td>M</td>\n",
       "      <td>26-35</td>\n",
       "      <td>17</td>\n",
       "      <td>C</td>\n",
       "      <td>0</td>\n",
       "      <td>0</td>\n",
       "      <td>3</td>\n",
       "      <td>5.0</td>\n",
       "      <td>NaN</td>\n",
       "    </tr>\n",
       "    <tr>\n",
       "      <th>2</th>\n",
       "      <td>1000010</td>\n",
       "      <td>P00288442</td>\n",
       "      <td>F</td>\n",
       "      <td>36-45</td>\n",
       "      <td>1</td>\n",
       "      <td>B</td>\n",
       "      <td>4+</td>\n",
       "      <td>1</td>\n",
       "      <td>5</td>\n",
       "      <td>14.0</td>\n",
       "      <td>NaN</td>\n",
       "    </tr>\n",
       "    <tr>\n",
       "      <th>3</th>\n",
       "      <td>1000010</td>\n",
       "      <td>P00145342</td>\n",
       "      <td>F</td>\n",
       "      <td>36-45</td>\n",
       "      <td>1</td>\n",
       "      <td>B</td>\n",
       "      <td>4+</td>\n",
       "      <td>1</td>\n",
       "      <td>4</td>\n",
       "      <td>9.0</td>\n",
       "      <td>NaN</td>\n",
       "    </tr>\n",
       "    <tr>\n",
       "      <th>4</th>\n",
       "      <td>1000011</td>\n",
       "      <td>P00053842</td>\n",
       "      <td>F</td>\n",
       "      <td>26-35</td>\n",
       "      <td>1</td>\n",
       "      <td>C</td>\n",
       "      <td>1</td>\n",
       "      <td>0</td>\n",
       "      <td>4</td>\n",
       "      <td>5.0</td>\n",
       "      <td>12.0</td>\n",
       "    </tr>\n",
       "  </tbody>\n",
       "</table>\n",
       "</div>"
      ],
      "text/plain": [
       "   User_ID Product_ID Gender    Age  Occupation City_Category  \\\n",
       "0  1000004  P00128942      M  46-50           7             B   \n",
       "1  1000009  P00113442      M  26-35          17             C   \n",
       "2  1000010  P00288442      F  36-45           1             B   \n",
       "3  1000010  P00145342      F  36-45           1             B   \n",
       "4  1000011  P00053842      F  26-35           1             C   \n",
       "\n",
       "  Stay_In_Current_City_Years  Marital_Status  Product_Category_1  \\\n",
       "0                          2               1                   1   \n",
       "1                          0               0                   3   \n",
       "2                         4+               1                   5   \n",
       "3                         4+               1                   4   \n",
       "4                          1               0                   4   \n",
       "\n",
       "   Product_Category_2  Product_Category_3  \n",
       "0                11.0                 NaN  \n",
       "1                 5.0                 NaN  \n",
       "2                14.0                 NaN  \n",
       "3                 9.0                 NaN  \n",
       "4                 5.0                12.0  "
      ]
     },
     "execution_count": 110,
     "metadata": {},
     "output_type": "execute_result"
    }
   ],
   "source": [
    "test_set.head()"
   ]
  },
  {
   "cell_type": "code",
   "execution_count": 111,
   "metadata": {},
   "outputs": [
    {
     "name": "stdout",
     "output_type": "stream",
     "text": [
      "<class 'pandas.core.frame.DataFrame'>\n",
      "RangeIndex: 233599 entries, 0 to 233598\n",
      "Data columns (total 11 columns):\n",
      " #   Column                      Non-Null Count   Dtype  \n",
      "---  ------                      --------------   -----  \n",
      " 0   User_ID                     233599 non-null  int64  \n",
      " 1   Product_ID                  233599 non-null  object \n",
      " 2   Gender                      233599 non-null  object \n",
      " 3   Age                         233599 non-null  object \n",
      " 4   Occupation                  233599 non-null  int64  \n",
      " 5   City_Category               233599 non-null  object \n",
      " 6   Stay_In_Current_City_Years  233599 non-null  object \n",
      " 7   Marital_Status              233599 non-null  int64  \n",
      " 8   Product_Category_1          233599 non-null  int64  \n",
      " 9   Product_Category_2          161255 non-null  float64\n",
      " 10  Product_Category_3          71037 non-null   float64\n",
      "dtypes: float64(2), int64(4), object(5)\n",
      "memory usage: 19.6+ MB\n"
     ]
    }
   ],
   "source": [
    "test_set.info()"
   ]
  },
  {
   "cell_type": "code",
   "execution_count": 112,
   "metadata": {},
   "outputs": [],
   "source": [
    "ts_df1 = test_set.head(233599)"
   ]
  },
  {
   "cell_type": "code",
   "execution_count": 113,
   "metadata": {},
   "outputs": [
    {
     "name": "stdout",
     "output_type": "stream",
     "text": [
      "<class 'pandas.core.frame.DataFrame'>\n",
      "RangeIndex: 233599 entries, 0 to 233598\n",
      "Data columns (total 11 columns):\n",
      " #   Column                      Non-Null Count   Dtype  \n",
      "---  ------                      --------------   -----  \n",
      " 0   User_ID                     233599 non-null  int64  \n",
      " 1   Product_ID                  233599 non-null  object \n",
      " 2   Gender                      233599 non-null  object \n",
      " 3   Age                         233599 non-null  object \n",
      " 4   Occupation                  233599 non-null  int64  \n",
      " 5   City_Category               233599 non-null  object \n",
      " 6   Stay_In_Current_City_Years  233599 non-null  object \n",
      " 7   Marital_Status              233599 non-null  int64  \n",
      " 8   Product_Category_1          233599 non-null  int64  \n",
      " 9   Product_Category_2          161255 non-null  float64\n",
      " 10  Product_Category_3          71037 non-null   float64\n",
      "dtypes: float64(2), int64(4), object(5)\n",
      "memory usage: 19.6+ MB\n"
     ]
    }
   ],
   "source": [
    "ts_df1.info()"
   ]
  },
  {
   "cell_type": "code",
   "execution_count": 114,
   "metadata": {},
   "outputs": [],
   "source": [
    " #Repalcing the age 0-17 to 00-17 & 55+ to 55\n",
    "ts_df1['Age'] = ts_df1['Age'].replace('0-17', '00-17')\n",
    "ts_df1['Age'] = ts_df1['Age'].replace('55+', '55-55')\n",
    "ts_df1['Age1'] = ts_df1['Age'].str[0:2]\n",
    "ts_df1['Age2'] = ts_df1['Age'].str[3:5]\n",
    "#ts_df1['Age_avg'] = (ts_df1['Age1'] + ts_df1['Age2'])/2\n",
    "ts_df1['Age1'] = ts_df1['Age1'].astype(int)\n",
    "ts_df1['Age2'] = ts_df1['Age2'].astype(int)\n",
    "ts_df1['Age_avg'] = (ts_df1['Age1'] + ts_df1['Age2']) / 2\n",
    "#Remove unwanted features\n",
    "ts_df1 = ts_df1.drop(['Age','Age1', 'Age2'], axis = 1)\n",
    "#Let us replace the catagory 4+ to 4\n",
    "ts_df1['Stay_In_Current_City_Years'] = ts_df1['Stay_In_Current_City_Years'].replace('4+', '4')\n",
    "ts_df1['Stay_In_Current_City_Years'] = ts_df1['Stay_In_Current_City_Years'].astype(int)\n",
    "#Converting ProductId feature to int with suitable replacement\n",
    "ts_df1['Product_ID'] = ts_df1['Product_ID'].str[3:9]\n",
    "ts_df1['Product_ID'] = ts_df1['Product_ID'].astype(int)\n",
    "#Label Encoding\n",
    "ts_df1['Gender'] = le.fit_transform(ts_df1['Gender'])\n",
    "ts_df1['City_Category'] = le.fit_transform(ts_df1['City_Category'])"
   ]
  },
  {
   "cell_type": "code",
   "execution_count": 115,
   "metadata": {},
   "outputs": [
    {
     "data": {
      "text/html": [
       "<div>\n",
       "<style scoped>\n",
       "    .dataframe tbody tr th:only-of-type {\n",
       "        vertical-align: middle;\n",
       "    }\n",
       "\n",
       "    .dataframe tbody tr th {\n",
       "        vertical-align: top;\n",
       "    }\n",
       "\n",
       "    .dataframe thead th {\n",
       "        text-align: right;\n",
       "    }\n",
       "</style>\n",
       "<table border=\"1\" class=\"dataframe\">\n",
       "  <thead>\n",
       "    <tr style=\"text-align: right;\">\n",
       "      <th></th>\n",
       "      <th>User_ID</th>\n",
       "      <th>Product_ID</th>\n",
       "      <th>Gender</th>\n",
       "      <th>Occupation</th>\n",
       "      <th>City_Category</th>\n",
       "      <th>Stay_In_Current_City_Years</th>\n",
       "      <th>Marital_Status</th>\n",
       "      <th>Product_Category_1</th>\n",
       "      <th>Product_Category_2</th>\n",
       "      <th>Product_Category_3</th>\n",
       "      <th>Age_avg</th>\n",
       "    </tr>\n",
       "  </thead>\n",
       "  <tbody>\n",
       "    <tr>\n",
       "      <th>0</th>\n",
       "      <td>1000004</td>\n",
       "      <td>128942</td>\n",
       "      <td>1</td>\n",
       "      <td>7</td>\n",
       "      <td>1</td>\n",
       "      <td>2</td>\n",
       "      <td>1</td>\n",
       "      <td>1</td>\n",
       "      <td>11.0</td>\n",
       "      <td>NaN</td>\n",
       "      <td>48.0</td>\n",
       "    </tr>\n",
       "    <tr>\n",
       "      <th>1</th>\n",
       "      <td>1000009</td>\n",
       "      <td>113442</td>\n",
       "      <td>1</td>\n",
       "      <td>17</td>\n",
       "      <td>2</td>\n",
       "      <td>0</td>\n",
       "      <td>0</td>\n",
       "      <td>3</td>\n",
       "      <td>5.0</td>\n",
       "      <td>NaN</td>\n",
       "      <td>30.5</td>\n",
       "    </tr>\n",
       "    <tr>\n",
       "      <th>2</th>\n",
       "      <td>1000010</td>\n",
       "      <td>288442</td>\n",
       "      <td>0</td>\n",
       "      <td>1</td>\n",
       "      <td>1</td>\n",
       "      <td>4</td>\n",
       "      <td>1</td>\n",
       "      <td>5</td>\n",
       "      <td>14.0</td>\n",
       "      <td>NaN</td>\n",
       "      <td>40.5</td>\n",
       "    </tr>\n",
       "    <tr>\n",
       "      <th>3</th>\n",
       "      <td>1000010</td>\n",
       "      <td>145342</td>\n",
       "      <td>0</td>\n",
       "      <td>1</td>\n",
       "      <td>1</td>\n",
       "      <td>4</td>\n",
       "      <td>1</td>\n",
       "      <td>4</td>\n",
       "      <td>9.0</td>\n",
       "      <td>NaN</td>\n",
       "      <td>40.5</td>\n",
       "    </tr>\n",
       "    <tr>\n",
       "      <th>4</th>\n",
       "      <td>1000011</td>\n",
       "      <td>53842</td>\n",
       "      <td>0</td>\n",
       "      <td>1</td>\n",
       "      <td>2</td>\n",
       "      <td>1</td>\n",
       "      <td>0</td>\n",
       "      <td>4</td>\n",
       "      <td>5.0</td>\n",
       "      <td>12.0</td>\n",
       "      <td>30.5</td>\n",
       "    </tr>\n",
       "  </tbody>\n",
       "</table>\n",
       "</div>"
      ],
      "text/plain": [
       "   User_ID  Product_ID  Gender  Occupation  City_Category  \\\n",
       "0  1000004      128942       1           7              1   \n",
       "1  1000009      113442       1          17              2   \n",
       "2  1000010      288442       0           1              1   \n",
       "3  1000010      145342       0           1              1   \n",
       "4  1000011       53842       0           1              2   \n",
       "\n",
       "   Stay_In_Current_City_Years  Marital_Status  Product_Category_1  \\\n",
       "0                           2               1                   1   \n",
       "1                           0               0                   3   \n",
       "2                           4               1                   5   \n",
       "3                           4               1                   4   \n",
       "4                           1               0                   4   \n",
       "\n",
       "   Product_Category_2  Product_Category_3  Age_avg  \n",
       "0                11.0                 NaN     48.0  \n",
       "1                 5.0                 NaN     30.5  \n",
       "2                14.0                 NaN     40.5  \n",
       "3                 9.0                 NaN     40.5  \n",
       "4                 5.0                12.0     30.5  "
      ]
     },
     "execution_count": 115,
     "metadata": {},
     "output_type": "execute_result"
    }
   ],
   "source": [
    "ts_df1.head()"
   ]
  },
  {
   "cell_type": "code",
   "execution_count": 116,
   "metadata": {},
   "outputs": [
    {
     "name": "stdout",
     "output_type": "stream",
     "text": [
      "<class 'pandas.core.frame.DataFrame'>\n",
      "RangeIndex: 233599 entries, 0 to 233598\n",
      "Data columns (total 11 columns):\n",
      " #   Column                      Non-Null Count   Dtype  \n",
      "---  ------                      --------------   -----  \n",
      " 0   User_ID                     233599 non-null  int64  \n",
      " 1   Product_ID                  233599 non-null  int32  \n",
      " 2   Gender                      233599 non-null  int32  \n",
      " 3   Occupation                  233599 non-null  int64  \n",
      " 4   City_Category               233599 non-null  int32  \n",
      " 5   Stay_In_Current_City_Years  233599 non-null  int32  \n",
      " 6   Marital_Status              233599 non-null  int64  \n",
      " 7   Product_Category_1          233599 non-null  int64  \n",
      " 8   Product_Category_2          161255 non-null  float64\n",
      " 9   Product_Category_3          71037 non-null   float64\n",
      " 10  Age_avg                     233599 non-null  float64\n",
      "dtypes: float64(3), int32(4), int64(4)\n",
      "memory usage: 16.0 MB\n"
     ]
    }
   ],
   "source": [
    "ts_df1.info()"
   ]
  },
  {
   "cell_type": "code",
   "execution_count": 121,
   "metadata": {},
   "outputs": [
    {
     "data": {
      "text/plain": [
       "User_ID                            0\n",
       "Product_ID                         0\n",
       "Gender                             0\n",
       "Occupation                         0\n",
       "City_Category                      0\n",
       "Stay_In_Current_City_Years         0\n",
       "Marital_Status                     0\n",
       "Product_Category_1                 0\n",
       "Product_Category_2             72344\n",
       "Product_Category_3            162562\n",
       "Age_avg                            0\n",
       "dtype: int64"
      ]
     },
     "execution_count": 121,
     "metadata": {},
     "output_type": "execute_result"
    }
   ],
   "source": [
    "ts_df1.isnull().sum()"
   ]
  },
  {
   "cell_type": "code",
   "execution_count": 122,
   "metadata": {},
   "outputs": [],
   "source": [
    "ts_df1 = ts_df1.fillna(ts_df1.median())"
   ]
  },
  {
   "cell_type": "code",
   "execution_count": 123,
   "metadata": {},
   "outputs": [],
   "source": [
    "#Standaradizing the test_dataset\n",
    "test = scaler.transform(ts_df1)"
   ]
  },
  {
   "cell_type": "code",
   "execution_count": 124,
   "metadata": {},
   "outputs": [],
   "source": [
    "pred = stregr.predict(test)"
   ]
  },
  {
   "cell_type": "code",
   "execution_count": 125,
   "metadata": {},
   "outputs": [
    {
     "data": {
      "text/plain": [
       "array([13231.51305355, 10192.06974156,  5269.13588906, ...,\n",
       "       12065.75253093, 15567.35835276,  2805.61255253])"
      ]
     },
     "execution_count": 125,
     "metadata": {},
     "output_type": "execute_result"
    }
   ],
   "source": [
    "pred"
   ]
  },
  {
   "cell_type": "code",
   "execution_count": 126,
   "metadata": {},
   "outputs": [
    {
     "data": {
      "text/html": [
       "<div>\n",
       "<style scoped>\n",
       "    .dataframe tbody tr th:only-of-type {\n",
       "        vertical-align: middle;\n",
       "    }\n",
       "\n",
       "    .dataframe tbody tr th {\n",
       "        vertical-align: top;\n",
       "    }\n",
       "\n",
       "    .dataframe thead th {\n",
       "        text-align: right;\n",
       "    }\n",
       "</style>\n",
       "<table border=\"1\" class=\"dataframe\">\n",
       "  <thead>\n",
       "    <tr style=\"text-align: right;\">\n",
       "      <th></th>\n",
       "      <th>Purchase</th>\n",
       "    </tr>\n",
       "  </thead>\n",
       "  <tbody>\n",
       "    <tr>\n",
       "      <th>0</th>\n",
       "      <td>13231.513054</td>\n",
       "    </tr>\n",
       "    <tr>\n",
       "      <th>1</th>\n",
       "      <td>10192.069742</td>\n",
       "    </tr>\n",
       "    <tr>\n",
       "      <th>2</th>\n",
       "      <td>5269.135889</td>\n",
       "    </tr>\n",
       "    <tr>\n",
       "      <th>3</th>\n",
       "      <td>2381.899852</td>\n",
       "    </tr>\n",
       "    <tr>\n",
       "      <th>4</th>\n",
       "      <td>2756.339754</td>\n",
       "    </tr>\n",
       "  </tbody>\n",
       "</table>\n",
       "</div>"
      ],
      "text/plain": [
       "       Purchase\n",
       "0  13231.513054\n",
       "1  10192.069742\n",
       "2   5269.135889\n",
       "3   2381.899852\n",
       "4   2756.339754"
      ]
     },
     "execution_count": 126,
     "metadata": {},
     "output_type": "execute_result"
    }
   ],
   "source": [
    "#Converting to dataframe\n",
    "import pandas as pd\n",
    "predict = pd.DataFrame(pred, columns = ['Purchase'])\n",
    "predict.head()"
   ]
  },
  {
   "cell_type": "code",
   "execution_count": 127,
   "metadata": {},
   "outputs": [],
   "source": [
    "#Saving it in excel and csv formats\n",
    "predict.to_csv(\"Sales_Prediction.csv\")\n",
    "predict.to_excel(\"Sales_Prediction.xlsx\")"
   ]
  },
  {
   "cell_type": "code",
   "execution_count": null,
   "metadata": {},
   "outputs": [],
   "source": []
  }
 ],
 "metadata": {
  "kernelspec": {
   "display_name": "Python 3 (ipykernel)",
   "language": "python",
   "name": "python3"
  },
  "language_info": {
   "codemirror_mode": {
    "name": "ipython",
    "version": 3
   },
   "file_extension": ".py",
   "mimetype": "text/x-python",
   "name": "python",
   "nbconvert_exporter": "python",
   "pygments_lexer": "ipython3",
   "version": "3.7.11"
  }
 },
 "nbformat": 4,
 "nbformat_minor": 4
}
